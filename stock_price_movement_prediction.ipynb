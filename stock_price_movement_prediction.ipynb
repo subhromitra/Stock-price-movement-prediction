{
 "cells": [
  {
   "cell_type": "markdown",
   "metadata": {},
   "source": [
    "<h1 style=\"text-align:center;font-size:35px;\">Predicting stock price movements</h1>\n",
    "\n",
    "<br>\n",
    "\n",
    "**In this project I have dealt with the problem of predicting whether a stock's price would move up or down, i.e, a binary classification problem.**\n",
    "\n",
    "**The data used for this project is :-**\n",
    "\n",
    "- **Daily stock price data - OHLC, Adj Close etc**\n",
    "- **Daily Nifty50 index data**\n",
    "- **Daily BankNifty data (or sectorwise index data e.g : NiftyIT etc)**\n",
    "\n",
    "**I have collected all data using Yahoo Finance API.**"
   ]
  },
  {
   "cell_type": "markdown",
   "metadata": {},
   "source": [
    "## Importing necessary libraries"
   ]
  },
  {
   "cell_type": "code",
   "execution_count": 1,
   "metadata": {},
   "outputs": [
    {
     "name": "stderr",
     "output_type": "stream",
     "text": [
      "Using TensorFlow backend.\n"
     ]
    },
    {
     "data": {
      "text/plain": [
       "['/job:localhost/replica:0/task:0/device:GPU:0']"
      ]
     },
     "execution_count": 1,
     "metadata": {},
     "output_type": "execute_result"
    }
   ],
   "source": [
    "import os\n",
    "import time\n",
    "import datetime\n",
    "import numpy as np\n",
    "import pandas as pd\n",
    "# For seeing all columns\n",
    "pd.set_option('max_columns', None)\n",
    "\n",
    "# Visualization libraries\n",
    "import matplotlib.pyplot as plt\n",
    "import seaborn as sns\n",
    "\n",
    "# For dimensionality reduction\n",
    "from sklearn.decomposition import PCA\n",
    "from sklearn.manifold import TSNE\n",
    "\n",
    "# ML model classes\n",
    "from sklearn.linear_model import LogisticRegression\n",
    "from sklearn.neighbors import KNeighborsClassifier\n",
    "from sklearn.ensemble import RandomForestClassifier\n",
    "from keras.models import Sequential\n",
    "from keras.layers import Dense\n",
    "from keras.callbacks import ModelCheckpoint\n",
    "from keras import backend as K\n",
    "\n",
    "# For cross-validation\n",
    "from sklearn.model_selection import KFold\n",
    "from sklearn.model_selection import cross_val_score\n",
    "\n",
    "# For replication of results\n",
    "np.random.seed(2021)\n",
    "\n",
    "# Check whether machine has GPU\n",
    "K.tensorflow_backend._get_available_gpus()"
   ]
  },
  {
   "cell_type": "markdown",
   "metadata": {},
   "source": [
    "## Fetching historical data"
   ]
  },
  {
   "cell_type": "code",
   "execution_count": 2,
   "metadata": {},
   "outputs": [
    {
     "data": {
      "text/html": [
       "<div>\n",
       "<style scoped>\n",
       "    .dataframe tbody tr th:only-of-type {\n",
       "        vertical-align: middle;\n",
       "    }\n",
       "\n",
       "    .dataframe tbody tr th {\n",
       "        vertical-align: top;\n",
       "    }\n",
       "\n",
       "    .dataframe thead th {\n",
       "        text-align: right;\n",
       "    }\n",
       "</style>\n",
       "<table border=\"1\" class=\"dataframe\">\n",
       "  <thead>\n",
       "    <tr style=\"text-align: right;\">\n",
       "      <th></th>\n",
       "      <th>Date</th>\n",
       "      <th>High</th>\n",
       "      <th>Low</th>\n",
       "      <th>Open</th>\n",
       "      <th>Close</th>\n",
       "      <th>Volume</th>\n",
       "      <th>Adj Close</th>\n",
       "    </tr>\n",
       "  </thead>\n",
       "  <tbody>\n",
       "    <tr>\n",
       "      <th>0</th>\n",
       "      <td>2007-12-03</td>\n",
       "      <td>221.341003</td>\n",
       "      <td>217.755005</td>\n",
       "      <td>219.839996</td>\n",
       "      <td>219.345001</td>\n",
       "      <td>10122532.0</td>\n",
       "      <td>65.268867</td>\n",
       "    </tr>\n",
       "    <tr>\n",
       "      <th>1</th>\n",
       "      <td>2007-12-04</td>\n",
       "      <td>221.240997</td>\n",
       "      <td>217.199005</td>\n",
       "      <td>219.557007</td>\n",
       "      <td>218.406006</td>\n",
       "      <td>8591649.0</td>\n",
       "      <td>64.989471</td>\n",
       "    </tr>\n",
       "    <tr>\n",
       "      <th>2</th>\n",
       "      <td>2007-12-05</td>\n",
       "      <td>226.350998</td>\n",
       "      <td>218.080994</td>\n",
       "      <td>218.518997</td>\n",
       "      <td>224.983002</td>\n",
       "      <td>12728929.0</td>\n",
       "      <td>66.946533</td>\n",
       "    </tr>\n",
       "  </tbody>\n",
       "</table>\n",
       "</div>"
      ],
      "text/plain": [
       "         Date        High         Low        Open       Close      Volume  \\\n",
       "0  2007-12-03  221.341003  217.755005  219.839996  219.345001  10122532.0   \n",
       "1  2007-12-04  221.240997  217.199005  219.557007  218.406006   8591649.0   \n",
       "2  2007-12-05  226.350998  218.080994  218.518997  224.983002  12728929.0   \n",
       "\n",
       "   Adj Close  \n",
       "0  65.268867  \n",
       "1  64.989471  \n",
       "2  66.946533  "
      ]
     },
     "execution_count": 2,
     "metadata": {},
     "output_type": "execute_result"
    }
   ],
   "source": [
    "par_dir = r\"C:\\Users\\smitr\\Desktop\\FinPython\\data\\nifty50\"\n",
    "file_name = \"SBIN.csv\"\n",
    "full_file_path = os.path.join(par_dir, file_name)\n",
    "\n",
    "par_dir_nifty = r\"C:\\Users\\smitr\\Desktop\\FinPython\\data\"\n",
    "file_name = \"NIFTY_17Sep07_09Nov20.csv\"\n",
    "full_file_path_niftySpot = os.path.join(par_dir_nifty, file_name)\n",
    "\n",
    "file_name = \"NiftyBank_17Sep07_06Nov20.csv\"\n",
    "full_file_path_bankNftySpot = os.path.join(par_dir_nifty, file_name)\n",
    "\n",
    "df = pd.read_csv(full_file_path)\n",
    "df.head(3)"
   ]
  },
  {
   "cell_type": "code",
   "execution_count": 3,
   "metadata": {},
   "outputs": [],
   "source": [
    "def target_transform(x):\n",
    "    if x > 0:\n",
    "        return 1\n",
    "    else:\n",
    "        return 0"
   ]
  },
  {
   "cell_type": "code",
   "execution_count": 4,
   "metadata": {},
   "outputs": [
    {
     "data": {
      "text/html": [
       "<div>\n",
       "<style scoped>\n",
       "    .dataframe tbody tr th:only-of-type {\n",
       "        vertical-align: middle;\n",
       "    }\n",
       "\n",
       "    .dataframe tbody tr th {\n",
       "        vertical-align: top;\n",
       "    }\n",
       "\n",
       "    .dataframe thead th {\n",
       "        text-align: right;\n",
       "    }\n",
       "</style>\n",
       "<table border=\"1\" class=\"dataframe\">\n",
       "  <thead>\n",
       "    <tr style=\"text-align: right;\">\n",
       "      <th></th>\n",
       "      <th>Date</th>\n",
       "      <th>High</th>\n",
       "      <th>Low</th>\n",
       "      <th>Open</th>\n",
       "      <th>Close</th>\n",
       "      <th>Volume</th>\n",
       "      <th>Adj Close</th>\n",
       "      <th>return</th>\n",
       "      <th>ret_pct</th>\n",
       "      <th>Target</th>\n",
       "    </tr>\n",
       "  </thead>\n",
       "  <tbody>\n",
       "    <tr>\n",
       "      <th>0</th>\n",
       "      <td>2007-12-03</td>\n",
       "      <td>221.341003</td>\n",
       "      <td>217.755005</td>\n",
       "      <td>219.839996</td>\n",
       "      <td>219.345001</td>\n",
       "      <td>10122532.0</td>\n",
       "      <td>65.268867</td>\n",
       "      <td>0.494995</td>\n",
       "      <td>0.002252</td>\n",
       "      <td>1</td>\n",
       "    </tr>\n",
       "    <tr>\n",
       "      <th>1</th>\n",
       "      <td>2007-12-04</td>\n",
       "      <td>221.240997</td>\n",
       "      <td>217.199005</td>\n",
       "      <td>219.557007</td>\n",
       "      <td>218.406006</td>\n",
       "      <td>8591649.0</td>\n",
       "      <td>64.989471</td>\n",
       "      <td>1.151001</td>\n",
       "      <td>0.005242</td>\n",
       "      <td>1</td>\n",
       "    </tr>\n",
       "    <tr>\n",
       "      <th>2</th>\n",
       "      <td>2007-12-05</td>\n",
       "      <td>226.350998</td>\n",
       "      <td>218.080994</td>\n",
       "      <td>218.518997</td>\n",
       "      <td>224.983002</td>\n",
       "      <td>12728929.0</td>\n",
       "      <td>66.946533</td>\n",
       "      <td>-6.464005</td>\n",
       "      <td>-0.029581</td>\n",
       "      <td>0</td>\n",
       "    </tr>\n",
       "  </tbody>\n",
       "</table>\n",
       "</div>"
      ],
      "text/plain": [
       "         Date        High         Low        Open       Close      Volume  \\\n",
       "0  2007-12-03  221.341003  217.755005  219.839996  219.345001  10122532.0   \n",
       "1  2007-12-04  221.240997  217.199005  219.557007  218.406006   8591649.0   \n",
       "2  2007-12-05  226.350998  218.080994  218.518997  224.983002  12728929.0   \n",
       "\n",
       "   Adj Close    return   ret_pct  Target  \n",
       "0  65.268867  0.494995  0.002252       1  \n",
       "1  64.989471  1.151001  0.005242       1  \n",
       "2  66.946533 -6.464005 -0.029581       0  "
      ]
     },
     "execution_count": 4,
     "metadata": {},
     "output_type": "execute_result"
    }
   ],
   "source": [
    "df[\"return\"] = df[\"Open\"] - df[\"Close\"]\n",
    "df[\"ret_pct\"] = (df[\"Open\"] - df[\"Close\"]) / df[\"Open\"]\n",
    "df[\"Target\"] = df[\"return\"].apply(target_transform)\n",
    "df.head(3)"
   ]
  },
  {
   "cell_type": "markdown",
   "metadata": {},
   "source": [
    "## Exploratory data analysis :-\n",
    "\n",
    "<br>\n",
    "\n",
    "**This is done to know more about the nature of the data. I have also used it to find features which may be important for the prediction task.**"
   ]
  },
  {
   "cell_type": "code",
   "execution_count": 5,
   "metadata": {},
   "outputs": [],
   "source": [
    "df_cpy = df.copy()"
   ]
  },
  {
   "cell_type": "markdown",
   "metadata": {},
   "source": [
    "### i) Do we have balanced data ?"
   ]
  },
  {
   "cell_type": "code",
   "execution_count": 6,
   "metadata": {},
   "outputs": [
    {
     "data": {
      "text/plain": [
       "<matplotlib.axes._subplots.AxesSubplot at 0x19d90115b38>"
      ]
     },
     "execution_count": 6,
     "metadata": {},
     "output_type": "execute_result"
    },
    {
     "data": {
      "image/png": "[encoded data removed]",
      "text/plain": [
       "<Figure size 360x144 with 1 Axes>"
      ]
     },
     "metadata": {
      "needs_background": "light"
     },
     "output_type": "display_data"
    }
   ],
   "source": [
    "plt.figure(figsize=(5,2))\n",
    "sns.countplot(x=\"Target\", hue=\"Target\", data=df)"
   ]
  },
  {
   "cell_type": "markdown",
   "metadata": {},
   "source": [
    "**Observation :-** The data is almost balanced."
   ]
  },
  {
   "cell_type": "markdown",
   "metadata": {},
   "source": [
    "### ii) Can weekday be used as a feature ?\n",
    "\n",
    "**Would stock prices be affected if it is a Wednesday or Thursday ? ,i.e, here I want to find whether nature of weekday has any impact on stock prices.**"
   ]
  },
  {
   "cell_type": "code",
   "execution_count": 7,
   "metadata": {},
   "outputs": [],
   "source": [
    "def find_weekday_from_date(date):\n",
    "    \n",
    "    year, month, day = (int(i) for i in date.split('-'))\n",
    "    date = datetime.date(year, month, day)\n",
    "    \n",
    "    return date.strftime(\"%A\")"
   ]
  },
  {
   "cell_type": "code",
   "execution_count": 10,
   "metadata": {},
   "outputs": [
    {
     "data": {
      "text/plain": [
       "<matplotlib.axes._subplots.AxesSubplot at 0x135351ee828>"
      ]
     },
     "execution_count": 10,
     "metadata": {},
     "output_type": "execute_result"
    },
    {
     "data": {
      "image/png": "[encoded data removed]",
      "text/plain": [
       "<Figure size 720x360 with 1 Axes>"
      ]
     },
     "metadata": {
      "needs_background": "light"
     },
     "output_type": "display_data"
    }
   ],
   "source": [
    "df_cpy[\"WeekDay\"] = df_cpy[\"Date\"].apply(find_weekday_from_date)\n",
    "plt.figure(figsize=(10,5))\n",
    "sns.countplot(x=\"WeekDay\", hue=\"Target\", data=df_cpy)"
   ]
  },
  {
   "cell_type": "markdown",
   "metadata": {},
   "source": [
    "**Observation :-** All days have identical distribution, i.e, there is no day in which the difference between the target variables is highly significant. \n",
    "\n",
    "**Inference :-** Thus day of the week wont be an effective feature."
   ]
  },
  {
   "cell_type": "markdown",
   "metadata": {},
   "source": [
    "### iii) Can day of the month be used as a feature ?\n",
    "\n",
    "\n",
    "**Would stock prices be affected if it is 18th or 19th day of the month ? ,i.e, here I want to find whether nature of day of the month has any impact on stock prices.**"
   ]
  },
  {
   "cell_type": "code",
   "execution_count": 8,
   "metadata": {},
   "outputs": [],
   "source": [
    "def get_month_day(date):\n",
    "    return int(date.split(\"-\")[2])"
   ]
  },
  {
   "cell_type": "code",
   "execution_count": 9,
   "metadata": {},
   "outputs": [
    {
     "data": {
      "text/plain": [
       "<matplotlib.axes._subplots.AxesSubplot at 0x1d9c5e7f668>"
      ]
     },
     "execution_count": 9,
     "metadata": {},
     "output_type": "execute_result"
    },
    {
     "data": {
      "image/png": "[encoded data removed]",
      "text/plain": [
       "<Figure size 1080x360 with 1 Axes>"
      ]
     },
     "metadata": {
      "needs_background": "light"
     },
     "output_type": "display_data"
    }
   ],
   "source": [
    "df_cpy[\"MonthDay\"] = df_cpy[\"Date\"].apply(get_month_day)\n",
    "plt.figure(figsize=(15,5))\n",
    "sns.countplot(x=\"MonthDay\", hue=\"Target\", data=df_cpy)"
   ]
  },
  {
   "cell_type": "markdown",
   "metadata": {},
   "source": [
    "**Observation :-** This plot is more interesting, the distributions aren't identical & for some days we see high difference between the categories. E.g :- On 17th, 19th of every month, the stock moves up for significant no.of times. On 1st of every month the stock moves down most no.of times.\n",
    "\n",
    "**Inference :-** Thus, day of month can be used as a feature."
   ]
  },
  {
   "cell_type": "markdown",
   "metadata": {},
   "source": [
    "### iv) Can month be used as a feature ?"
   ]
  },
  {
   "cell_type": "code",
   "execution_count": 9,
   "metadata": {},
   "outputs": [],
   "source": [
    "def get_month(date):\n",
    "    return int(date.split(\"-\")[1])"
   ]
  },
  {
   "cell_type": "code",
   "execution_count": 11,
   "metadata": {},
   "outputs": [
    {
     "data": {
      "text/plain": [
       "<matplotlib.axes._subplots.AxesSubplot at 0x1d9cd59f320>"
      ]
     },
     "execution_count": 11,
     "metadata": {},
     "output_type": "execute_result"
    },
    {
     "data": {
      "image/png": "[encoded data removed]",
      "text/plain": [
       "<Figure size 864x360 with 1 Axes>"
      ]
     },
     "metadata": {
      "needs_background": "light"
     },
     "output_type": "display_data"
    }
   ],
   "source": [
    "df_cpy[\"Month\"] = df_cpy[\"Date\"].apply(get_month)\n",
    "plt.figure(figsize=(12,5))\n",
    "sns.countplot(x=\"Month\", hue=\"Target\", data=df_cpy)"
   ]
  },
  {
   "cell_type": "markdown",
   "metadata": {},
   "source": [
    "**Observation :-** This plot is also interesting, we have different distributions for different months, E.g:- In the month of January it is seen that the stock moves up quite significant no.of times.\n",
    "\n",
    "**Inference :-** Thus, month can be used as a feature."
   ]
  },
  {
   "cell_type": "markdown",
   "metadata": {},
   "source": [
    "### v) Does previous return affect today's return :-"
   ]
  },
  {
   "cell_type": "code",
   "execution_count": 12,
   "metadata": {},
   "outputs": [],
   "source": [
    "from statsmodels.graphics.tsaplots import plot_acf, plot_pacf"
   ]
  },
  {
   "cell_type": "code",
   "execution_count": 13,
   "metadata": {},
   "outputs": [
    {
     "data": {
      "image/png": "[encoded data removed]",
      "text/plain": [
       "<Figure size 432x288 with 1 Axes>"
      ]
     },
     "metadata": {
      "needs_background": "light"
     },
     "output_type": "display_data"
    }
   ],
   "source": [
    "pacf_plot = plot_pacf(df_cpy[\"return\"], lags=15)"
   ]
  },
  {
   "cell_type": "code",
   "execution_count": 14,
   "metadata": {},
   "outputs": [
    {
     "data": {
      "image/png": "[encoded data removed]",
      "text/plain": [
       "<Figure size 432x288 with 1 Axes>"
      ]
     },
     "metadata": {
      "needs_background": "light"
     },
     "output_type": "display_data"
    }
   ],
   "source": [
    "acf_plot = plot_acf(df_cpy[\"return\"], lags=15)"
   ]
  },
  {
   "cell_type": "code",
   "execution_count": null,
   "metadata": {},
   "outputs": [],
   "source": []
  },
  {
   "cell_type": "markdown",
   "metadata": {},
   "source": [
    "## vi) Can moving crossovers be used ?\n",
    "\n",
    "**Here I want to check whether previous day's difference between moving averages can give us any clue about any current price changes.**"
   ]
  },
  {
   "cell_type": "code",
   "execution_count": 3,
   "metadata": {},
   "outputs": [
    {
     "data": {
      "text/html": [
       "<div>\n",
       "<style scoped>\n",
       "    .dataframe tbody tr th:only-of-type {\n",
       "        vertical-align: middle;\n",
       "    }\n",
       "\n",
       "    .dataframe tbody tr th {\n",
       "        vertical-align: top;\n",
       "    }\n",
       "\n",
       "    .dataframe thead th {\n",
       "        text-align: right;\n",
       "    }\n",
       "</style>\n",
       "<table border=\"1\" class=\"dataframe\">\n",
       "  <thead>\n",
       "    <tr style=\"text-align: right;\">\n",
       "      <th></th>\n",
       "      <th>Date</th>\n",
       "      <th>High</th>\n",
       "      <th>Low</th>\n",
       "      <th>Open</th>\n",
       "      <th>Close</th>\n",
       "      <th>Volume</th>\n",
       "      <th>Adj Close</th>\n",
       "      <th>20ma</th>\n",
       "      <th>50ma</th>\n",
       "      <th>3ma</th>\n",
       "      <th>5ma</th>\n",
       "      <th>20_50_diff</th>\n",
       "      <th>3_5_diff</th>\n",
       "    </tr>\n",
       "  </thead>\n",
       "  <tbody>\n",
       "    <tr>\n",
       "      <th>0</th>\n",
       "      <td>2007-12-03</td>\n",
       "      <td>221.341003</td>\n",
       "      <td>217.755005</td>\n",
       "      <td>219.839996</td>\n",
       "      <td>219.345001</td>\n",
       "      <td>10122532.0</td>\n",
       "      <td>65.268867</td>\n",
       "      <td>NaN</td>\n",
       "      <td>NaN</td>\n",
       "      <td>NaN</td>\n",
       "      <td>NaN</td>\n",
       "      <td>NaN</td>\n",
       "      <td>NaN</td>\n",
       "    </tr>\n",
       "    <tr>\n",
       "      <th>1</th>\n",
       "      <td>2007-12-04</td>\n",
       "      <td>221.240997</td>\n",
       "      <td>217.199005</td>\n",
       "      <td>219.557007</td>\n",
       "      <td>218.406006</td>\n",
       "      <td>8591649.0</td>\n",
       "      <td>64.989471</td>\n",
       "      <td>NaN</td>\n",
       "      <td>NaN</td>\n",
       "      <td>NaN</td>\n",
       "      <td>NaN</td>\n",
       "      <td>NaN</td>\n",
       "      <td>NaN</td>\n",
       "    </tr>\n",
       "  </tbody>\n",
       "</table>\n",
       "</div>"
      ],
      "text/plain": [
       "         Date        High         Low        Open       Close      Volume  \\\n",
       "0  2007-12-03  221.341003  217.755005  219.839996  219.345001  10122532.0   \n",
       "1  2007-12-04  221.240997  217.199005  219.557007  218.406006   8591649.0   \n",
       "\n",
       "   Adj Close  20ma  50ma  3ma  5ma  20_50_diff  3_5_diff  \n",
       "0  65.268867   NaN   NaN  NaN  NaN         NaN       NaN  \n",
       "1  64.989471   NaN   NaN  NaN  NaN         NaN       NaN  "
      ]
     },
     "execution_count": 3,
     "metadata": {},
     "output_type": "execute_result"
    }
   ],
   "source": [
    "df_cpy['20ma'] = df_cpy['Close'].rolling(window=20, min_periods=20).mean()\n",
    "df_cpy['50ma'] = df_cpy['Close'].rolling(window=50, min_periods=50).mean()\n",
    "\n",
    "df_cpy['3ma'] = df_cpy['Close'].rolling(window=3, min_periods=3).mean()\n",
    "df_cpy['5ma'] = df_cpy['Close'].rolling(window=5, min_periods=5).mean()\n",
    "\n",
    "df_cpy['20_50_diff'] = df_cpy['20ma'] - df_cpy['50ma']\n",
    "df_cpy['3_5_diff'] = df_cpy['3ma'] - df_cpy['5ma']\n",
    "\n",
    "df_cpy.head(2)"
   ]
  },
  {
   "cell_type": "code",
   "execution_count": 10,
   "metadata": {},
   "outputs": [
    {
     "data": {
      "image/png": "[encoded data removed]",
      "text/plain": [
       "<Figure size 864x576 with 1 Axes>"
      ]
     },
     "metadata": {
      "needs_background": "light"
     },
     "output_type": "display_data"
    }
   ],
   "source": [
    "df_cpy[\"20_50_diff\"] = df_cpy[\"20_50_diff\"].shift(periods=1)\n",
    "df_cpy[\"3_5_diff\"] = df_cpy[\"3_5_diff\"].shift(periods=1)\n",
    "df_cpy[\"ret_pct\"] = df_cpy[\"ret_pct\"].shift(periods=1)\n",
    "df_cpy.dropna(inplace=True)\n",
    "\n",
    "plt.figure(figsize=(12,8))\n",
    "plt.scatter(df_cpy[\"20_50_diff\"].values[:1000], df_cpy[\"return\"].values[:1000])\n",
    "plt.xlabel(\"20-50 MA-difference\")\n",
    "plt.ylabel(\"Return\")\n",
    "plt.show()"
   ]
  },
  {
   "cell_type": "code",
   "execution_count": 11,
   "metadata": {},
   "outputs": [
    {
     "data": {
      "image/png": "[encoded data removed]",
      "text/plain": [
       "<Figure size 864x576 with 1 Axes>"
      ]
     },
     "metadata": {
      "needs_background": "light"
     },
     "output_type": "display_data"
    }
   ],
   "source": [
    "plt.figure(figsize=(12,8))\n",
    "plt.scatter(df_cpy[\"3_5_diff\"].values[:1000], df_cpy[\"return\"].values[:1000])\n",
    "plt.xlabel(\"3-5 MA-difference\")\n",
    "plt.ylabel(\"Return\")\n",
    "plt.show()"
   ]
  },
  {
   "cell_type": "markdown",
   "metadata": {},
   "source": [
    "**Observation :-** No interesting pattern noted.\n",
    "\n",
    "**Inference :-** This feature may not be so effective."
   ]
  },
  {
   "cell_type": "markdown",
   "metadata": {},
   "source": [
    "### vii) Using previous high & low :-\n",
    "\n",
    "I had created 2 features :-\n",
    "\n",
    "- **(Current open - Previous high)** :- If today's open is greater than previous high then it shows **positive sentiment** & might suggest that today's close will be higher than today's open.\n",
    "- **(Current open - Previous low)** :- If today's open is lesser than previous low then it shows **negative sentiment** & might suggest that today's close will be lower than today's open."
   ]
  },
  {
   "cell_type": "code",
   "execution_count": 10,
   "metadata": {},
   "outputs": [
    {
     "data": {
      "text/html": [
       "<div>\n",
       "<style scoped>\n",
       "    .dataframe tbody tr th:only-of-type {\n",
       "        vertical-align: middle;\n",
       "    }\n",
       "\n",
       "    .dataframe tbody tr th {\n",
       "        vertical-align: top;\n",
       "    }\n",
       "\n",
       "    .dataframe thead th {\n",
       "        text-align: right;\n",
       "    }\n",
       "</style>\n",
       "<table border=\"1\" class=\"dataframe\">\n",
       "  <thead>\n",
       "    <tr style=\"text-align: right;\">\n",
       "      <th></th>\n",
       "      <th>Date</th>\n",
       "      <th>High</th>\n",
       "      <th>Low</th>\n",
       "      <th>Open</th>\n",
       "      <th>Close</th>\n",
       "      <th>Volume</th>\n",
       "      <th>Adj Close</th>\n",
       "      <th>return</th>\n",
       "      <th>ret_pct</th>\n",
       "      <th>Target</th>\n",
       "      <th>hi_op_diff</th>\n",
       "      <th>lo_op_diff</th>\n",
       "    </tr>\n",
       "  </thead>\n",
       "  <tbody>\n",
       "    <tr>\n",
       "      <th>0</th>\n",
       "      <td>2007-12-03</td>\n",
       "      <td>221.341003</td>\n",
       "      <td>217.755005</td>\n",
       "      <td>219.839996</td>\n",
       "      <td>219.345001</td>\n",
       "      <td>10122532.0</td>\n",
       "      <td>65.268867</td>\n",
       "      <td>0.494995</td>\n",
       "      <td>0.002252</td>\n",
       "      <td>1</td>\n",
       "      <td>NaN</td>\n",
       "      <td>NaN</td>\n",
       "    </tr>\n",
       "    <tr>\n",
       "      <th>1</th>\n",
       "      <td>2007-12-04</td>\n",
       "      <td>221.240997</td>\n",
       "      <td>217.199005</td>\n",
       "      <td>219.557007</td>\n",
       "      <td>218.406006</td>\n",
       "      <td>8591649.0</td>\n",
       "      <td>64.989471</td>\n",
       "      <td>1.151001</td>\n",
       "      <td>0.005242</td>\n",
       "      <td>1</td>\n",
       "      <td>-1.783997</td>\n",
       "      <td>1.802002</td>\n",
       "    </tr>\n",
       "  </tbody>\n",
       "</table>\n",
       "</div>"
      ],
      "text/plain": [
       "         Date        High         Low        Open       Close      Volume  \\\n",
       "0  2007-12-03  221.341003  217.755005  219.839996  219.345001  10122532.0   \n",
       "1  2007-12-04  221.240997  217.199005  219.557007  218.406006   8591649.0   \n",
       "\n",
       "   Adj Close    return   ret_pct  Target  hi_op_diff  lo_op_diff  \n",
       "0  65.268867  0.494995  0.002252       1         NaN         NaN  \n",
       "1  64.989471  1.151001  0.005242       1   -1.783997    1.802002  "
      ]
     },
     "execution_count": 10,
     "metadata": {},
     "output_type": "execute_result"
    }
   ],
   "source": [
    "# Previous high - Current open\n",
    "df_cpy[\"hi_op_diff\"] = df_cpy[\"Open\"] - df_cpy[\"High\"].shift(periods=1)\n",
    "# Previous low - Current open\n",
    "df_cpy[\"lo_op_diff\"] = df_cpy[\"Open\"] - df_cpy[\"Low\"].shift(periods=1)\n",
    "\n",
    "df_cpy.head(2)"
   ]
  },
  {
   "cell_type": "code",
   "execution_count": 11,
   "metadata": {},
   "outputs": [
    {
     "data": {
      "image/png": "[encoded data removed]",
      "text/plain": [
       "<Figure size 864x576 with 1 Axes>"
      ]
     },
     "metadata": {
      "needs_background": "light"
     },
     "output_type": "display_data"
    }
   ],
   "source": [
    "plt.figure(figsize=(12,8))\n",
    "plt.scatter(df_cpy[\"hi_op_diff\"].values[1:1000], df_cpy[\"return\"].values[1:1000])\n",
    "plt.axvline(x = 0, color = 'r', label = 'axvline - full height')\n",
    "plt.axhline(y = 0, color = 'r', linestyle = '-') \n",
    "plt.xlabel(\"Prev high & Current open difference\")\n",
    "plt.ylabel(\"Return\")\n",
    "plt.show()"
   ]
  },
  {
   "cell_type": "markdown",
   "metadata": {},
   "source": [
    "**Observation :-** The two red lines in the above plot have divided it into 4 parts :- \n",
    "\n",
    "- **Lower left :-** The datapoints here show that the day started & ended negatively.\n",
    "- **Upper left :-** The datapoints here show an anomaly.\n",
    "- **Lower right :-** The datapoints here show an anomaly.\n",
    "- **Upper right :-** The datapoints here show that the day started & ended positively.\n",
    "\n",
    "**Inference :-** This also wouldn't be an effective feature."
   ]
  },
  {
   "cell_type": "code",
   "execution_count": 12,
   "metadata": {},
   "outputs": [
    {
     "data": {
      "image/png": "[encoded data removed]",
      "text/plain": [
       "<Figure size 864x576 with 1 Axes>"
      ]
     },
     "metadata": {
      "needs_background": "light"
     },
     "output_type": "display_data"
    }
   ],
   "source": [
    "plt.figure(figsize=(12,8))\n",
    "plt.scatter(df_cpy[\"lo_op_diff\"].values[1:1000], df_cpy[\"return\"].values[1:1000])\n",
    "plt.axvline(x = 0, color = 'r', label = 'axvline - full height')\n",
    "plt.axhline(y = 0, color = 'r', linestyle = '-')\n",
    "plt.xlabel(\"Prev low & Current open difference\")\n",
    "plt.ylabel(\"Return\")\n",
    "plt.show()"
   ]
  },
  {
   "cell_type": "markdown",
   "metadata": {},
   "source": [
    "## Feature Engineering :-\n",
    "\n",
    "<br>\n",
    "\n",
    "**I plan to use 5 features for the prediction task :-**\n",
    "\n",
    "- **Stock gap :-** (Previous day's close - Today's open)\n",
    "- **Nifty50 index gap :-** (Previous day's close spot - Today's open spot price)\n",
    "- **BankNifty index (or sectorwise index) gap :-** (Previous day's close spot - Today's open spot price)\n",
    "- **Day of the month :-** Encoding day of the month using some technique.\n",
    "- **Month :-** Encoding month using some technique."
   ]
  },
  {
   "cell_type": "code",
   "execution_count": 7,
   "metadata": {},
   "outputs": [
    {
     "data": {
      "text/html": [
       "<div>\n",
       "<style scoped>\n",
       "    .dataframe tbody tr th:only-of-type {\n",
       "        vertical-align: middle;\n",
       "    }\n",
       "\n",
       "    .dataframe tbody tr th {\n",
       "        vertical-align: top;\n",
       "    }\n",
       "\n",
       "    .dataframe thead th {\n",
       "        text-align: right;\n",
       "    }\n",
       "</style>\n",
       "<table border=\"1\" class=\"dataframe\">\n",
       "  <thead>\n",
       "    <tr style=\"text-align: right;\">\n",
       "      <th></th>\n",
       "      <th>Date</th>\n",
       "      <th>High</th>\n",
       "      <th>Low</th>\n",
       "      <th>Open</th>\n",
       "      <th>Close</th>\n",
       "      <th>Volume</th>\n",
       "      <th>Adj Close</th>\n",
       "      <th>return</th>\n",
       "      <th>ret_pct</th>\n",
       "      <th>Target</th>\n",
       "      <th>Stock_gap</th>\n",
       "      <th>MonthDay</th>\n",
       "      <th>Month</th>\n",
       "      <th>NiftySpot_gap</th>\n",
       "      <th>BankNiftySpot_gap</th>\n",
       "    </tr>\n",
       "  </thead>\n",
       "  <tbody>\n",
       "    <tr>\n",
       "      <th>1</th>\n",
       "      <td>2007-12-04</td>\n",
       "      <td>221.240997</td>\n",
       "      <td>217.199005</td>\n",
       "      <td>219.557007</td>\n",
       "      <td>218.406006</td>\n",
       "      <td>8591649.0</td>\n",
       "      <td>64.989471</td>\n",
       "      <td>1.151001</td>\n",
       "      <td>0.005242</td>\n",
       "      <td>1</td>\n",
       "      <td>0.212006</td>\n",
       "      <td>4</td>\n",
       "      <td>12</td>\n",
       "      <td>5.200195</td>\n",
       "      <td>6.600586</td>\n",
       "    </tr>\n",
       "    <tr>\n",
       "      <th>2</th>\n",
       "      <td>2007-12-05</td>\n",
       "      <td>226.350998</td>\n",
       "      <td>218.080994</td>\n",
       "      <td>218.518997</td>\n",
       "      <td>224.983002</td>\n",
       "      <td>12728929.0</td>\n",
       "      <td>66.946533</td>\n",
       "      <td>-6.464005</td>\n",
       "      <td>-0.029581</td>\n",
       "      <td>0</td>\n",
       "      <td>0.112991</td>\n",
       "      <td>5</td>\n",
       "      <td>12</td>\n",
       "      <td>3.549805</td>\n",
       "      <td>6.350586</td>\n",
       "    </tr>\n",
       "    <tr>\n",
       "      <th>3</th>\n",
       "      <td>2007-12-06</td>\n",
       "      <td>229.917007</td>\n",
       "      <td>224.464005</td>\n",
       "      <td>226.445007</td>\n",
       "      <td>226.024994</td>\n",
       "      <td>10837323.0</td>\n",
       "      <td>67.256592</td>\n",
       "      <td>0.420013</td>\n",
       "      <td>0.001855</td>\n",
       "      <td>1</td>\n",
       "      <td>1.462006</td>\n",
       "      <td>6</td>\n",
       "      <td>12</td>\n",
       "      <td>1.049805</td>\n",
       "      <td>63.500000</td>\n",
       "    </tr>\n",
       "    <tr>\n",
       "      <th>4</th>\n",
       "      <td>2007-12-07</td>\n",
       "      <td>231.889008</td>\n",
       "      <td>225.501007</td>\n",
       "      <td>228.785004</td>\n",
       "      <td>229.822998</td>\n",
       "      <td>10566995.0</td>\n",
       "      <td>68.386726</td>\n",
       "      <td>-1.037994</td>\n",
       "      <td>-0.004537</td>\n",
       "      <td>0</td>\n",
       "      <td>2.760010</td>\n",
       "      <td>7</td>\n",
       "      <td>12</td>\n",
       "      <td>8.899902</td>\n",
       "      <td>57.699219</td>\n",
       "    </tr>\n",
       "    <tr>\n",
       "      <th>5</th>\n",
       "      <td>2007-12-10</td>\n",
       "      <td>231.960007</td>\n",
       "      <td>227.860001</td>\n",
       "      <td>229.841995</td>\n",
       "      <td>228.893005</td>\n",
       "      <td>5373405.0</td>\n",
       "      <td>68.110001</td>\n",
       "      <td>0.948990</td>\n",
       "      <td>0.004129</td>\n",
       "      <td>1</td>\n",
       "      <td>0.018997</td>\n",
       "      <td>10</td>\n",
       "      <td>12</td>\n",
       "      <td>-0.299805</td>\n",
       "      <td>4.100586</td>\n",
       "    </tr>\n",
       "  </tbody>\n",
       "</table>\n",
       "</div>"
      ],
      "text/plain": [
       "         Date        High         Low        Open       Close      Volume  \\\n",
       "1  2007-12-04  221.240997  217.199005  219.557007  218.406006   8591649.0   \n",
       "2  2007-12-05  226.350998  218.080994  218.518997  224.983002  12728929.0   \n",
       "3  2007-12-06  229.917007  224.464005  226.445007  226.024994  10837323.0   \n",
       "4  2007-12-07  231.889008  225.501007  228.785004  229.822998  10566995.0   \n",
       "5  2007-12-10  231.960007  227.860001  229.841995  228.893005   5373405.0   \n",
       "\n",
       "   Adj Close    return   ret_pct  Target  Stock_gap  MonthDay  Month  \\\n",
       "1  64.989471  1.151001  0.005242       1   0.212006         4     12   \n",
       "2  66.946533 -6.464005 -0.029581       0   0.112991         5     12   \n",
       "3  67.256592  0.420013  0.001855       1   1.462006         6     12   \n",
       "4  68.386726 -1.037994 -0.004537       0   2.760010         7     12   \n",
       "5  68.110001  0.948990  0.004129       1   0.018997        10     12   \n",
       "\n",
       "   NiftySpot_gap  BankNiftySpot_gap  \n",
       "1       5.200195           6.600586  \n",
       "2       3.549805           6.350586  \n",
       "3       1.049805          63.500000  \n",
       "4       8.899902          57.699219  \n",
       "5      -0.299805           4.100586  "
      ]
     },
     "execution_count": 7,
     "metadata": {},
     "output_type": "execute_result"
    }
   ],
   "source": [
    "# Gap up/down of stock price gives a view about current sentiment regarding stock\n",
    "df[\"Stock_gap\"] = df[\"Open\"] - df[\"Close\"].shift(periods=1)\n",
    "#df[\"prev3_Target\"] = df[\"Target\"].shift(periods=3)\n",
    "\n",
    "# Using day of month as a feature\n",
    "df[\"MonthDay\"] = df[\"Date\"].apply(get_month_day)\n",
    "\n",
    "# Using month as a feature\n",
    "df[\"Month\"] = df[\"Date\"].apply(get_month)\n",
    "\n",
    "# Nifty spot gap up/down\n",
    "df_nfty_spot = pd.read_csv(full_file_path_niftySpot)\n",
    "df_nfty_spot[\"NiftySpot_gap\"] = df_nfty_spot[\"Open\"] - df_nfty_spot[\"Close\"].shift(periods=1)\n",
    "\n",
    "# Sector-wise gap up/down\n",
    "df_bankNfty_spot = pd.read_csv(full_file_path_bankNftySpot)\n",
    "df_bankNfty_spot[\"BankNiftySpot_gap\"] = df_bankNfty_spot[\"Open\"] - df_bankNfty_spot[\"Close\"].shift(periods=1)\n",
    "\n",
    "# Merging data frames\n",
    "df = pd.merge(df, df_nfty_spot[[\"Date\", \"NiftySpot_gap\"]], on=\"Date\")\n",
    "df = pd.merge(df, df_bankNfty_spot[[\"Date\", \"BankNiftySpot_gap\"]], on=\"Date\")\n",
    "\n",
    "# Dropping rows with NaN values\n",
    "df.dropna(inplace=True)\n",
    "\n",
    "df.head()"
   ]
  },
  {
   "cell_type": "markdown",
   "metadata": {},
   "source": [
    "### i) Encoding categorical variables :-\n",
    "\n",
    "There are two techniques that I have tried out here :-\n",
    "\n",
    "- **One hot encoding**\n",
    "- **Mean encoding**\n",
    "\n",
    "**Observation :-** I have got slightly better results using mean-encoding."
   ]
  },
  {
   "cell_type": "markdown",
   "metadata": {},
   "source": [
    "#### One Hot Encoding :-"
   ]
  },
  {
   "cell_type": "code",
   "execution_count": 10,
   "metadata": {},
   "outputs": [
    {
     "data": {
      "text/html": [
       "<div>\n",
       "<style scoped>\n",
       "    .dataframe tbody tr th:only-of-type {\n",
       "        vertical-align: middle;\n",
       "    }\n",
       "\n",
       "    .dataframe tbody tr th {\n",
       "        vertical-align: top;\n",
       "    }\n",
       "\n",
       "    .dataframe thead th {\n",
       "        text-align: right;\n",
       "    }\n",
       "</style>\n",
       "<table border=\"1\" class=\"dataframe\">\n",
       "  <thead>\n",
       "    <tr style=\"text-align: right;\">\n",
       "      <th></th>\n",
       "      <th>Date</th>\n",
       "      <th>High</th>\n",
       "      <th>Low</th>\n",
       "      <th>Open</th>\n",
       "      <th>Close</th>\n",
       "      <th>Volume</th>\n",
       "      <th>Adj Close</th>\n",
       "      <th>return</th>\n",
       "      <th>Target</th>\n",
       "      <th>Stock_gap</th>\n",
       "      <th>MonthDay</th>\n",
       "      <th>Month</th>\n",
       "      <th>NiftySpot_gap</th>\n",
       "      <th>BankNiftySpot_gap</th>\n",
       "      <th>D1</th>\n",
       "      <th>D2</th>\n",
       "      <th>D3</th>\n",
       "      <th>D4</th>\n",
       "      <th>D5</th>\n",
       "      <th>D6</th>\n",
       "      <th>D7</th>\n",
       "      <th>D8</th>\n",
       "      <th>D9</th>\n",
       "      <th>D10</th>\n",
       "      <th>D11</th>\n",
       "      <th>D12</th>\n",
       "      <th>D13</th>\n",
       "      <th>D14</th>\n",
       "      <th>D15</th>\n",
       "      <th>D16</th>\n",
       "      <th>D17</th>\n",
       "      <th>D18</th>\n",
       "      <th>D19</th>\n",
       "      <th>D20</th>\n",
       "      <th>D21</th>\n",
       "      <th>D22</th>\n",
       "      <th>D23</th>\n",
       "      <th>D24</th>\n",
       "      <th>D25</th>\n",
       "      <th>D26</th>\n",
       "      <th>D27</th>\n",
       "      <th>D28</th>\n",
       "      <th>D29</th>\n",
       "      <th>D30</th>\n",
       "    </tr>\n",
       "  </thead>\n",
       "  <tbody>\n",
       "    <tr>\n",
       "      <th>1</th>\n",
       "      <td>2007-12-04</td>\n",
       "      <td>221.240997</td>\n",
       "      <td>217.199005</td>\n",
       "      <td>219.557007</td>\n",
       "      <td>218.406006</td>\n",
       "      <td>8591649.0</td>\n",
       "      <td>64.989471</td>\n",
       "      <td>1.151001</td>\n",
       "      <td>1</td>\n",
       "      <td>0.212006</td>\n",
       "      <td>4</td>\n",
       "      <td>12</td>\n",
       "      <td>5.200195</td>\n",
       "      <td>6.600586</td>\n",
       "      <td>0</td>\n",
       "      <td>0</td>\n",
       "      <td>0</td>\n",
       "      <td>1</td>\n",
       "      <td>0</td>\n",
       "      <td>0</td>\n",
       "      <td>0</td>\n",
       "      <td>0</td>\n",
       "      <td>0</td>\n",
       "      <td>0</td>\n",
       "      <td>0</td>\n",
       "      <td>0</td>\n",
       "      <td>0</td>\n",
       "      <td>0</td>\n",
       "      <td>0</td>\n",
       "      <td>0</td>\n",
       "      <td>0</td>\n",
       "      <td>0</td>\n",
       "      <td>0</td>\n",
       "      <td>0</td>\n",
       "      <td>0</td>\n",
       "      <td>0</td>\n",
       "      <td>0</td>\n",
       "      <td>0</td>\n",
       "      <td>0</td>\n",
       "      <td>0</td>\n",
       "      <td>0</td>\n",
       "      <td>0</td>\n",
       "      <td>0</td>\n",
       "      <td>0</td>\n",
       "    </tr>\n",
       "    <tr>\n",
       "      <th>2</th>\n",
       "      <td>2007-12-05</td>\n",
       "      <td>226.350998</td>\n",
       "      <td>218.080994</td>\n",
       "      <td>218.518997</td>\n",
       "      <td>224.983002</td>\n",
       "      <td>12728929.0</td>\n",
       "      <td>66.946533</td>\n",
       "      <td>-6.464005</td>\n",
       "      <td>0</td>\n",
       "      <td>0.112991</td>\n",
       "      <td>5</td>\n",
       "      <td>12</td>\n",
       "      <td>3.549805</td>\n",
       "      <td>6.350586</td>\n",
       "      <td>0</td>\n",
       "      <td>0</td>\n",
       "      <td>0</td>\n",
       "      <td>0</td>\n",
       "      <td>1</td>\n",
       "      <td>0</td>\n",
       "      <td>0</td>\n",
       "      <td>0</td>\n",
       "      <td>0</td>\n",
       "      <td>0</td>\n",
       "      <td>0</td>\n",
       "      <td>0</td>\n",
       "      <td>0</td>\n",
       "      <td>0</td>\n",
       "      <td>0</td>\n",
       "      <td>0</td>\n",
       "      <td>0</td>\n",
       "      <td>0</td>\n",
       "      <td>0</td>\n",
       "      <td>0</td>\n",
       "      <td>0</td>\n",
       "      <td>0</td>\n",
       "      <td>0</td>\n",
       "      <td>0</td>\n",
       "      <td>0</td>\n",
       "      <td>0</td>\n",
       "      <td>0</td>\n",
       "      <td>0</td>\n",
       "      <td>0</td>\n",
       "      <td>0</td>\n",
       "    </tr>\n",
       "  </tbody>\n",
       "</table>\n",
       "</div>"
      ],
      "text/plain": [
       "         Date        High         Low        Open       Close      Volume  \\\n",
       "1  2007-12-04  221.240997  217.199005  219.557007  218.406006   8591649.0   \n",
       "2  2007-12-05  226.350998  218.080994  218.518997  224.983002  12728929.0   \n",
       "\n",
       "   Adj Close    return  Target  Stock_gap  MonthDay  Month  NiftySpot_gap  \\\n",
       "1  64.989471  1.151001       1   0.212006         4     12       5.200195   \n",
       "2  66.946533 -6.464005       0   0.112991         5     12       3.549805   \n",
       "\n",
       "   BankNiftySpot_gap  D1  D2  D3  D4  D5  D6  D7  D8  D9  D10  D11  D12  D13  \\\n",
       "1           6.600586   0   0   0   1   0   0   0   0   0    0    0    0    0   \n",
       "2           6.350586   0   0   0   0   1   0   0   0   0    0    0    0    0   \n",
       "\n",
       "   D14  D15  D16  D17  D18  D19  D20  D21  D22  D23  D24  D25  D26  D27  D28  \\\n",
       "1    0    0    0    0    0    0    0    0    0    0    0    0    0    0    0   \n",
       "2    0    0    0    0    0    0    0    0    0    0    0    0    0    0    0   \n",
       "\n",
       "   D29  D30  \n",
       "1    0    0  \n",
       "2    0    0  "
      ]
     },
     "execution_count": 10,
     "metadata": {},
     "output_type": "execute_result"
    }
   ],
   "source": [
    "#mnthDay_one_hot = pd.get_dummies(df[\"MonthDay\"])\n",
    "#mnthDay_one_hot.drop([31], axis=1, inplace=True)\n",
    "#df = pd.concat([df, mnthDay_one_hot], axis=1)\n",
    "\n",
    "#new_cols = {i:\"D{}\".format(i) for i in range(1,31)}\n",
    "#df.rename(columns = new_cols, inplace = True)\n",
    "\n",
    "#df.head(2)"
   ]
  },
  {
   "cell_type": "code",
   "execution_count": 11,
   "metadata": {},
   "outputs": [
    {
     "data": {
      "text/html": [
       "<div>\n",
       "<style scoped>\n",
       "    .dataframe tbody tr th:only-of-type {\n",
       "        vertical-align: middle;\n",
       "    }\n",
       "\n",
       "    .dataframe tbody tr th {\n",
       "        vertical-align: top;\n",
       "    }\n",
       "\n",
       "    .dataframe thead th {\n",
       "        text-align: right;\n",
       "    }\n",
       "</style>\n",
       "<table border=\"1\" class=\"dataframe\">\n",
       "  <thead>\n",
       "    <tr style=\"text-align: right;\">\n",
       "      <th></th>\n",
       "      <th>Date</th>\n",
       "      <th>High</th>\n",
       "      <th>Low</th>\n",
       "      <th>Open</th>\n",
       "      <th>Close</th>\n",
       "      <th>Volume</th>\n",
       "      <th>Adj Close</th>\n",
       "      <th>return</th>\n",
       "      <th>Target</th>\n",
       "      <th>Stock_gap</th>\n",
       "      <th>MonthDay</th>\n",
       "      <th>Month</th>\n",
       "      <th>NiftySpot_gap</th>\n",
       "      <th>BankNiftySpot_gap</th>\n",
       "      <th>D1</th>\n",
       "      <th>D2</th>\n",
       "      <th>D3</th>\n",
       "      <th>D4</th>\n",
       "      <th>D5</th>\n",
       "      <th>D6</th>\n",
       "      <th>D7</th>\n",
       "      <th>D8</th>\n",
       "      <th>D9</th>\n",
       "      <th>D10</th>\n",
       "      <th>D11</th>\n",
       "      <th>D12</th>\n",
       "      <th>D13</th>\n",
       "      <th>D14</th>\n",
       "      <th>D15</th>\n",
       "      <th>D16</th>\n",
       "      <th>D17</th>\n",
       "      <th>D18</th>\n",
       "      <th>D19</th>\n",
       "      <th>D20</th>\n",
       "      <th>D21</th>\n",
       "      <th>D22</th>\n",
       "      <th>D23</th>\n",
       "      <th>D24</th>\n",
       "      <th>D25</th>\n",
       "      <th>D26</th>\n",
       "      <th>D27</th>\n",
       "      <th>D28</th>\n",
       "      <th>D29</th>\n",
       "      <th>D30</th>\n",
       "      <th>M1</th>\n",
       "      <th>M2</th>\n",
       "      <th>M3</th>\n",
       "      <th>M4</th>\n",
       "      <th>M5</th>\n",
       "      <th>M6</th>\n",
       "      <th>M7</th>\n",
       "      <th>M8</th>\n",
       "      <th>M9</th>\n",
       "      <th>M10</th>\n",
       "      <th>M11</th>\n",
       "    </tr>\n",
       "  </thead>\n",
       "  <tbody>\n",
       "    <tr>\n",
       "      <th>1</th>\n",
       "      <td>2007-12-04</td>\n",
       "      <td>221.240997</td>\n",
       "      <td>217.199005</td>\n",
       "      <td>219.557007</td>\n",
       "      <td>218.406006</td>\n",
       "      <td>8591649.0</td>\n",
       "      <td>64.989471</td>\n",
       "      <td>1.151001</td>\n",
       "      <td>1</td>\n",
       "      <td>0.212006</td>\n",
       "      <td>4</td>\n",
       "      <td>12</td>\n",
       "      <td>5.200195</td>\n",
       "      <td>6.600586</td>\n",
       "      <td>0</td>\n",
       "      <td>0</td>\n",
       "      <td>0</td>\n",
       "      <td>1</td>\n",
       "      <td>0</td>\n",
       "      <td>0</td>\n",
       "      <td>0</td>\n",
       "      <td>0</td>\n",
       "      <td>0</td>\n",
       "      <td>0</td>\n",
       "      <td>0</td>\n",
       "      <td>0</td>\n",
       "      <td>0</td>\n",
       "      <td>0</td>\n",
       "      <td>0</td>\n",
       "      <td>0</td>\n",
       "      <td>0</td>\n",
       "      <td>0</td>\n",
       "      <td>0</td>\n",
       "      <td>0</td>\n",
       "      <td>0</td>\n",
       "      <td>0</td>\n",
       "      <td>0</td>\n",
       "      <td>0</td>\n",
       "      <td>0</td>\n",
       "      <td>0</td>\n",
       "      <td>0</td>\n",
       "      <td>0</td>\n",
       "      <td>0</td>\n",
       "      <td>0</td>\n",
       "      <td>0</td>\n",
       "      <td>0</td>\n",
       "      <td>0</td>\n",
       "      <td>0</td>\n",
       "      <td>0</td>\n",
       "      <td>0</td>\n",
       "      <td>0</td>\n",
       "      <td>0</td>\n",
       "      <td>0</td>\n",
       "      <td>0</td>\n",
       "      <td>0</td>\n",
       "    </tr>\n",
       "    <tr>\n",
       "      <th>2</th>\n",
       "      <td>2007-12-05</td>\n",
       "      <td>226.350998</td>\n",
       "      <td>218.080994</td>\n",
       "      <td>218.518997</td>\n",
       "      <td>224.983002</td>\n",
       "      <td>12728929.0</td>\n",
       "      <td>66.946533</td>\n",
       "      <td>-6.464005</td>\n",
       "      <td>0</td>\n",
       "      <td>0.112991</td>\n",
       "      <td>5</td>\n",
       "      <td>12</td>\n",
       "      <td>3.549805</td>\n",
       "      <td>6.350586</td>\n",
       "      <td>0</td>\n",
       "      <td>0</td>\n",
       "      <td>0</td>\n",
       "      <td>0</td>\n",
       "      <td>1</td>\n",
       "      <td>0</td>\n",
       "      <td>0</td>\n",
       "      <td>0</td>\n",
       "      <td>0</td>\n",
       "      <td>0</td>\n",
       "      <td>0</td>\n",
       "      <td>0</td>\n",
       "      <td>0</td>\n",
       "      <td>0</td>\n",
       "      <td>0</td>\n",
       "      <td>0</td>\n",
       "      <td>0</td>\n",
       "      <td>0</td>\n",
       "      <td>0</td>\n",
       "      <td>0</td>\n",
       "      <td>0</td>\n",
       "      <td>0</td>\n",
       "      <td>0</td>\n",
       "      <td>0</td>\n",
       "      <td>0</td>\n",
       "      <td>0</td>\n",
       "      <td>0</td>\n",
       "      <td>0</td>\n",
       "      <td>0</td>\n",
       "      <td>0</td>\n",
       "      <td>0</td>\n",
       "      <td>0</td>\n",
       "      <td>0</td>\n",
       "      <td>0</td>\n",
       "      <td>0</td>\n",
       "      <td>0</td>\n",
       "      <td>0</td>\n",
       "      <td>0</td>\n",
       "      <td>0</td>\n",
       "      <td>0</td>\n",
       "      <td>0</td>\n",
       "    </tr>\n",
       "  </tbody>\n",
       "</table>\n",
       "</div>"
      ],
      "text/plain": [
       "         Date        High         Low        Open       Close      Volume  \\\n",
       "1  2007-12-04  221.240997  217.199005  219.557007  218.406006   8591649.0   \n",
       "2  2007-12-05  226.350998  218.080994  218.518997  224.983002  12728929.0   \n",
       "\n",
       "   Adj Close    return  Target  Stock_gap  MonthDay  Month  NiftySpot_gap  \\\n",
       "1  64.989471  1.151001       1   0.212006         4     12       5.200195   \n",
       "2  66.946533 -6.464005       0   0.112991         5     12       3.549805   \n",
       "\n",
       "   BankNiftySpot_gap  D1  D2  D3  D4  D5  D6  D7  D8  D9  D10  D11  D12  D13  \\\n",
       "1           6.600586   0   0   0   1   0   0   0   0   0    0    0    0    0   \n",
       "2           6.350586   0   0   0   0   1   0   0   0   0    0    0    0    0   \n",
       "\n",
       "   D14  D15  D16  D17  D18  D19  D20  D21  D22  D23  D24  D25  D26  D27  D28  \\\n",
       "1    0    0    0    0    0    0    0    0    0    0    0    0    0    0    0   \n",
       "2    0    0    0    0    0    0    0    0    0    0    0    0    0    0    0   \n",
       "\n",
       "   D29  D30  M1  M2  M3  M4  M5  M6  M7  M8  M9  M10  M11  \n",
       "1    0    0   0   0   0   0   0   0   0   0   0    0    0  \n",
       "2    0    0   0   0   0   0   0   0   0   0   0    0    0  "
      ]
     },
     "execution_count": 11,
     "metadata": {},
     "output_type": "execute_result"
    }
   ],
   "source": [
    "#mnth_one_hot = pd.get_dummies(df[\"Month\"])\n",
    "#mnth_one_hot.drop([12], axis=1, inplace=True)\n",
    "#df = pd.concat([df, mnth_one_hot], axis=1)\n",
    "\n",
    "#new_cols = {i:\"M{}\".format(i) for i in range(1,12)}\n",
    "#df.rename(columns = new_cols, inplace = True)\n",
    "\n",
    "#df.head(2)"
   ]
  },
  {
   "cell_type": "markdown",
   "metadata": {},
   "source": [
    "#### Mean encoding :-"
   ]
  },
  {
   "cell_type": "code",
   "execution_count": 8,
   "metadata": {},
   "outputs": [
    {
     "data": {
      "text/html": [
       "<div>\n",
       "<style scoped>\n",
       "    .dataframe tbody tr th:only-of-type {\n",
       "        vertical-align: middle;\n",
       "    }\n",
       "\n",
       "    .dataframe tbody tr th {\n",
       "        vertical-align: top;\n",
       "    }\n",
       "\n",
       "    .dataframe thead th {\n",
       "        text-align: right;\n",
       "    }\n",
       "</style>\n",
       "<table border=\"1\" class=\"dataframe\">\n",
       "  <thead>\n",
       "    <tr style=\"text-align: right;\">\n",
       "      <th></th>\n",
       "      <th>Date</th>\n",
       "      <th>High</th>\n",
       "      <th>Low</th>\n",
       "      <th>Open</th>\n",
       "      <th>Close</th>\n",
       "      <th>Volume</th>\n",
       "      <th>Adj Close</th>\n",
       "      <th>return</th>\n",
       "      <th>ret_pct</th>\n",
       "      <th>Target</th>\n",
       "      <th>Stock_gap</th>\n",
       "      <th>MonthDay</th>\n",
       "      <th>Month</th>\n",
       "      <th>NiftySpot_gap</th>\n",
       "      <th>BankNiftySpot_gap</th>\n",
       "      <th>MonthDay_enc</th>\n",
       "      <th>Month_enc</th>\n",
       "    </tr>\n",
       "  </thead>\n",
       "  <tbody>\n",
       "    <tr>\n",
       "      <th>1</th>\n",
       "      <td>2007-12-04</td>\n",
       "      <td>221.240997</td>\n",
       "      <td>217.199005</td>\n",
       "      <td>219.557007</td>\n",
       "      <td>218.406006</td>\n",
       "      <td>8591649.0</td>\n",
       "      <td>64.989471</td>\n",
       "      <td>1.151001</td>\n",
       "      <td>0.005242</td>\n",
       "      <td>1</td>\n",
       "      <td>0.212006</td>\n",
       "      <td>4</td>\n",
       "      <td>12</td>\n",
       "      <td>5.200195</td>\n",
       "      <td>6.600586</td>\n",
       "      <td>0.494949</td>\n",
       "      <td>0.567797</td>\n",
       "    </tr>\n",
       "    <tr>\n",
       "      <th>2</th>\n",
       "      <td>2007-12-05</td>\n",
       "      <td>226.350998</td>\n",
       "      <td>218.080994</td>\n",
       "      <td>218.518997</td>\n",
       "      <td>224.983002</td>\n",
       "      <td>12728929.0</td>\n",
       "      <td>66.946533</td>\n",
       "      <td>-6.464005</td>\n",
       "      <td>-0.029581</td>\n",
       "      <td>0</td>\n",
       "      <td>0.112991</td>\n",
       "      <td>5</td>\n",
       "      <td>12</td>\n",
       "      <td>3.549805</td>\n",
       "      <td>6.350586</td>\n",
       "      <td>0.505051</td>\n",
       "      <td>0.567797</td>\n",
       "    </tr>\n",
       "    <tr>\n",
       "      <th>3</th>\n",
       "      <td>2007-12-06</td>\n",
       "      <td>229.917007</td>\n",
       "      <td>224.464005</td>\n",
       "      <td>226.445007</td>\n",
       "      <td>226.024994</td>\n",
       "      <td>10837323.0</td>\n",
       "      <td>67.256592</td>\n",
       "      <td>0.420013</td>\n",
       "      <td>0.001855</td>\n",
       "      <td>1</td>\n",
       "      <td>1.462006</td>\n",
       "      <td>6</td>\n",
       "      <td>12</td>\n",
       "      <td>1.049805</td>\n",
       "      <td>63.500000</td>\n",
       "      <td>0.578947</td>\n",
       "      <td>0.567797</td>\n",
       "    </tr>\n",
       "  </tbody>\n",
       "</table>\n",
       "</div>"
      ],
      "text/plain": [
       "         Date        High         Low        Open       Close      Volume  \\\n",
       "1  2007-12-04  221.240997  217.199005  219.557007  218.406006   8591649.0   \n",
       "2  2007-12-05  226.350998  218.080994  218.518997  224.983002  12728929.0   \n",
       "3  2007-12-06  229.917007  224.464005  226.445007  226.024994  10837323.0   \n",
       "\n",
       "   Adj Close    return   ret_pct  Target  Stock_gap  MonthDay  Month  \\\n",
       "1  64.989471  1.151001  0.005242       1   0.212006         4     12   \n",
       "2  66.946533 -6.464005 -0.029581       0   0.112991         5     12   \n",
       "3  67.256592  0.420013  0.001855       1   1.462006         6     12   \n",
       "\n",
       "   NiftySpot_gap  BankNiftySpot_gap  MonthDay_enc  Month_enc  \n",
       "1       5.200195           6.600586      0.494949   0.567797  \n",
       "2       3.549805           6.350586      0.505051   0.567797  \n",
       "3       1.049805          63.500000      0.578947   0.567797  "
      ]
     },
     "execution_count": 8,
     "metadata": {},
     "output_type": "execute_result"
    }
   ],
   "source": [
    "# Variable = Key, Target prob = Value in dictionary\n",
    "mnthDay_encodings = df.groupby(['MonthDay'])['Target'].mean().to_dict() \n",
    "df['MonthDay_enc'] =  df['MonthDay'].map(mnthDay_encodings) \n",
    "\n",
    "month_encodings = df.groupby(['Month'])['Target'].mean().to_dict() \n",
    "df['Month_enc'] =  df['Month'].map(month_encodings)\n",
    "\n",
    "df.head(3)"
   ]
  },
  {
   "cell_type": "markdown",
   "metadata": {},
   "source": [
    "## Data Visualization :-"
   ]
  },
  {
   "cell_type": "markdown",
   "metadata": {},
   "source": [
    "### i) Visualization using PCA :-"
   ]
  },
  {
   "cell_type": "code",
   "execution_count": 9,
   "metadata": {},
   "outputs": [
    {
     "name": "stdout",
     "output_type": "stream",
     "text": [
      "Explained variation per principal component: [0.97505866 0.02483707]\n"
     ]
    }
   ],
   "source": [
    "not_feats = [\"Date\",\"High\",\"Low\",\"Open\",\"Close\",\"Volume\",\"Adj Close\",\n",
    "             \"return\",\"ret_pct\", \"Target\",\"MonthDay\",\"Month\"]\n",
    "feature_columns = list(set(df.columns.values) - set(not_feats))\n",
    "\n",
    "pca = PCA(n_components=2)\n",
    "pca_result = pca.fit_transform(df[feature_columns].values)\n",
    "\n",
    "print('Explained variation per principal component: {}'.format(pca.explained_variance_ratio_))"
   ]
  },
  {
   "cell_type": "code",
   "execution_count": 10,
   "metadata": {},
   "outputs": [
    {
     "name": "stdout",
     "output_type": "stream",
     "text": [
      "(1336, 19) (1552, 19)\n"
     ]
    }
   ],
   "source": [
    "df[\"pca-one\"] = pca_result[:,0]\n",
    "df[\"pca-two\"] = pca_result[:,1]\n",
    "\n",
    "tgt_0 = df[df[\"Target\"] == 0]\n",
    "tgt_1 = df[df[\"Target\"] == 1]\n",
    "\n",
    "print(tgt_0.shape, tgt_1.shape)"
   ]
  },
  {
   "cell_type": "code",
   "execution_count": 11,
   "metadata": {},
   "outputs": [
    {
     "data": {
      "image/png": "[encoded data removed]",
      "text/plain": [
       "<Figure size 1080x720 with 1 Axes>"
      ]
     },
     "metadata": {
      "needs_background": "light"
     },
     "output_type": "display_data"
    }
   ],
   "source": [
    "# Plotting the features after dimensionality reduction\n",
    "plt.figure(figsize=(15,10))\n",
    "plt.scatter(tgt_0[\"pca-two\"], tgt_0[\"pca-one\"], label=\"0\")\n",
    "plt.scatter(tgt_1[\"pca-two\"], tgt_1[\"pca-one\"], label=\"1\")\n",
    "plt.legend()\n",
    "plt.show()"
   ]
  },
  {
   "cell_type": "code",
   "execution_count": 21,
   "metadata": {},
   "outputs": [],
   "source": [
    "df[\"pca-one_sqr\"] = pca_result[:,0]**3\n",
    "df[\"pca-two_sqr\"] = pca_result[:,1]**3\n",
    "\n",
    "tgt_0 = df[df[\"Target\"] == 0]\n",
    "tgt_1 = df[df[\"Target\"] == 1]"
   ]
  },
  {
   "cell_type": "code",
   "execution_count": 22,
   "metadata": {},
   "outputs": [
    {
     "data": {
      "image/png": "[encoded data removed]",
      "text/plain": [
       "<Figure size 1080x720 with 1 Axes>"
      ]
     },
     "metadata": {
      "needs_background": "light"
     },
     "output_type": "display_data"
    }
   ],
   "source": [
    "plt.figure(figsize=(15,10))\n",
    "plt.scatter(tgt_0[\"pca-two_sqr\"], tgt_0[\"pca-one_sqr\"], label=\"0\")\n",
    "plt.scatter(tgt_1[\"pca-two_sqr\"], tgt_1[\"pca-one_sqr\"], label=\"1\")\n",
    "plt.legend()\n",
    "plt.show()"
   ]
  },
  {
   "cell_type": "markdown",
   "metadata": {},
   "source": [
    "### ii) T-SNE visualization :-"
   ]
  },
  {
   "cell_type": "code",
   "execution_count": 12,
   "metadata": {},
   "outputs": [
    {
     "name": "stdout",
     "output_type": "stream",
     "text": [
      "[t-SNE] Computing 151 nearest neighbors...\n",
      "[t-SNE] Indexed 2888 samples in 0.001s...\n",
      "[t-SNE] Computed neighbors for 2888 samples in 0.114s...\n",
      "[t-SNE] Computed conditional probabilities for sample 1000 / 2888\n",
      "[t-SNE] Computed conditional probabilities for sample 2000 / 2888\n",
      "[t-SNE] Computed conditional probabilities for sample 2888 / 2888\n",
      "[t-SNE] Mean sigma: 4.570725\n",
      "[t-SNE] KL divergence after 250 iterations with early exaggeration: 57.399200\n",
      "[t-SNE] KL divergence after 400 iterations: 0.524148\n",
      "t-SNE done! Time elapsed: 9.569404602050781 seconds\n"
     ]
    }
   ],
   "source": [
    "time_start = time.time()\n",
    "tsne = TSNE(n_components=2, verbose=1, perplexity=50, n_iter=400)\n",
    "tsne_results = tsne.fit_transform(df[feature_columns].values)\n",
    "print('t-SNE done! Time elapsed: {} seconds'.format(time.time()-time_start))"
   ]
  },
  {
   "cell_type": "code",
   "execution_count": 13,
   "metadata": {},
   "outputs": [
    {
     "name": "stdout",
     "output_type": "stream",
     "text": [
      "(1336, 21) (1552, 21)\n"
     ]
    }
   ],
   "source": [
    "df[\"tsne-one\"] = tsne_results[:,0]\n",
    "df[\"tsne-two\"] = tsne_results[:,1]\n",
    "\n",
    "tgt_0 = df[df[\"Target\"] == 0]\n",
    "tgt_1 = df[df[\"Target\"] == 1]\n",
    "\n",
    "print(tgt_0.shape, tgt_1.shape)"
   ]
  },
  {
   "cell_type": "code",
   "execution_count": 14,
   "metadata": {},
   "outputs": [
    {
     "data": {
      "image/png": "[encoded data removed]",
      "text/plain": [
       "<Figure size 1080x720 with 1 Axes>"
      ]
     },
     "metadata": {
      "needs_background": "light"
     },
     "output_type": "display_data"
    }
   ],
   "source": [
    "plt.figure(figsize=(15,10))\n",
    "plt.scatter(tgt_0[\"tsne-two\"], tgt_0[\"tsne-one\"], label=\"0\")\n",
    "plt.scatter(tgt_1[\"tsne-two\"], tgt_1[\"tsne-one\"], label=\"1\")\n",
    "plt.legend()\n",
    "plt.show()"
   ]
  },
  {
   "cell_type": "markdown",
   "metadata": {},
   "source": [
    "## Data preparation :-"
   ]
  },
  {
   "cell_type": "code",
   "execution_count": 15,
   "metadata": {},
   "outputs": [
    {
     "data": {
      "text/plain": [
       "(2888, 21)"
      ]
     },
     "execution_count": 15,
     "metadata": {},
     "output_type": "execute_result"
    }
   ],
   "source": [
    "# Some dates must be missing in either of them\n",
    "df.shape"
   ]
  },
  {
   "cell_type": "code",
   "execution_count": 16,
   "metadata": {},
   "outputs": [
    {
     "data": {
      "text/plain": [
       "((2888, 5), (2888,))"
      ]
     },
     "execution_count": 16,
     "metadata": {},
     "output_type": "execute_result"
    }
   ],
   "source": [
    "not_feats = [\"Date\",\"High\",\"Low\",\"Open\",\"Close\",\"Volume\",\"Adj Close\",\"return\",\"ret_pct\", \n",
    "             \"Target\",\"MonthDay\",\"Month\",\"pca-one\",\"pca-two\",\"tsne-one\",\"tsne-two\"]\n",
    "feature_columns = list(set(df.columns.values) - set(not_feats))\n",
    "\n",
    "X = df[feature_columns]\n",
    "y = df.Target.values\n",
    "\n",
    "X.shape, y.shape"
   ]
  },
  {
   "cell_type": "code",
   "execution_count": 17,
   "metadata": {},
   "outputs": [
    {
     "data": {
      "text/html": [
       "<div>\n",
       "<style scoped>\n",
       "    .dataframe tbody tr th:only-of-type {\n",
       "        vertical-align: middle;\n",
       "    }\n",
       "\n",
       "    .dataframe tbody tr th {\n",
       "        vertical-align: top;\n",
       "    }\n",
       "\n",
       "    .dataframe thead th {\n",
       "        text-align: right;\n",
       "    }\n",
       "</style>\n",
       "<table border=\"1\" class=\"dataframe\">\n",
       "  <thead>\n",
       "    <tr style=\"text-align: right;\">\n",
       "      <th></th>\n",
       "      <th>Stock_gap</th>\n",
       "      <th>BankNiftySpot_gap</th>\n",
       "      <th>Month_enc</th>\n",
       "      <th>NiftySpot_gap</th>\n",
       "      <th>MonthDay_enc</th>\n",
       "    </tr>\n",
       "  </thead>\n",
       "  <tbody>\n",
       "    <tr>\n",
       "      <th>1</th>\n",
       "      <td>0.212006</td>\n",
       "      <td>6.600586</td>\n",
       "      <td>0.567797</td>\n",
       "      <td>5.200195</td>\n",
       "      <td>0.494949</td>\n",
       "    </tr>\n",
       "    <tr>\n",
       "      <th>2</th>\n",
       "      <td>0.112991</td>\n",
       "      <td>6.350586</td>\n",
       "      <td>0.567797</td>\n",
       "      <td>3.549805</td>\n",
       "      <td>0.505051</td>\n",
       "    </tr>\n",
       "    <tr>\n",
       "      <th>3</th>\n",
       "      <td>1.462006</td>\n",
       "      <td>63.500000</td>\n",
       "      <td>0.567797</td>\n",
       "      <td>1.049805</td>\n",
       "      <td>0.578947</td>\n",
       "    </tr>\n",
       "  </tbody>\n",
       "</table>\n",
       "</div>"
      ],
      "text/plain": [
       "   Stock_gap  BankNiftySpot_gap  Month_enc  NiftySpot_gap  MonthDay_enc\n",
       "1   0.212006           6.600586   0.567797       5.200195      0.494949\n",
       "2   0.112991           6.350586   0.567797       3.549805      0.505051\n",
       "3   1.462006          63.500000   0.567797       1.049805      0.578947"
      ]
     },
     "execution_count": 17,
     "metadata": {},
     "output_type": "execute_result"
    }
   ],
   "source": [
    "X.head(3)"
   ]
  },
  {
   "cell_type": "code",
   "execution_count": 18,
   "metadata": {},
   "outputs": [
    {
     "data": {
      "text/plain": [
       "2310"
      ]
     },
     "execution_count": 18,
     "metadata": {},
     "output_type": "execute_result"
    }
   ],
   "source": [
    "train_size = int(len(X)*0.8)\n",
    "train_size"
   ]
  },
  {
   "cell_type": "code",
   "execution_count": 19,
   "metadata": {},
   "outputs": [],
   "source": [
    "X_train , X_test = X[0:train_size], X[train_size:]\n",
    "y_train , y_test = y[0:train_size], y[train_size:]"
   ]
  },
  {
   "cell_type": "markdown",
   "metadata": {},
   "source": [
    "## Applying ML models on data :-"
   ]
  },
  {
   "cell_type": "code",
   "execution_count": 20,
   "metadata": {},
   "outputs": [],
   "source": [
    "seed = 2021"
   ]
  },
  {
   "cell_type": "code",
   "execution_count": 21,
   "metadata": {},
   "outputs": [],
   "source": [
    "def get_highThresh_acc(y_pred_probs, y_test, thresh_prob=0.65):\n",
    "    \n",
    "    cnt, corr_predicts = 0, 0\n",
    "    for i in range(len(y_test)):\n",
    "        if y_pred_probs[i] > thresh_prob:    # Predict 1 (up move)\n",
    "            cnt += 1\n",
    "            if y_test[i] == 1:\n",
    "                corr_predicts += 1\n",
    "            else: pass\n",
    "        elif y_pred_probs[i] < 1.0 - thresh_prob:    # Predict 0 (down move)\n",
    "            cnt += 1\n",
    "            if y_test[i] == 0:\n",
    "                corr_predicts += 1\n",
    "            else: pass\n",
    "        else: continue\n",
    "            \n",
    "    print(\"Prediction accuracy : {}\".format(corr_predicts/cnt))\n",
    "    print(\"Percentage of datapoints predicted : {}\".format(cnt/len(y_test)))\n",
    "    print(\"No.of datapoints predicted : {}, Total datapoints : {}\".format(cnt, len(y_test)))\n",
    "\n",
    "    return\n",
    "\n",
    "def get_highThresh_acc_lr(y_pred_probs, y_test, thresh_prob=0.65):\n",
    "    \n",
    "    cnt, corr_predicts = 0, 0\n",
    "    for i in range(len(y_test)):\n",
    "        \n",
    "        if max(y_pred_probs[i]) > thresh_prob:\n",
    "            cnt += 1\n",
    "            if np.argmax(y_pred_probs[i]) == y_test[i]:\n",
    "                corr_predicts += 1\n",
    "                \n",
    "    print(\"Accuracy with {} threshold : {}\".format(thresh_prob, corr_predicts/cnt))\n",
    "    print(\"Percentage of datapoints predicted : {}\".format(cnt/len(y_test)))\n",
    "    print(\"No.of datapoints predicted : {}, Total datapoints : {}\".format(cnt, len(y_test)))\n",
    "\n",
    "    return      "
   ]
  },
  {
   "cell_type": "markdown",
   "metadata": {},
   "source": [
    "### Logistic Regression :-"
   ]
  },
  {
   "cell_type": "code",
   "execution_count": 26,
   "metadata": {},
   "outputs": [
    {
     "name": "stdout",
     "output_type": "stream",
     "text": [
      "Accuracy with 0.5 threshold : 0.5432525951557093\n",
      "Accuracy with 0.65 threshold : 0.8571428571428571\n",
      "Percentage of datapoints predicted : 0.012110726643598616\n",
      "No.of datapoints predicted : 7, Total datapoints : 578\n"
     ]
    },
    {
     "name": "stderr",
     "output_type": "stream",
     "text": [
      "c:\\users\\smitr\\appdata\\local\\programs\\python\\python36\\lib\\site-packages\\sklearn\\linear_model\\logistic.py:432: FutureWarning: Default solver will be changed to 'lbfgs' in 0.22. Specify a solver to silence this warning.\n",
      "  FutureWarning)\n"
     ]
    }
   ],
   "source": [
    "# Create model\n",
    "lr = LogisticRegression(random_state=seed)\n",
    "\n",
    "# Prepare the cross-validation procedure\n",
    "#cv = KFold(n_splits=5, random_state=seed, shuffle=True)\n",
    "# Evaluate model\n",
    "#scores = cross_val_score(lr, X_train, y_train, scoring='accuracy', cv=cv, n_jobs=-1)\n",
    "# Report performance\n",
    "#print('Accuracy: %.3f (%.3f)' % (np.mean(scores), np.std(scores)))\n",
    "\n",
    "# Fitting model to get probabs\n",
    "lr.fit(X_train, y_train)\n",
    "print(\"Accuracy with 0.5 threshold : {}\".format(lr.score(X_test, y_test)))\n",
    "\n",
    "y_pred_probabs = lr.predict_proba(X_test)\n",
    "get_highThresh_acc_lr(y_pred_probabs, y_test, 0.65)"
   ]
  },
  {
   "cell_type": "markdown",
   "metadata": {},
   "source": [
    "### K-Nearest Neighbours :-"
   ]
  },
  {
   "cell_type": "code",
   "execution_count": 40,
   "metadata": {},
   "outputs": [
    {
     "name": "stdout",
     "output_type": "stream",
     "text": [
      "Accuracy :- 0.5173010380622838\n"
     ]
    }
   ],
   "source": [
    "# Create model\n",
    "neigh = KNeighborsClassifier(n_neighbors=5)\n",
    "# Fit the model to data\n",
    "neigh.fit(X_train, y_train)\n",
    "print(\"Accuracy :- {}\".format(neigh.score(X_test, y_test)))"
   ]
  },
  {
   "cell_type": "markdown",
   "metadata": {},
   "source": [
    "### Random Forest :-"
   ]
  },
  {
   "cell_type": "code",
   "execution_count": 27,
   "metadata": {},
   "outputs": [],
   "source": [
    "# Prepare the cross-validation procedure\n",
    "cv = KFold(n_splits=5, random_state=seed, shuffle=True)\n",
    "\n",
    "# Create Random Forest model\n",
    "rfc = RandomForestClassifier(n_estimators=10,\n",
    "                              random_state=seed)\n",
    "# Evaluate model\n",
    "scores = cross_val_score(rfc, X_train, y_train, scoring='accuracy', cv=cv, n_jobs=-1)"
   ]
  },
  {
   "cell_type": "code",
   "execution_count": 28,
   "metadata": {},
   "outputs": [
    {
     "name": "stdout",
     "output_type": "stream",
     "text": [
      "Accuracy: 0.489 (0.008)\n"
     ]
    }
   ],
   "source": [
    "# Report performance\n",
    "print('Accuracy: %.3f (%.3f)' % (np.mean(scores), np.std(scores)))"
   ]
  },
  {
   "cell_type": "code",
   "execution_count": 28,
   "metadata": {},
   "outputs": [
    {
     "data": {
      "text/plain": [
       "0.5432525951557093"
      ]
     },
     "execution_count": 28,
     "metadata": {},
     "output_type": "execute_result"
    }
   ],
   "source": [
    "#rfc.score(X_test, y_test)"
   ]
  },
  {
   "cell_type": "markdown",
   "metadata": {},
   "source": [
    "### XGBoost :-"
   ]
  },
  {
   "cell_type": "code",
   "execution_count": 44,
   "metadata": {},
   "outputs": [
    {
     "name": "stdout",
     "output_type": "stream",
     "text": [
      "Accuracy :- 0.5481851708074534\n"
     ]
    }
   ],
   "source": [
    "import xgboost as xgb\n",
    "from sklearn.metrics import precision_score\n",
    "\n",
    "dtrain = xgb.DMatrix(X_train, label=y_train)\n",
    "dtest = xgb.DMatrix(X_test, label=y_test)\n",
    "\n",
    "# Specify XGBoost parameters\n",
    "params = {\n",
    "    'max_depth': 5,  # the maximum depth of each tree\n",
    "    'eta': 0.3,  # the training step for each iteration\n",
    "    'silent': 1,  # logging mode - quiet\n",
    "    'objective': 'multi:softprob',  # error evaluation for multiclass training\n",
    "    'num_class': 2}  # the number of classes that exist in this datset\n",
    "\n",
    "# No.of training iterations\n",
    "num_iters = 50  \n",
    "\n",
    "# Create & Fit model\n",
    "xg_boost = xgb.train(params, dtrain, num_iters)\n",
    "\n",
    "# Predict classes for test set\n",
    "preds = xg_boost.predict(dtest)\n",
    "best_preds = np.asarray([np.argmax(line) for line in preds])\n",
    "\n",
    "# Print test accuracy\n",
    "print(\"Accuracy :- {}\".format(precision_score(y_test, best_preds, average='macro')))\n"
   ]
  },
  {
   "cell_type": "code",
   "execution_count": 54,
   "metadata": {},
   "outputs": [
    {
     "name": "stdout",
     "output_type": "stream",
     "text": [
      "Accuracy with 0.86 threshold : 0.7105263157894737\n",
      "Percentage of datapoints predicted : 0.0657439446366782\n",
      "No.of datapoints predicted : 38, Total datapoints : 578\n"
     ]
    }
   ],
   "source": [
    "get_highThresh_acc_lr(preds, y_test, thresh_prob=0.86)"
   ]
  },
  {
   "cell_type": "markdown",
   "metadata": {},
   "source": [
    "### Neural Network :-"
   ]
  },
  {
   "cell_type": "code",
   "execution_count": 29,
   "metadata": {},
   "outputs": [
    {
     "name": "stdout",
     "output_type": "stream",
     "text": [
      "_________________________________________________________________\n",
      "Layer (type)                 Output Shape              Param #   \n",
      "=================================================================\n",
      "dense_1 (Dense)              (None, 8)                 48        \n",
      "_________________________________________________________________\n",
      "dense_2 (Dense)              (None, 4)                 36        \n",
      "_________________________________________________________________\n",
      "dense_3 (Dense)              (None, 1)                 5         \n",
      "=================================================================\n",
      "Total params: 89\n",
      "Trainable params: 89\n",
      "Non-trainable params: 0\n",
      "_________________________________________________________________\n"
     ]
    }
   ],
   "source": [
    "fcnn = Sequential()\n",
    "fcnn.add(Dense(8, input_dim=5, activation=\"relu\"))\n",
    "fcnn.add(Dense(4, activation=\"relu\"))\n",
    "fcnn.add(Dense(1, activation=\"sigmoid\"))\n",
    "\n",
    "fcnn.summary()"
   ]
  },
  {
   "cell_type": "code",
   "execution_count": 30,
   "metadata": {},
   "outputs": [],
   "source": [
    "# Compiling the model\n",
    "fcnn.compile(loss=\"binary_crossentropy\", optimizer=\"adam\", metrics=[\"accuracy\"])\n",
    "\n",
    "# Defining callbacks\n",
    "filepath=\"SBIN_move_predictor_weights.hdf5\"\n",
    "checkpoint = ModelCheckpoint(filepath, monitor='val_accuracy', verbose=1, save_best_only=True, mode='max')\n",
    "callbacks_list = [checkpoint]"
   ]
  },
  {
   "cell_type": "code",
   "execution_count": 31,
   "metadata": {},
   "outputs": [
    {
     "name": "stdout",
     "output_type": "stream",
     "text": [
      "Train on 1963 samples, validate on 347 samples\n",
      "Epoch 1/30\n",
      "1963/1963 [==============================] - 2s 809us/step - loss: 2.7688 - acc: 0.5099 - val_loss: 1.3821 - val_acc: 0.5072\n",
      "Epoch 2/30\n",
      "1963/1963 [==============================] - 0s 185us/step - loss: 0.7442 - acc: 0.4687 - val_loss: 0.8343 - val_acc: 0.4323\n",
      "Epoch 3/30\n",
      "1963/1963 [==============================] - 0s 179us/step - loss: 0.7053 - acc: 0.4733 - val_loss: 0.8040 - val_acc: 0.4179\n",
      "Epoch 4/30\n",
      "1963/1963 [==============================] - 0s 183us/step - loss: 0.7013 - acc: 0.4733 - val_loss: 0.7832 - val_acc: 0.4236\n",
      "Epoch 5/30\n",
      "1963/1963 [==============================] - 0s 181us/step - loss: 0.6981 - acc: 0.5018 - val_loss: 0.7684 - val_acc: 0.5533\n",
      "Epoch 6/30\n",
      "1963/1963 [==============================] - 0s 214us/step - loss: 0.6962 - acc: 0.5339 - val_loss: 0.7621 - val_acc: 0.5562\n",
      "Epoch 7/30\n",
      "1963/1963 [==============================] - 0s 179us/step - loss: 0.6954 - acc: 0.5344 - val_loss: 0.7529 - val_acc: 0.5533\n",
      "Epoch 8/30\n",
      "1963/1963 [==============================] - 0s 180us/step - loss: 0.6945 - acc: 0.5318 - val_loss: 0.7444 - val_acc: 0.5533\n",
      "Epoch 9/30\n",
      "1963/1963 [==============================] - 0s 182us/step - loss: 0.6932 - acc: 0.5313 - val_loss: 0.7367 - val_acc: 0.5504\n",
      "Epoch 10/30\n",
      "1963/1963 [==============================] - 0s 179us/step - loss: 0.6923 - acc: 0.5308 - val_loss: 0.7330 - val_acc: 0.5533\n",
      "Epoch 11/30\n",
      "1963/1963 [==============================] - 0s 180us/step - loss: 0.6916 - acc: 0.5334 - val_loss: 0.7261 - val_acc: 0.5533\n",
      "Epoch 12/30\n",
      "1963/1963 [==============================] - 0s 223us/step - loss: 0.6917 - acc: 0.5339 - val_loss: 0.7221 - val_acc: 0.5504\n",
      "Epoch 13/30\n",
      "1963/1963 [==============================] - 0s 187us/step - loss: 0.6915 - acc: 0.5339 - val_loss: 0.7146 - val_acc: 0.5476\n",
      "Epoch 14/30\n",
      "1963/1963 [==============================] - 0s 180us/step - loss: 0.6911 - acc: 0.5334 - val_loss: 0.7160 - val_acc: 0.5504\n",
      "Epoch 15/30\n",
      "1963/1963 [==============================] - 0s 185us/step - loss: 0.6914 - acc: 0.5364 - val_loss: 0.7150 - val_acc: 0.5504\n",
      "Epoch 16/30\n",
      "1963/1963 [==============================] - 0s 181us/step - loss: 0.6907 - acc: 0.5329 - val_loss: 0.7138 - val_acc: 0.5504\n",
      "Epoch 17/30\n",
      "1963/1963 [==============================] - 0s 216us/step - loss: 0.6906 - acc: 0.5359 - val_loss: 0.7103 - val_acc: 0.5504\n",
      "Epoch 18/30\n",
      "1963/1963 [==============================] - 0s 186us/step - loss: 0.6906 - acc: 0.5374 - val_loss: 0.7089 - val_acc: 0.5504\n",
      "Epoch 19/30\n",
      "1963/1963 [==============================] - 0s 180us/step - loss: 0.6906 - acc: 0.5354 - val_loss: 0.7083 - val_acc: 0.5476\n",
      "Epoch 20/30\n",
      "1963/1963 [==============================] - 0s 188us/step - loss: 0.6900 - acc: 0.5344 - val_loss: 0.7129 - val_acc: 0.5533\n",
      "Epoch 21/30\n",
      "1963/1963 [==============================] - 0s 184us/step - loss: 0.6903 - acc: 0.5329 - val_loss: 0.7069 - val_acc: 0.5447\n",
      "Epoch 22/30\n",
      "1963/1963 [==============================] - 0s 184us/step - loss: 0.6901 - acc: 0.5308 - val_loss: 0.7082 - val_acc: 0.5504\n",
      "Epoch 23/30\n",
      "1963/1963 [==============================] - 0s 193us/step - loss: 0.6905 - acc: 0.5349 - val_loss: 0.7075 - val_acc: 0.5504\n",
      "Epoch 24/30\n",
      "1963/1963 [==============================] - 0s 200us/step - loss: 0.6903 - acc: 0.5354 - val_loss: 0.7048 - val_acc: 0.5504\n",
      "Epoch 25/30\n",
      "1963/1963 [==============================] - 0s 206us/step - loss: 0.6903 - acc: 0.5374 - val_loss: 0.7041 - val_acc: 0.5418\n",
      "Epoch 26/30\n",
      "1963/1963 [==============================] - 0s 192us/step - loss: 0.6907 - acc: 0.5359 - val_loss: 0.7028 - val_acc: 0.5418\n",
      "Epoch 27/30\n",
      "1963/1963 [==============================] - 0s 184us/step - loss: 0.6906 - acc: 0.5364 - val_loss: 0.7045 - val_acc: 0.5418\n",
      "Epoch 28/30\n",
      "1963/1963 [==============================] - 0s 190us/step - loss: 0.6898 - acc: 0.5359 - val_loss: 0.7038 - val_acc: 0.5418\n",
      "Epoch 29/30\n",
      "1963/1963 [==============================] - 0s 192us/step - loss: 0.6895 - acc: 0.5354 - val_loss: 0.7069 - val_acc: 0.5504\n",
      "Epoch 30/30\n",
      "1963/1963 [==============================] - 0s 183us/step - loss: 0.6896 - acc: 0.5349 - val_loss: 0.7090 - val_acc: 0.5476\n"
     ]
    },
    {
     "data": {
      "text/plain": [
       "<keras.callbacks.History at 0x24983c1d748>"
      ]
     },
     "execution_count": 31,
     "metadata": {},
     "output_type": "execute_result"
    }
   ],
   "source": [
    "fcnn.fit(X_train, y_train, epochs=30, \n",
    "         batch_size=16, validation_split=0.15)"
   ]
  },
  {
   "cell_type": "code",
   "execution_count": 32,
   "metadata": {},
   "outputs": [],
   "source": [
    "y_pred = fcnn.predict_classes(X_test)\n",
    "y_pred = np.squeeze(y_pred)"
   ]
  },
  {
   "cell_type": "code",
   "execution_count": 33,
   "metadata": {},
   "outputs": [
    {
     "name": "stdout",
     "output_type": "stream",
     "text": [
      "Test set accuracy : 53.97923875432526\n"
     ]
    }
   ],
   "source": [
    "def get_test_acc(y_pred, y_test):\n",
    "    \n",
    "    correct = 0\n",
    "    for i in range(len(y_pred)):\n",
    "        if y_pred[i] == y_test[i]: correct += 1\n",
    "        else: pass\n",
    "        \n",
    "    return 100*correct/len(y_pred)\n",
    "\n",
    "print(\"Test set accuracy : {}\".format(get_test_acc(y_pred, y_test)))"
   ]
  },
  {
   "cell_type": "code",
   "execution_count": null,
   "metadata": {},
   "outputs": [],
   "source": [
    "get_highThresh_acc(y_pred_probs, y_test, thresh_prob=0.85)"
   ]
  },
  {
   "cell_type": "markdown",
   "metadata": {},
   "source": [
    "## Doing something which I wouldn't do with other type of data :-"
   ]
  },
  {
   "cell_type": "code",
   "execution_count": 26,
   "metadata": {},
   "outputs": [
    {
     "data": {
      "text/html": [
       "<div>\n",
       "<style scoped>\n",
       "    .dataframe tbody tr th:only-of-type {\n",
       "        vertical-align: middle;\n",
       "    }\n",
       "\n",
       "    .dataframe tbody tr th {\n",
       "        vertical-align: top;\n",
       "    }\n",
       "\n",
       "    .dataframe thead th {\n",
       "        text-align: right;\n",
       "    }\n",
       "</style>\n",
       "<table border=\"1\" class=\"dataframe\">\n",
       "  <thead>\n",
       "    <tr style=\"text-align: right;\">\n",
       "      <th></th>\n",
       "      <th>Date</th>\n",
       "      <th>High</th>\n",
       "      <th>Low</th>\n",
       "      <th>Open</th>\n",
       "      <th>Close</th>\n",
       "      <th>Volume</th>\n",
       "      <th>Adj Close</th>\n",
       "      <th>return</th>\n",
       "      <th>Target</th>\n",
       "      <th>Stock_gap</th>\n",
       "      <th>MonthDay</th>\n",
       "      <th>Month</th>\n",
       "      <th>NiftySpot_gap</th>\n",
       "      <th>BankNiftySpot_gap</th>\n",
       "      <th>pca-one</th>\n",
       "      <th>pca-two</th>\n",
       "      <th>pca-one_sqr</th>\n",
       "      <th>pca-two_sqr</th>\n",
       "      <th>tsne-one</th>\n",
       "      <th>tsne-two</th>\n",
       "    </tr>\n",
       "  </thead>\n",
       "  <tbody>\n",
       "    <tr>\n",
       "      <th>1</th>\n",
       "      <td>2007-12-04</td>\n",
       "      <td>221.240997</td>\n",
       "      <td>217.199005</td>\n",
       "      <td>219.557007</td>\n",
       "      <td>218.406006</td>\n",
       "      <td>8591649.0</td>\n",
       "      <td>64.989471</td>\n",
       "      <td>1.151001</td>\n",
       "      <td>1</td>\n",
       "      <td>0.212006</td>\n",
       "      <td>4</td>\n",
       "      <td>12</td>\n",
       "      <td>5.200195</td>\n",
       "      <td>6.600586</td>\n",
       "      <td>-12.680915</td>\n",
       "      <td>-0.119521</td>\n",
       "      <td>-2039.162246</td>\n",
       "      <td>-0.001707</td>\n",
       "      <td>-0.684587</td>\n",
       "      <td>-4.722948</td>\n",
       "    </tr>\n",
       "    <tr>\n",
       "      <th>2</th>\n",
       "      <td>2007-12-05</td>\n",
       "      <td>226.350998</td>\n",
       "      <td>218.080994</td>\n",
       "      <td>218.518997</td>\n",
       "      <td>224.983002</td>\n",
       "      <td>12728929.0</td>\n",
       "      <td>66.946533</td>\n",
       "      <td>-6.464005</td>\n",
       "      <td>0</td>\n",
       "      <td>0.112991</td>\n",
       "      <td>5</td>\n",
       "      <td>12</td>\n",
       "      <td>3.549805</td>\n",
       "      <td>6.350586</td>\n",
       "      <td>-13.325981</td>\n",
       "      <td>1.416836</td>\n",
       "      <td>-2366.451477</td>\n",
       "      <td>2.844192</td>\n",
       "      <td>-0.696000</td>\n",
       "      <td>-5.124694</td>\n",
       "    </tr>\n",
       "    <tr>\n",
       "      <th>3</th>\n",
       "      <td>2007-12-06</td>\n",
       "      <td>229.917007</td>\n",
       "      <td>224.464005</td>\n",
       "      <td>226.445007</td>\n",
       "      <td>226.024994</td>\n",
       "      <td>10837323.0</td>\n",
       "      <td>67.256592</td>\n",
       "      <td>0.420013</td>\n",
       "      <td>1</td>\n",
       "      <td>1.462006</td>\n",
       "      <td>6</td>\n",
       "      <td>12</td>\n",
       "      <td>1.049805</td>\n",
       "      <td>63.500000</td>\n",
       "      <td>41.511365</td>\n",
       "      <td>17.716836</td>\n",
       "      <td>71532.109918</td>\n",
       "      <td>5561.071321</td>\n",
       "      <td>-1.319524</td>\n",
       "      <td>16.016010</td>\n",
       "    </tr>\n",
       "    <tr>\n",
       "      <th>4</th>\n",
       "      <td>2007-12-07</td>\n",
       "      <td>231.889008</td>\n",
       "      <td>225.501007</td>\n",
       "      <td>228.785004</td>\n",
       "      <td>229.822998</td>\n",
       "      <td>10566995.0</td>\n",
       "      <td>68.386726</td>\n",
       "      <td>-1.037994</td>\n",
       "      <td>0</td>\n",
       "      <td>2.760010</td>\n",
       "      <td>7</td>\n",
       "      <td>12</td>\n",
       "      <td>8.899902</td>\n",
       "      <td>57.699219</td>\n",
       "      <td>37.806405</td>\n",
       "      <td>8.667229</td>\n",
       "      <td>54037.612279</td>\n",
       "      <td>651.089599</td>\n",
       "      <td>-0.393011</td>\n",
       "      <td>16.554722</td>\n",
       "    </tr>\n",
       "    <tr>\n",
       "      <th>5</th>\n",
       "      <td>2007-12-10</td>\n",
       "      <td>231.960007</td>\n",
       "      <td>227.860001</td>\n",
       "      <td>229.841995</td>\n",
       "      <td>228.893005</td>\n",
       "      <td>5373405.0</td>\n",
       "      <td>68.110001</td>\n",
       "      <td>0.948990</td>\n",
       "      <td>1</td>\n",
       "      <td>0.018997</td>\n",
       "      <td>10</td>\n",
       "      <td>12</td>\n",
       "      <td>-0.299805</td>\n",
       "      <td>4.100586</td>\n",
       "      <td>-16.446859</td>\n",
       "      <td>4.579593</td>\n",
       "      <td>-4448.862111</td>\n",
       "      <td>96.046305</td>\n",
       "      <td>-2.207004</td>\n",
       "      <td>-6.515734</td>\n",
       "    </tr>\n",
       "  </tbody>\n",
       "</table>\n",
       "</div>"
      ],
      "text/plain": [
       "         Date        High         Low        Open       Close      Volume  \\\n",
       "1  2007-12-04  221.240997  217.199005  219.557007  218.406006   8591649.0   \n",
       "2  2007-12-05  226.350998  218.080994  218.518997  224.983002  12728929.0   \n",
       "3  2007-12-06  229.917007  224.464005  226.445007  226.024994  10837323.0   \n",
       "4  2007-12-07  231.889008  225.501007  228.785004  229.822998  10566995.0   \n",
       "5  2007-12-10  231.960007  227.860001  229.841995  228.893005   5373405.0   \n",
       "\n",
       "   Adj Close    return  Target  Stock_gap  MonthDay  Month  NiftySpot_gap  \\\n",
       "1  64.989471  1.151001       1   0.212006         4     12       5.200195   \n",
       "2  66.946533 -6.464005       0   0.112991         5     12       3.549805   \n",
       "3  67.256592  0.420013       1   1.462006         6     12       1.049805   \n",
       "4  68.386726 -1.037994       0   2.760010         7     12       8.899902   \n",
       "5  68.110001  0.948990       1   0.018997        10     12      -0.299805   \n",
       "\n",
       "   BankNiftySpot_gap    pca-one    pca-two   pca-one_sqr  pca-two_sqr  \\\n",
       "1           6.600586 -12.680915  -0.119521  -2039.162246    -0.001707   \n",
       "2           6.350586 -13.325981   1.416836  -2366.451477     2.844192   \n",
       "3          63.500000  41.511365  17.716836  71532.109918  5561.071321   \n",
       "4          57.699219  37.806405   8.667229  54037.612279   651.089599   \n",
       "5           4.100586 -16.446859   4.579593  -4448.862111    96.046305   \n",
       "\n",
       "   tsne-one   tsne-two  \n",
       "1 -0.684587  -4.722948  \n",
       "2 -0.696000  -5.124694  \n",
       "3 -1.319524  16.016010  \n",
       "4 -0.393011  16.554722  \n",
       "5 -2.207004  -6.515734  "
      ]
     },
     "execution_count": 26,
     "metadata": {},
     "output_type": "execute_result"
    }
   ],
   "source": [
    "df.head()"
   ]
  },
  {
   "cell_type": "code",
   "execution_count": 27,
   "metadata": {},
   "outputs": [
    {
     "name": "stdout",
     "output_type": "stream",
     "text": [
      "(2310, 4) (578, 4)\n",
      "(2310,) (578,)\n"
     ]
    }
   ],
   "source": [
    "X = df[[\"pca-one\", \"pca-two\", \"tsne-one\", \"tsne-two\"]]\n",
    "y = df.Target.values\n",
    "\n",
    "train_size = int(len(X)*0.8)\n",
    "\n",
    "X_train , X_test = X[0:train_size], X[train_size:]\n",
    "y_train , y_test = y[0:train_size], y[train_size:]\n",
    "\n",
    "print(X_train.shape, X_test.shape)\n",
    "print(y_train.shape, y_test.shape)"
   ]
  },
  {
   "cell_type": "code",
   "execution_count": 29,
   "metadata": {},
   "outputs": [
    {
     "name": "stdout",
     "output_type": "stream",
     "text": [
      "Accuracy: 0.478 (0.015)\n"
     ]
    }
   ],
   "source": [
    "# Prepare the cross-validation procedure\n",
    "cv = KFold(n_splits=5, random_state=2021, shuffle=True)\n",
    "\n",
    "# Create Random Forest model\n",
    "rfc = RandomForestClassifier(n_estimators=10,\n",
    "                              random_state=2021)\n",
    "# Evaluate model\n",
    "scores = cross_val_score(rfc, X_train, y_train, scoring='accuracy', cv=cv, n_jobs=-1)\n",
    "\n",
    "# Report performance\n",
    "print('Accuracy: %.3f (%.3f)' % (np.mean(scores), np.std(scores)))"
   ]
  },
  {
   "cell_type": "code",
   "execution_count": 34,
   "metadata": {},
   "outputs": [
    {
     "name": "stdout",
     "output_type": "stream",
     "text": [
      "_________________________________________________________________\n",
      "Layer (type)                 Output Shape              Param #   \n",
      "=================================================================\n",
      "dense_4 (Dense)              (None, 16)                80        \n",
      "_________________________________________________________________\n",
      "dense_5 (Dense)              (None, 4)                 68        \n",
      "_________________________________________________________________\n",
      "dense_6 (Dense)              (None, 1)                 5         \n",
      "=================================================================\n",
      "Total params: 153\n",
      "Trainable params: 153\n",
      "Non-trainable params: 0\n",
      "_________________________________________________________________\n"
     ]
    }
   ],
   "source": [
    "from sklearn.preprocessing import StandardScaler\n",
    "\n",
    "scaler = StandardScaler()\n",
    "X_train_scaled = scaler.fit_transform(X_train)\n",
    "\n",
    "fcnn = Sequential()\n",
    "fcnn.add(Dense(16, input_dim=4, activation=\"relu\"))\n",
    "fcnn.add(Dense(4, activation=\"relu\"))\n",
    "fcnn.add(Dense(1, activation=\"sigmoid\"))\n",
    "\n",
    "fcnn.summary()"
   ]
  },
  {
   "cell_type": "code",
   "execution_count": 36,
   "metadata": {},
   "outputs": [
    {
     "name": "stdout",
     "output_type": "stream",
     "text": [
      "Train on 1963 samples, validate on 347 samples\n",
      "Epoch 1/60\n",
      "1963/1963 [==============================] - 1s 472us/step - loss: 0.6875 - acc: 0.5395 - val_loss: 0.6933 - val_acc: 0.5216\n",
      "Epoch 2/60\n",
      "1963/1963 [==============================] - 0s 218us/step - loss: 0.6871 - acc: 0.5410 - val_loss: 0.6934 - val_acc: 0.5187\n",
      "Epoch 3/60\n",
      "1963/1963 [==============================] - 0s 185us/step - loss: 0.6871 - acc: 0.5385 - val_loss: 0.6930 - val_acc: 0.5303\n",
      "Epoch 4/60\n",
      "1963/1963 [==============================] - 0s 188us/step - loss: 0.6871 - acc: 0.5390 - val_loss: 0.6933 - val_acc: 0.5360\n",
      "Epoch 5/60\n",
      "1963/1963 [==============================] - 0s 195us/step - loss: 0.6869 - acc: 0.5395 - val_loss: 0.6929 - val_acc: 0.5274\n",
      "Epoch 6/60\n",
      "1963/1963 [==============================] - 0s 210us/step - loss: 0.6869 - acc: 0.5369 - val_loss: 0.6933 - val_acc: 0.5245\n",
      "Epoch 7/60\n",
      "1963/1963 [==============================] - 0s 210us/step - loss: 0.6869 - acc: 0.5380 - val_loss: 0.6937 - val_acc: 0.5101\n",
      "Epoch 8/60\n",
      "1963/1963 [==============================] - 0s 187us/step - loss: 0.6869 - acc: 0.5415 - val_loss: 0.6936 - val_acc: 0.5187\n",
      "Epoch 9/60\n",
      "1963/1963 [==============================] - 0s 188us/step - loss: 0.6867 - acc: 0.5410 - val_loss: 0.6930 - val_acc: 0.5216\n",
      "Epoch 10/60\n",
      "1963/1963 [==============================] - 0s 190us/step - loss: 0.6868 - acc: 0.5390 - val_loss: 0.6934 - val_acc: 0.5245\n",
      "Epoch 11/60\n",
      "1963/1963 [==============================] - 0s 216us/step - loss: 0.6866 - acc: 0.5441 - val_loss: 0.6934 - val_acc: 0.5216\n",
      "Epoch 12/60\n",
      "1963/1963 [==============================] - 0s 191us/step - loss: 0.6866 - acc: 0.5415 - val_loss: 0.6935 - val_acc: 0.5130\n",
      "Epoch 13/60\n",
      "1963/1963 [==============================] - 0s 191us/step - loss: 0.6865 - acc: 0.5395 - val_loss: 0.6929 - val_acc: 0.5303\n",
      "Epoch 14/60\n",
      "1963/1963 [==============================] - 0s 188us/step - loss: 0.6864 - acc: 0.5430 - val_loss: 0.6932 - val_acc: 0.5216\n",
      "Epoch 15/60\n",
      "1963/1963 [==============================] - 0s 195us/step - loss: 0.6864 - acc: 0.5430 - val_loss: 0.6925 - val_acc: 0.5274\n",
      "Epoch 16/60\n",
      "1963/1963 [==============================] - 0s 191us/step - loss: 0.6864 - acc: 0.5395 - val_loss: 0.6923 - val_acc: 0.5389\n",
      "Epoch 17/60\n",
      "1963/1963 [==============================] - 0s 219us/step - loss: 0.6861 - acc: 0.5492 - val_loss: 0.6925 - val_acc: 0.5303\n",
      "Epoch 18/60\n",
      "1963/1963 [==============================] - 0s 202us/step - loss: 0.6861 - acc: 0.5476 - val_loss: 0.6926 - val_acc: 0.5303\n",
      "Epoch 19/60\n",
      "1963/1963 [==============================] - 0s 187us/step - loss: 0.6861 - acc: 0.5446 - val_loss: 0.6922 - val_acc: 0.5331\n",
      "Epoch 20/60\n",
      "1963/1963 [==============================] - 0s 190us/step - loss: 0.6861 - acc: 0.5451 - val_loss: 0.6924 - val_acc: 0.5303\n",
      "Epoch 21/60\n",
      "1963/1963 [==============================] - 0s 191us/step - loss: 0.6860 - acc: 0.5502 - val_loss: 0.6929 - val_acc: 0.5274\n",
      "Epoch 22/60\n",
      "1963/1963 [==============================] - 0s 191us/step - loss: 0.6861 - acc: 0.5430 - val_loss: 0.6933 - val_acc: 0.5303\n",
      "Epoch 23/60\n",
      "1963/1963 [==============================] - 0s 189us/step - loss: 0.6859 - acc: 0.5476 - val_loss: 0.6931 - val_acc: 0.5418\n",
      "Epoch 24/60\n",
      "1963/1963 [==============================] - 0s 209us/step - loss: 0.6857 - acc: 0.5481 - val_loss: 0.6935 - val_acc: 0.5303\n",
      "Epoch 25/60\n",
      "1963/1963 [==============================] - 0s 218us/step - loss: 0.6859 - acc: 0.5461 - val_loss: 0.6931 - val_acc: 0.5274\n",
      "Epoch 26/60\n",
      "1963/1963 [==============================] - 0s 192us/step - loss: 0.6861 - acc: 0.5466 - val_loss: 0.6926 - val_acc: 0.5331\n",
      "Epoch 27/60\n",
      "1963/1963 [==============================] - 0s 190us/step - loss: 0.6858 - acc: 0.5512 - val_loss: 0.6928 - val_acc: 0.5303\n",
      "Epoch 28/60\n",
      "1963/1963 [==============================] - 0s 221us/step - loss: 0.6855 - acc: 0.5481 - val_loss: 0.6929 - val_acc: 0.5274\n",
      "Epoch 29/60\n",
      "1963/1963 [==============================] - 0s 198us/step - loss: 0.6855 - acc: 0.5492 - val_loss: 0.6923 - val_acc: 0.5476\n",
      "Epoch 30/60\n",
      "1963/1963 [==============================] - 0s 205us/step - loss: 0.6856 - acc: 0.5497 - val_loss: 0.6934 - val_acc: 0.5331\n",
      "Epoch 31/60\n",
      "1963/1963 [==============================] - 0s 202us/step - loss: 0.6854 - acc: 0.5466 - val_loss: 0.6930 - val_acc: 0.5389\n",
      "Epoch 32/60\n",
      "1963/1963 [==============================] - 0s 195us/step - loss: 0.6854 - acc: 0.5456 - val_loss: 0.6924 - val_acc: 0.5303\n",
      "Epoch 33/60\n",
      "1963/1963 [==============================] - 0s 192us/step - loss: 0.6852 - acc: 0.5492 - val_loss: 0.6931 - val_acc: 0.5274\n",
      "Epoch 34/60\n",
      "1963/1963 [==============================] - 0s 191us/step - loss: 0.6852 - acc: 0.5532 - val_loss: 0.6915 - val_acc: 0.5504\n",
      "Epoch 35/60\n",
      "1963/1963 [==============================] - 0s 190us/step - loss: 0.6853 - acc: 0.5451 - val_loss: 0.6925 - val_acc: 0.5303\n",
      "Epoch 36/60\n",
      "1963/1963 [==============================] - 0s 196us/step - loss: 0.6853 - acc: 0.5466 - val_loss: 0.6926 - val_acc: 0.5331\n",
      "Epoch 37/60\n",
      "1963/1963 [==============================] - 0s 228us/step - loss: 0.6851 - acc: 0.5497 - val_loss: 0.6927 - val_acc: 0.5216\n",
      "Epoch 38/60\n",
      "1963/1963 [==============================] - 0s 203us/step - loss: 0.6852 - acc: 0.5487 - val_loss: 0.6928 - val_acc: 0.5303\n",
      "Epoch 39/60\n",
      "1963/1963 [==============================] - 0s 193us/step - loss: 0.6850 - acc: 0.5481 - val_loss: 0.6921 - val_acc: 0.5360\n",
      "Epoch 40/60\n",
      "1963/1963 [==============================] - 0s 196us/step - loss: 0.6849 - acc: 0.5527 - val_loss: 0.6928 - val_acc: 0.5274\n",
      "Epoch 41/60\n",
      "1963/1963 [==============================] - 0s 195us/step - loss: 0.6849 - acc: 0.5476 - val_loss: 0.6943 - val_acc: 0.5101\n",
      "Epoch 42/60\n",
      "1963/1963 [==============================] - 0s 225us/step - loss: 0.6848 - acc: 0.5466 - val_loss: 0.6923 - val_acc: 0.5274\n",
      "Epoch 43/60\n",
      "1963/1963 [==============================] - 0s 207us/step - loss: 0.6848 - acc: 0.5487 - val_loss: 0.6926 - val_acc: 0.5274\n",
      "Epoch 44/60\n",
      "1963/1963 [==============================] - 0s 197us/step - loss: 0.6848 - acc: 0.5527 - val_loss: 0.6929 - val_acc: 0.5159\n",
      "Epoch 45/60\n",
      "1963/1963 [==============================] - 0s 193us/step - loss: 0.6847 - acc: 0.5507 - val_loss: 0.6932 - val_acc: 0.5245\n",
      "Epoch 46/60\n",
      "1963/1963 [==============================] - 0s 190us/step - loss: 0.6847 - acc: 0.5476 - val_loss: 0.6927 - val_acc: 0.5331\n",
      "Epoch 47/60\n",
      "1963/1963 [==============================] - 0s 192us/step - loss: 0.6847 - acc: 0.5548 - val_loss: 0.6930 - val_acc: 0.5245\n",
      "Epoch 48/60\n",
      "1963/1963 [==============================] - 0s 189us/step - loss: 0.6843 - acc: 0.5543 - val_loss: 0.6933 - val_acc: 0.5331\n",
      "Epoch 49/60\n",
      "1963/1963 [==============================] - 0s 192us/step - loss: 0.6844 - acc: 0.5446 - val_loss: 0.6924 - val_acc: 0.5331\n",
      "Epoch 50/60\n",
      "1963/1963 [==============================] - 0s 190us/step - loss: 0.6846 - acc: 0.5548 - val_loss: 0.6927 - val_acc: 0.5360\n",
      "Epoch 51/60\n",
      "1963/1963 [==============================] - 0s 207us/step - loss: 0.6842 - acc: 0.5527 - val_loss: 0.6933 - val_acc: 0.5216\n",
      "Epoch 52/60\n",
      "1963/1963 [==============================] - 0s 246us/step - loss: 0.6842 - acc: 0.5573 - val_loss: 0.6929 - val_acc: 0.5245\n",
      "Epoch 53/60\n",
      "1963/1963 [==============================] - 0s 194us/step - loss: 0.6839 - acc: 0.5512 - val_loss: 0.6927 - val_acc: 0.5360\n",
      "Epoch 54/60\n",
      "1963/1963 [==============================] - 0s 190us/step - loss: 0.6841 - acc: 0.5522 - val_loss: 0.6921 - val_acc: 0.5476\n",
      "Epoch 55/60\n",
      "1963/1963 [==============================] - 0s 192us/step - loss: 0.6840 - acc: 0.5522 - val_loss: 0.6915 - val_acc: 0.5389\n",
      "Epoch 56/60\n",
      "1963/1963 [==============================] - 0s 204us/step - loss: 0.6838 - acc: 0.5512 - val_loss: 0.6926 - val_acc: 0.5331\n",
      "Epoch 57/60\n",
      "1963/1963 [==============================] - 0s 225us/step - loss: 0.6839 - acc: 0.5441 - val_loss: 0.6916 - val_acc: 0.5620\n",
      "Epoch 58/60\n",
      "1963/1963 [==============================] - 0s 227us/step - loss: 0.6838 - acc: 0.5507 - val_loss: 0.6924 - val_acc: 0.5216\n",
      "Epoch 59/60\n",
      "1963/1963 [==============================] - 0s 203us/step - loss: 0.6836 - acc: 0.5522 - val_loss: 0.6917 - val_acc: 0.5447\n",
      "Epoch 60/60\n",
      "1963/1963 [==============================] - 0s 213us/step - loss: 0.6837 - acc: 0.5532 - val_loss: 0.6930 - val_acc: 0.5447\n"
     ]
    },
    {
     "data": {
      "text/plain": [
       "<keras.callbacks.History at 0x22a7c50cc88>"
      ]
     },
     "execution_count": 36,
     "metadata": {},
     "output_type": "execute_result"
    }
   ],
   "source": [
    "# Compiling the model\n",
    "fcnn.compile(loss=\"binary_crossentropy\", optimizer=\"adam\", metrics=[\"accuracy\"])\n",
    "\n",
    "# Defining callbacks\n",
    "filepath=\"SBIN_move_predictor_weights.hdf5\"\n",
    "checkpoint = ModelCheckpoint(filepath, monitor='val_accuracy', verbose=1, save_best_only=True, mode='max')\n",
    "callbacks_list = [checkpoint]\n",
    "\n",
    "fcnn.fit(X_train_scaled, y_train, epochs=60, \n",
    "         batch_size=16, validation_split=0.15)"
   ]
  },
  {
   "cell_type": "code",
   "execution_count": null,
   "metadata": {},
   "outputs": [],
   "source": []
  }
 ],
 "metadata": {
  "kernelspec": {
   "display_name": "Python 3",
   "language": "python",
   "name": "python3"
  },
  "language_info": {
   "codemirror_mode": {
    "name": "ipython",
    "version": 3
   },
   "file_extension": ".py",
   "mimetype": "text/x-python",
   "name": "python",
   "nbconvert_exporter": "python",
   "pygments_lexer": "ipython3",
   "version": "3.6.5"
  }
 },
 "nbformat": 4,
 "nbformat_minor": 2
}
