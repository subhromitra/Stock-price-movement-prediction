{
 "cells": [
  {
   "cell_type": "code",
   "execution_count": 1,
   "metadata": {},
   "outputs": [
    {
     "name": "stderr",
     "output_type": "stream",
     "text": [
      "Using TensorFlow backend.\n"
     ]
    },
    {
     "data": {
      "text/html": [
       "['/job:localhost/replica:0/task:0/device:GPU:0']"
      ],
      "text/plain": [
       "['/job:localhost/replica:0/task:0/device:GPU:0']"
      ]
     },
     "execution_count": 1,
     "metadata": {},
     "output_type": "execute_result"
    }
   ],
   "source": [
    "import os\n",
    "import time\n",
    "import datetime\n",
    "import numpy as np\n",
    "import pandas as pd\n",
    "# For seeing all columns\n",
    "pd.set_option('max_columns', None)\n",
    "\n",
    "from scipy.stats import reciprocal\n",
    "\n",
    "# For data-visualization\n",
    "import matplotlib.pyplot as plt\n",
    "import seaborn as sns\n",
    "\n",
    "# ML model classes\n",
    "from sklearn.linear_model import LogisticRegression\n",
    "from sklearn.neighbors import KNeighborsClassifier\n",
    "from sklearn.ensemble import RandomForestClassifier\n",
    "import xgboost as xgb\n",
    "from sklearn.svm import SVC, NuSVC\n",
    "\n",
    "# For making pipelines\n",
    "from sklearn.pipeline import make_pipeline\n",
    "\n",
    "from keras.models import Sequential\n",
    "from keras.layers import Dense\n",
    "from keras.callbacks import ModelCheckpoint\n",
    "from keras import backend as K\n",
    "\n",
    "# For model explainability\n",
    "#import eli5\n",
    "import shap\n",
    "from xgboost import plot_importance\n",
    "\n",
    "# For cross-validation\n",
    "from sklearn.model_selection import RepeatedStratifiedKFold\n",
    "from sklearn.model_selection import RandomizedSearchCV\n",
    "from sklearn.model_selection import cross_val_score\n",
    "\n",
    "# For checking accuracy\n",
    "from sklearn.metrics import precision_score\n",
    "from sklearn.metrics import accuracy_score\n",
    "\n",
    "# For feature scaling\n",
    "from sklearn.preprocessing import StandardScaler\n",
    "\n",
    "# For replication of results\n",
    "np.random.seed(2021)\n",
    "\n",
    "# Check whether machine has GPU\n",
    "K.tensorflow_backend._get_available_gpus()"
   ]
  },
  {
   "cell_type": "code",
   "execution_count": 2,
   "metadata": {},
   "outputs": [
    {
     "data": {
      "text/html": [
       "<div>\n",
       "<style scoped>\n",
       "    .dataframe tbody tr th:only-of-type {\n",
       "        vertical-align: middle;\n",
       "    }\n",
       "\n",
       "    .dataframe tbody tr th {\n",
       "        vertical-align: top;\n",
       "    }\n",
       "\n",
       "    .dataframe thead th {\n",
       "        text-align: right;\n",
       "    }\n",
       "</style>\n",
       "<table border=\"1\" class=\"dataframe\">\n",
       "  <thead>\n",
       "    <tr style=\"text-align: right;\">\n",
       "      <th></th>\n",
       "      <th>Date</th>\n",
       "      <th>High</th>\n",
       "      <th>Low</th>\n",
       "      <th>Open</th>\n",
       "      <th>Close</th>\n",
       "      <th>Volume</th>\n",
       "      <th>Adj Close</th>\n",
       "    </tr>\n",
       "  </thead>\n",
       "  <tbody>\n",
       "    <tr>\n",
       "      <th>0</th>\n",
       "      <td>2007-12-03</td>\n",
       "      <td>221.341003</td>\n",
       "      <td>217.755005</td>\n",
       "      <td>219.839996</td>\n",
       "      <td>219.345001</td>\n",
       "      <td>10122532.0</td>\n",
       "      <td>65.268867</td>\n",
       "    </tr>\n",
       "    <tr>\n",
       "      <th>1</th>\n",
       "      <td>2007-12-04</td>\n",
       "      <td>221.240997</td>\n",
       "      <td>217.199005</td>\n",
       "      <td>219.557007</td>\n",
       "      <td>218.406006</td>\n",
       "      <td>8591649.0</td>\n",
       "      <td>64.989471</td>\n",
       "    </tr>\n",
       "    <tr>\n",
       "      <th>2</th>\n",
       "      <td>2007-12-05</td>\n",
       "      <td>226.350998</td>\n",
       "      <td>218.080994</td>\n",
       "      <td>218.518997</td>\n",
       "      <td>224.983002</td>\n",
       "      <td>12728929.0</td>\n",
       "      <td>66.946533</td>\n",
       "    </tr>\n",
       "  </tbody>\n",
       "</table>\n",
       "</div>"
      ],
      "text/plain": [
       "         Date        High         Low        Open       Close      Volume  \\\n",
       "0  2007-12-03  221.341003  217.755005  219.839996  219.345001  10122532.0   \n",
       "1  2007-12-04  221.240997  217.199005  219.557007  218.406006   8591649.0   \n",
       "2  2007-12-05  226.350998  218.080994  218.518997  224.983002  12728929.0   \n",
       "\n",
       "   Adj Close  \n",
       "0  65.268867  \n",
       "1  64.989471  \n",
       "2  66.946533  "
      ]
     },
     "execution_count": 2,
     "metadata": {},
     "output_type": "execute_result"
    }
   ],
   "source": [
    "par_dir = r\"C:\\Users\\smitr\\Desktop\\FinPython\\data\\nifty50\"\n",
    "file_name = \"SBIN.csv\"\n",
    "file_path_sbi = os.path.join(par_dir, file_name)\n",
    "\n",
    "par_dir_nifty = r\"C:\\Users\\smitr\\Desktop\\FinPython\\data\"\n",
    "file_name = \"NIFTY_17Sep07_09Nov20.csv\"\n",
    "file_path_niftySpot = os.path.join(par_dir_nifty, file_name)\n",
    "\n",
    "file_name = \"NiftyBank_17Sep07_06Nov20.csv\"\n",
    "file_path_bankNftySpot = os.path.join(par_dir_nifty, file_name)\n",
    "\n",
    "par_dir_int_indices = os.path.join(par_dir_nifty, \"International Indices\")\n",
    "file_path_nikkei = os.path.join(par_dir_int_indices, \"Nikkei225_04Jan80_08Jan21.csv\")\n",
    "\n",
    "#par_dir_int_indices = os.path.join(par_dir_nifty, \"International Indices\")\n",
    "#file_path_hngSng = os.path.join(par_dir_int_indices, \"HangSeng_31Dec86_08Jan21.csv\")\n",
    "\n",
    "df = pd.read_csv(file_path_sbi)\n",
    "df.head(3)"
   ]
  },
  {
   "cell_type": "markdown",
   "metadata": {},
   "source": [
    "## Feature extraction :-"
   ]
  },
  {
   "cell_type": "code",
   "execution_count": 3,
   "metadata": {},
   "outputs": [],
   "source": [
    "def target_transform(x):\n",
    "    if x > 0:\n",
    "        return 1\n",
    "    else:\n",
    "        return 0\n",
    "\n",
    "def get_month_day(date):\n",
    "    return int(date.split(\"-\")[2])    \n",
    "\n",
    "def get_month(date):\n",
    "    return int(date.split(\"-\")[1])"
   ]
  },
  {
   "cell_type": "code",
   "execution_count": 4,
   "metadata": {},
   "outputs": [
    {
     "data": {
      "text/html": [
       "<div>\n",
       "<style scoped>\n",
       "    .dataframe tbody tr th:only-of-type {\n",
       "        vertical-align: middle;\n",
       "    }\n",
       "\n",
       "    .dataframe tbody tr th {\n",
       "        vertical-align: top;\n",
       "    }\n",
       "\n",
       "    .dataframe thead th {\n",
       "        text-align: right;\n",
       "    }\n",
       "</style>\n",
       "<table border=\"1\" class=\"dataframe\">\n",
       "  <thead>\n",
       "    <tr style=\"text-align: right;\">\n",
       "      <th></th>\n",
       "      <th>Date</th>\n",
       "      <th>High</th>\n",
       "      <th>Low</th>\n",
       "      <th>Open</th>\n",
       "      <th>Close</th>\n",
       "      <th>Volume</th>\n",
       "      <th>Adj Close</th>\n",
       "      <th>return</th>\n",
       "      <th>ret_pct</th>\n",
       "      <th>Target</th>\n",
       "    </tr>\n",
       "  </thead>\n",
       "  <tbody>\n",
       "    <tr>\n",
       "      <th>0</th>\n",
       "      <td>2007-12-03</td>\n",
       "      <td>221.341003</td>\n",
       "      <td>217.755005</td>\n",
       "      <td>219.839996</td>\n",
       "      <td>219.345001</td>\n",
       "      <td>10122532.0</td>\n",
       "      <td>65.268867</td>\n",
       "      <td>0.494995</td>\n",
       "      <td>0.002252</td>\n",
       "      <td>1</td>\n",
       "    </tr>\n",
       "    <tr>\n",
       "      <th>1</th>\n",
       "      <td>2007-12-04</td>\n",
       "      <td>221.240997</td>\n",
       "      <td>217.199005</td>\n",
       "      <td>219.557007</td>\n",
       "      <td>218.406006</td>\n",
       "      <td>8591649.0</td>\n",
       "      <td>64.989471</td>\n",
       "      <td>1.151001</td>\n",
       "      <td>0.005242</td>\n",
       "      <td>1</td>\n",
       "    </tr>\n",
       "    <tr>\n",
       "      <th>2</th>\n",
       "      <td>2007-12-05</td>\n",
       "      <td>226.350998</td>\n",
       "      <td>218.080994</td>\n",
       "      <td>218.518997</td>\n",
       "      <td>224.983002</td>\n",
       "      <td>12728929.0</td>\n",
       "      <td>66.946533</td>\n",
       "      <td>-6.464005</td>\n",
       "      <td>-0.029581</td>\n",
       "      <td>0</td>\n",
       "    </tr>\n",
       "  </tbody>\n",
       "</table>\n",
       "</div>"
      ],
      "text/plain": [
       "         Date        High         Low        Open       Close      Volume  \\\n",
       "0  2007-12-03  221.341003  217.755005  219.839996  219.345001  10122532.0   \n",
       "1  2007-12-04  221.240997  217.199005  219.557007  218.406006   8591649.0   \n",
       "2  2007-12-05  226.350998  218.080994  218.518997  224.983002  12728929.0   \n",
       "\n",
       "   Adj Close    return   ret_pct  Target  \n",
       "0  65.268867  0.494995  0.002252       1  \n",
       "1  64.989471  1.151001  0.005242       1  \n",
       "2  66.946533 -6.464005 -0.029581       0  "
      ]
     },
     "execution_count": 4,
     "metadata": {},
     "output_type": "execute_result"
    }
   ],
   "source": [
    "df[\"return\"] = df[\"Open\"] - df[\"Close\"]\n",
    "df[\"ret_pct\"] = (df[\"Open\"] - df[\"Close\"]) / df[\"Open\"]\n",
    "df[\"Target\"] = df[\"return\"].apply(target_transform)\n",
    "df.head(3)"
   ]
  },
  {
   "cell_type": "code",
   "execution_count": 5,
   "metadata": {},
   "outputs": [
    {
     "data": {
      "text/html": [
       "<div>\n",
       "<style scoped>\n",
       "    .dataframe tbody tr th:only-of-type {\n",
       "        vertical-align: middle;\n",
       "    }\n",
       "\n",
       "    .dataframe tbody tr th {\n",
       "        vertical-align: top;\n",
       "    }\n",
       "\n",
       "    .dataframe thead th {\n",
       "        text-align: right;\n",
       "    }\n",
       "</style>\n",
       "<table border=\"1\" class=\"dataframe\">\n",
       "  <thead>\n",
       "    <tr style=\"text-align: right;\">\n",
       "      <th></th>\n",
       "      <th>Date</th>\n",
       "      <th>High</th>\n",
       "      <th>Low</th>\n",
       "      <th>Open</th>\n",
       "      <th>Close</th>\n",
       "      <th>Volume</th>\n",
       "      <th>Adj Close</th>\n",
       "      <th>return</th>\n",
       "      <th>ret_pct</th>\n",
       "      <th>Target</th>\n",
       "      <th>Stock_gap</th>\n",
       "      <th>MonthDay</th>\n",
       "      <th>Month</th>\n",
       "      <th>NiftySpot_gap</th>\n",
       "      <th>BankNiftySpot_gap</th>\n",
       "      <th>Nikkei_gap</th>\n",
       "    </tr>\n",
       "  </thead>\n",
       "  <tbody>\n",
       "    <tr>\n",
       "      <th>1</th>\n",
       "      <td>2007-12-04</td>\n",
       "      <td>221.240997</td>\n",
       "      <td>217.199005</td>\n",
       "      <td>219.557007</td>\n",
       "      <td>218.406006</td>\n",
       "      <td>8591649.0</td>\n",
       "      <td>64.989471</td>\n",
       "      <td>1.151001</td>\n",
       "      <td>0.005242</td>\n",
       "      <td>1</td>\n",
       "      <td>0.212006</td>\n",
       "      <td>4</td>\n",
       "      <td>12</td>\n",
       "      <td>5.200195</td>\n",
       "      <td>6.600586</td>\n",
       "      <td>-15.080078</td>\n",
       "    </tr>\n",
       "    <tr>\n",
       "      <th>2</th>\n",
       "      <td>2007-12-05</td>\n",
       "      <td>226.350998</td>\n",
       "      <td>218.080994</td>\n",
       "      <td>218.518997</td>\n",
       "      <td>224.983002</td>\n",
       "      <td>12728929.0</td>\n",
       "      <td>66.946533</td>\n",
       "      <td>-6.464005</td>\n",
       "      <td>-0.029581</td>\n",
       "      <td>0</td>\n",
       "      <td>0.112991</td>\n",
       "      <td>5</td>\n",
       "      <td>12</td>\n",
       "      <td>3.549805</td>\n",
       "      <td>6.350586</td>\n",
       "      <td>-61.240234</td>\n",
       "    </tr>\n",
       "    <tr>\n",
       "      <th>3</th>\n",
       "      <td>2007-12-06</td>\n",
       "      <td>229.917007</td>\n",
       "      <td>224.464005</td>\n",
       "      <td>226.445007</td>\n",
       "      <td>226.024994</td>\n",
       "      <td>10837323.0</td>\n",
       "      <td>67.256592</td>\n",
       "      <td>0.420013</td>\n",
       "      <td>0.001855</td>\n",
       "      <td>1</td>\n",
       "      <td>1.462006</td>\n",
       "      <td>6</td>\n",
       "      <td>12</td>\n",
       "      <td>1.049805</td>\n",
       "      <td>63.500000</td>\n",
       "      <td>173.520508</td>\n",
       "    </tr>\n",
       "    <tr>\n",
       "      <th>4</th>\n",
       "      <td>2007-12-07</td>\n",
       "      <td>231.889008</td>\n",
       "      <td>225.501007</td>\n",
       "      <td>228.785004</td>\n",
       "      <td>229.822998</td>\n",
       "      <td>10566995.0</td>\n",
       "      <td>68.386726</td>\n",
       "      <td>-1.037994</td>\n",
       "      <td>-0.004537</td>\n",
       "      <td>0</td>\n",
       "      <td>2.760010</td>\n",
       "      <td>7</td>\n",
       "      <td>12</td>\n",
       "      <td>8.899902</td>\n",
       "      <td>57.699219</td>\n",
       "      <td>118.160156</td>\n",
       "    </tr>\n",
       "    <tr>\n",
       "      <th>5</th>\n",
       "      <td>2007-12-10</td>\n",
       "      <td>231.960007</td>\n",
       "      <td>227.860001</td>\n",
       "      <td>229.841995</td>\n",
       "      <td>228.893005</td>\n",
       "      <td>5373405.0</td>\n",
       "      <td>68.110001</td>\n",
       "      <td>0.948990</td>\n",
       "      <td>0.004129</td>\n",
       "      <td>1</td>\n",
       "      <td>0.018997</td>\n",
       "      <td>10</td>\n",
       "      <td>12</td>\n",
       "      <td>-0.299805</td>\n",
       "      <td>4.100586</td>\n",
       "      <td>50.959961</td>\n",
       "    </tr>\n",
       "  </tbody>\n",
       "</table>\n",
       "</div>"
      ],
      "text/plain": [
       "         Date        High         Low        Open       Close      Volume  \\\n",
       "1  2007-12-04  221.240997  217.199005  219.557007  218.406006   8591649.0   \n",
       "2  2007-12-05  226.350998  218.080994  218.518997  224.983002  12728929.0   \n",
       "3  2007-12-06  229.917007  224.464005  226.445007  226.024994  10837323.0   \n",
       "4  2007-12-07  231.889008  225.501007  228.785004  229.822998  10566995.0   \n",
       "5  2007-12-10  231.960007  227.860001  229.841995  228.893005   5373405.0   \n",
       "\n",
       "   Adj Close    return   ret_pct  Target  Stock_gap  MonthDay  Month  \\\n",
       "1  64.989471  1.151001  0.005242       1   0.212006         4     12   \n",
       "2  66.946533 -6.464005 -0.029581       0   0.112991         5     12   \n",
       "3  67.256592  0.420013  0.001855       1   1.462006         6     12   \n",
       "4  68.386726 -1.037994 -0.004537       0   2.760010         7     12   \n",
       "5  68.110001  0.948990  0.004129       1   0.018997        10     12   \n",
       "\n",
       "   NiftySpot_gap  BankNiftySpot_gap  Nikkei_gap  \n",
       "1       5.200195           6.600586  -15.080078  \n",
       "2       3.549805           6.350586  -61.240234  \n",
       "3       1.049805          63.500000  173.520508  \n",
       "4       8.899902          57.699219  118.160156  \n",
       "5      -0.299805           4.100586   50.959961  "
      ]
     },
     "execution_count": 5,
     "metadata": {},
     "output_type": "execute_result"
    }
   ],
   "source": [
    "# Gap up/down of stock price gives a view about current sentiment regarding stock\n",
    "df[\"Stock_gap\"] = df[\"Open\"] - df[\"Close\"].shift(periods=1)\n",
    "#df[\"prev3_Target\"] = df[\"Target\"].shift(periods=3)\n",
    "\n",
    "# Using day of month as a feature\n",
    "df[\"MonthDay\"] = df[\"Date\"].apply(get_month_day)\n",
    "\n",
    "# Using month as a feature\n",
    "df[\"Month\"] = df[\"Date\"].apply(get_month)\n",
    "\n",
    "# Nifty spot gap up/down\n",
    "df_nfty_spot = pd.read_csv(file_path_niftySpot)\n",
    "df_nfty_spot[\"NiftySpot_gap\"] = df_nfty_spot[\"Open\"] - df_nfty_spot[\"Close\"].shift(periods=1)\n",
    "\n",
    "# Sector-wise gap up/down\n",
    "df_bankNfty_spot = pd.read_csv(file_path_bankNftySpot)\n",
    "df_bankNfty_spot[\"BankNiftySpot_gap\"] = df_bankNfty_spot[\"Open\"] - df_bankNfty_spot[\"Close\"].shift(periods=1)\n",
    "\n",
    "# Nikkei gap up/down\n",
    "df_nikkei = pd.read_csv(file_path_nikkei)\n",
    "df_nikkei[\"Nikkei_gap\"] = df_nikkei[\"Open\"] - df_nikkei[\"Close\"].shift(periods=1)\n",
    "\n",
    "# Hang Seng gap up/down\n",
    "#df_hngSng = pd.read_csv(file_path_hngSng)\n",
    "#df_hngSng[\"HangSeng_gap\"] = df_hngSng[\"Open\"] - df_hngSng[\"Close\"].shift(periods=1)\n",
    "\n",
    "# Merging data frames\n",
    "df = pd.merge(df, df_nfty_spot[[\"Date\", \"NiftySpot_gap\"]], on=\"Date\")\n",
    "df = pd.merge(df, df_bankNfty_spot[[\"Date\", \"BankNiftySpot_gap\"]], on=\"Date\")\n",
    "df = pd.merge(df, df_nikkei[[\"Date\", \"Nikkei_gap\"]], on=\"Date\")\n",
    "#df = pd.merge(df, df_hngSng[[\"Date\", \"HangSeng_gap\"]], on=\"Date\")\n",
    "\n",
    "# Dropping rows with NaN values\n",
    "df.dropna(inplace=True)\n",
    "\n",
    "df.head()"
   ]
  },
  {
   "cell_type": "markdown",
   "metadata": {},
   "source": [
    "## Train-test split :-"
   ]
  },
  {
   "cell_type": "code",
   "execution_count": 6,
   "metadata": {},
   "outputs": [
    {
     "name": "stdout",
     "output_type": "stream",
     "text": [
      "2167\n"
     ]
    },
    {
     "data": {
      "text/html": [
       "<div>\n",
       "<style scoped>\n",
       "    .dataframe tbody tr th:only-of-type {\n",
       "        vertical-align: middle;\n",
       "    }\n",
       "\n",
       "    .dataframe tbody tr th {\n",
       "        vertical-align: top;\n",
       "    }\n",
       "\n",
       "    .dataframe thead th {\n",
       "        text-align: right;\n",
       "    }\n",
       "</style>\n",
       "<table border=\"1\" class=\"dataframe\">\n",
       "  <thead>\n",
       "    <tr style=\"text-align: right;\">\n",
       "      <th></th>\n",
       "      <th>Date</th>\n",
       "      <th>High</th>\n",
       "      <th>Low</th>\n",
       "      <th>Open</th>\n",
       "      <th>Close</th>\n",
       "      <th>Volume</th>\n",
       "      <th>Adj Close</th>\n",
       "      <th>return</th>\n",
       "      <th>ret_pct</th>\n",
       "      <th>Target</th>\n",
       "      <th>Stock_gap</th>\n",
       "      <th>MonthDay</th>\n",
       "      <th>Month</th>\n",
       "      <th>NiftySpot_gap</th>\n",
       "      <th>BankNiftySpot_gap</th>\n",
       "      <th>Nikkei_gap</th>\n",
       "    </tr>\n",
       "  </thead>\n",
       "  <tbody>\n",
       "    <tr>\n",
       "      <th>1</th>\n",
       "      <td>2007-12-04</td>\n",
       "      <td>221.240997</td>\n",
       "      <td>217.199005</td>\n",
       "      <td>219.557007</td>\n",
       "      <td>218.406006</td>\n",
       "      <td>8591649.0</td>\n",
       "      <td>64.989471</td>\n",
       "      <td>1.151001</td>\n",
       "      <td>0.005242</td>\n",
       "      <td>1</td>\n",
       "      <td>0.212006</td>\n",
       "      <td>4</td>\n",
       "      <td>12</td>\n",
       "      <td>5.200195</td>\n",
       "      <td>6.600586</td>\n",
       "      <td>-15.080078</td>\n",
       "    </tr>\n",
       "    <tr>\n",
       "      <th>2</th>\n",
       "      <td>2007-12-05</td>\n",
       "      <td>226.350998</td>\n",
       "      <td>218.080994</td>\n",
       "      <td>218.518997</td>\n",
       "      <td>224.983002</td>\n",
       "      <td>12728929.0</td>\n",
       "      <td>66.946533</td>\n",
       "      <td>-6.464005</td>\n",
       "      <td>-0.029581</td>\n",
       "      <td>0</td>\n",
       "      <td>0.112991</td>\n",
       "      <td>5</td>\n",
       "      <td>12</td>\n",
       "      <td>3.549805</td>\n",
       "      <td>6.350586</td>\n",
       "      <td>-61.240234</td>\n",
       "    </tr>\n",
       "  </tbody>\n",
       "</table>\n",
       "</div>"
      ],
      "text/plain": [
       "         Date        High         Low        Open       Close      Volume  \\\n",
       "1  2007-12-04  221.240997  217.199005  219.557007  218.406006   8591649.0   \n",
       "2  2007-12-05  226.350998  218.080994  218.518997  224.983002  12728929.0   \n",
       "\n",
       "   Adj Close    return   ret_pct  Target  Stock_gap  MonthDay  Month  \\\n",
       "1  64.989471  1.151001  0.005242       1   0.212006         4     12   \n",
       "2  66.946533 -6.464005 -0.029581       0   0.112991         5     12   \n",
       "\n",
       "   NiftySpot_gap  BankNiftySpot_gap  Nikkei_gap  \n",
       "1       5.200195           6.600586  -15.080078  \n",
       "2       3.549805           6.350586  -61.240234  "
      ]
     },
     "execution_count": 6,
     "metadata": {},
     "output_type": "execute_result"
    }
   ],
   "source": [
    "train_size = int(len(df)*0.8)\n",
    "print(train_size)\n",
    "\n",
    "train = df[:train_size]\n",
    "test = df.copy()[train_size:]\n",
    "\n",
    "train.head(2)"
   ]
  },
  {
   "cell_type": "code",
   "execution_count": 7,
   "metadata": {},
   "outputs": [
    {
     "name": "stderr",
     "output_type": "stream",
     "text": [
      "\n",
      "A value is trying to be set on a copy of a slice from a DataFrame.\n",
      "Try using .loc[row_indexer,col_indexer] = value instead\n",
      "\n",
      "See the caveats in the documentation: https://pandas.pydata.org/pandas-docs/stable/user_guide/indexing.html#returning-a-view-versus-a-copy\n",
      "\n",
      "A value is trying to be set on a copy of a slice from a DataFrame.\n",
      "Try using .loc[row_indexer,col_indexer] = value instead\n",
      "\n",
      "See the caveats in the documentation: https://pandas.pydata.org/pandas-docs/stable/user_guide/indexing.html#returning-a-view-versus-a-copy\n"
     ]
    },
    {
     "data": {
      "text/html": [
       "<div>\n",
       "<style scoped>\n",
       "    .dataframe tbody tr th:only-of-type {\n",
       "        vertical-align: middle;\n",
       "    }\n",
       "\n",
       "    .dataframe tbody tr th {\n",
       "        vertical-align: top;\n",
       "    }\n",
       "\n",
       "    .dataframe thead th {\n",
       "        text-align: right;\n",
       "    }\n",
       "</style>\n",
       "<table border=\"1\" class=\"dataframe\">\n",
       "  <thead>\n",
       "    <tr style=\"text-align: right;\">\n",
       "      <th></th>\n",
       "      <th>Date</th>\n",
       "      <th>High</th>\n",
       "      <th>Low</th>\n",
       "      <th>Open</th>\n",
       "      <th>Close</th>\n",
       "      <th>Volume</th>\n",
       "      <th>Adj Close</th>\n",
       "      <th>return</th>\n",
       "      <th>ret_pct</th>\n",
       "      <th>Target</th>\n",
       "      <th>Stock_gap</th>\n",
       "      <th>MonthDay</th>\n",
       "      <th>Month</th>\n",
       "      <th>NiftySpot_gap</th>\n",
       "      <th>BankNiftySpot_gap</th>\n",
       "      <th>Nikkei_gap</th>\n",
       "      <th>MonthDay_enc</th>\n",
       "      <th>Month_enc</th>\n",
       "    </tr>\n",
       "  </thead>\n",
       "  <tbody>\n",
       "    <tr>\n",
       "      <th>1</th>\n",
       "      <td>2007-12-04</td>\n",
       "      <td>221.240997</td>\n",
       "      <td>217.199005</td>\n",
       "      <td>219.557007</td>\n",
       "      <td>218.406006</td>\n",
       "      <td>8591649.0</td>\n",
       "      <td>64.989471</td>\n",
       "      <td>1.151001</td>\n",
       "      <td>0.005242</td>\n",
       "      <td>1</td>\n",
       "      <td>0.212006</td>\n",
       "      <td>4</td>\n",
       "      <td>12</td>\n",
       "      <td>5.200195</td>\n",
       "      <td>6.600586</td>\n",
       "      <td>-15.080078</td>\n",
       "      <td>0.492958</td>\n",
       "      <td>0.575419</td>\n",
       "    </tr>\n",
       "    <tr>\n",
       "      <th>2</th>\n",
       "      <td>2007-12-05</td>\n",
       "      <td>226.350998</td>\n",
       "      <td>218.080994</td>\n",
       "      <td>218.518997</td>\n",
       "      <td>224.983002</td>\n",
       "      <td>12728929.0</td>\n",
       "      <td>66.946533</td>\n",
       "      <td>-6.464005</td>\n",
       "      <td>-0.029581</td>\n",
       "      <td>0</td>\n",
       "      <td>0.112991</td>\n",
       "      <td>5</td>\n",
       "      <td>12</td>\n",
       "      <td>3.549805</td>\n",
       "      <td>6.350586</td>\n",
       "      <td>-61.240234</td>\n",
       "      <td>0.472222</td>\n",
       "      <td>0.575419</td>\n",
       "    </tr>\n",
       "    <tr>\n",
       "      <th>3</th>\n",
       "      <td>2007-12-06</td>\n",
       "      <td>229.917007</td>\n",
       "      <td>224.464005</td>\n",
       "      <td>226.445007</td>\n",
       "      <td>226.024994</td>\n",
       "      <td>10837323.0</td>\n",
       "      <td>67.256592</td>\n",
       "      <td>0.420013</td>\n",
       "      <td>0.001855</td>\n",
       "      <td>1</td>\n",
       "      <td>1.462006</td>\n",
       "      <td>6</td>\n",
       "      <td>12</td>\n",
       "      <td>1.049805</td>\n",
       "      <td>63.500000</td>\n",
       "      <td>173.520508</td>\n",
       "      <td>0.594203</td>\n",
       "      <td>0.575419</td>\n",
       "    </tr>\n",
       "  </tbody>\n",
       "</table>\n",
       "</div>"
      ],
      "text/plain": [
       "         Date        High         Low        Open       Close      Volume  \\\n",
       "1  2007-12-04  221.240997  217.199005  219.557007  218.406006   8591649.0   \n",
       "2  2007-12-05  226.350998  218.080994  218.518997  224.983002  12728929.0   \n",
       "3  2007-12-06  229.917007  224.464005  226.445007  226.024994  10837323.0   \n",
       "\n",
       "   Adj Close    return   ret_pct  Target  Stock_gap  MonthDay  Month  \\\n",
       "1  64.989471  1.151001  0.005242       1   0.212006         4     12   \n",
       "2  66.946533 -6.464005 -0.029581       0   0.112991         5     12   \n",
       "3  67.256592  0.420013  0.001855       1   1.462006         6     12   \n",
       "\n",
       "   NiftySpot_gap  BankNiftySpot_gap  Nikkei_gap  MonthDay_enc  Month_enc  \n",
       "1       5.200195           6.600586  -15.080078      0.492958   0.575419  \n",
       "2       3.549805           6.350586  -61.240234      0.472222   0.575419  \n",
       "3       1.049805          63.500000  173.520508      0.594203   0.575419  "
      ]
     },
     "execution_count": 7,
     "metadata": {},
     "output_type": "execute_result"
    }
   ],
   "source": [
    "# Variable = Key, Target prob = Value in dictionary\n",
    "mnthDay_encodings = train.groupby(['MonthDay'])['Target'].mean().to_dict() \n",
    "train['MonthDay_enc'] =  train['MonthDay'].map(mnthDay_encodings) \n",
    "test['MonthDay_enc'] =  test['MonthDay'].map(mnthDay_encodings) \n",
    "\n",
    "month_encodings = train.groupby(['Month'])['Target'].mean().to_dict() \n",
    "train['Month_enc'] =  train['Month'].map(month_encodings) \n",
    "test['Month_enc'] =  test['Month'].map(month_encodings) \n",
    "\n",
    "train.head(3)"
   ]
  },
  {
   "cell_type": "code",
   "execution_count": 20,
   "metadata": {},
   "outputs": [
    {
     "name": "stdout",
     "output_type": "stream",
     "text": [
      "{1: 0.43333333333333335, 2: 0.5645161290322581, 3: 0.5, 4: 0.49295774647887325, 5: 0.4722222222222222, 6: 0.5942028985507246, 7: 0.5443037974683544, 8: 0.5466666666666666, 9: 0.527027027027027, 10: 0.5657894736842105, 11: 0.5492957746478874, 12: 0.6351351351351351, 13: 0.547945205479452, 14: 0.4722222222222222, 15: 0.4852941176470588, 16: 0.48717948717948717, 17: 0.589041095890411, 18: 0.5064935064935064, 19: 0.6578947368421053, 20: 0.5571428571428572, 21: 0.5, 22: 0.52, 23: 0.47540983606557374, 24: 0.5373134328358209, 25: 0.56, 26: 0.6231884057971014, 27: 0.5714285714285714, 28: 0.5526315789473685, 29: 0.5714285714285714, 30: 0.5074626865671642, 31: 0.5135135135135135}\n",
      "{1: 0.5792349726775956, 2: 0.582010582010582, 3: 0.5128205128205128, 4: 0.5371428571428571, 5: 0.5300546448087432, 6: 0.5141509433962265, 7: 0.4869109947643979, 8: 0.6054054054054054, 9: 0.4662576687116564, 10: 0.5515151515151515, 11: 0.5238095238095238, 12: 0.5754189944134078}\n"
     ]
    }
   ],
   "source": [
    "print(mnthDay_encodings)\n",
    "print(month_encodings)"
   ]
  },
  {
   "cell_type": "code",
   "execution_count": 33,
   "metadata": {},
   "outputs": [
    {
     "name": "stdout",
     "output_type": "stream",
     "text": [
      "(2167, 6) (2167,)\n",
      "(542, 6) (542,)\n"
     ]
    }
   ],
   "source": [
    "not_feats = [\"Date\",\"High\",\"Low\",\"Open\",\"Close\",\"Volume\",\"Adj Close\",\n",
    "             \"return\",\"ret_pct\",\"Target\",\"MonthDay\",\"Month\"]\n",
    "feature_columns = list(set(train.columns.values) - set(not_feats))\n",
    "\n",
    "X_train, X_test = train[feature_columns], test[feature_columns]\n",
    "y_train, y_test = train.Target.values, test.Target.values\n",
    "\n",
    "print(X_train.shape, y_train.shape)\n",
    "print(X_test.shape, y_test.shape)"
   ]
  },
  {
   "cell_type": "code",
   "execution_count": 34,
   "metadata": {},
   "outputs": [
    {
     "data": {
      "text/html": [
       "<div>\n",
       "<style scoped>\n",
       "    .dataframe tbody tr th:only-of-type {\n",
       "        vertical-align: middle;\n",
       "    }\n",
       "\n",
       "    .dataframe tbody tr th {\n",
       "        vertical-align: top;\n",
       "    }\n",
       "\n",
       "    .dataframe thead th {\n",
       "        text-align: right;\n",
       "    }\n",
       "</style>\n",
       "<table border=\"1\" class=\"dataframe\">\n",
       "  <thead>\n",
       "    <tr style=\"text-align: right;\">\n",
       "      <th></th>\n",
       "      <th>NiftySpot_gap</th>\n",
       "      <th>Month_enc</th>\n",
       "      <th>MonthDay_enc</th>\n",
       "      <th>Nikkei_gap</th>\n",
       "      <th>BankNiftySpot_gap</th>\n",
       "      <th>Stock_gap</th>\n",
       "    </tr>\n",
       "  </thead>\n",
       "  <tbody>\n",
       "    <tr>\n",
       "      <th>1</th>\n",
       "      <td>5.200195</td>\n",
       "      <td>0.575419</td>\n",
       "      <td>0.492958</td>\n",
       "      <td>-15.080078</td>\n",
       "      <td>6.600586</td>\n",
       "      <td>0.212006</td>\n",
       "    </tr>\n",
       "    <tr>\n",
       "      <th>2</th>\n",
       "      <td>3.549805</td>\n",
       "      <td>0.575419</td>\n",
       "      <td>0.472222</td>\n",
       "      <td>-61.240234</td>\n",
       "      <td>6.350586</td>\n",
       "      <td>0.112991</td>\n",
       "    </tr>\n",
       "  </tbody>\n",
       "</table>\n",
       "</div>"
      ],
      "text/plain": [
       "   NiftySpot_gap  Month_enc  MonthDay_enc  Nikkei_gap  BankNiftySpot_gap  \\\n",
       "1       5.200195   0.575419      0.492958  -15.080078           6.600586   \n",
       "2       3.549805   0.575419      0.472222  -61.240234           6.350586   \n",
       "\n",
       "   Stock_gap  \n",
       "1   0.212006  \n",
       "2   0.112991  "
      ]
     },
     "execution_count": 34,
     "metadata": {},
     "output_type": "execute_result"
    }
   ],
   "source": [
    "X_train.head(2)"
   ]
  },
  {
   "cell_type": "markdown",
   "metadata": {},
   "source": [
    "## Utility functions for checking model accuracy :-"
   ]
  },
  {
   "cell_type": "code",
   "execution_count": 10,
   "metadata": {},
   "outputs": [],
   "source": [
    "seed = 2021\n",
    "\n",
    "def get_highThresh_acc(y_pred_probs, y_test, thresh_prob=0.65):\n",
    "    \n",
    "    cnt, corr_predicts = 0, 0\n",
    "    for i in range(len(y_test)):\n",
    "        if y_pred_probs[i] > thresh_prob:    # Predict 1 (up move)\n",
    "            cnt += 1\n",
    "            if y_test[i] == 1:\n",
    "                corr_predicts += 1\n",
    "            else: pass\n",
    "        elif y_pred_probs[i] < 1.0 - thresh_prob:    # Predict 0 (down move)\n",
    "            cnt += 1\n",
    "            if y_test[i] == 0:\n",
    "                corr_predicts += 1\n",
    "            else: pass\n",
    "        else: continue\n",
    "            \n",
    "    print(\"Prediction accuracy : {}\".format(corr_predicts/cnt))\n",
    "    print(\"Percentage of datapoints predicted : {}\".format(cnt/len(y_test)))\n",
    "    print(\"No.of datapoints predicted : {}, Total datapoints : {}\".format(cnt, len(y_test)))\n",
    "\n",
    "    return\n",
    "\n",
    "def get_highThresh_acc_lr(y_pred_probs, y_test, thresh_prob=0.65):\n",
    "    \n",
    "    cnt, corr_predicts = 0, 0\n",
    "    for i in range(len(y_test)):\n",
    "        \n",
    "        if max(y_pred_probs[i]) > thresh_prob:\n",
    "            cnt += 1\n",
    "            if np.argmax(y_pred_probs[i]) == y_test[i]:\n",
    "                corr_predicts += 1\n",
    "                \n",
    "    print(\"Accuracy with {} threshold : {}\".format(thresh_prob, corr_predicts/cnt))\n",
    "    print(\"Percentage of datapoints predicted : {}\".format(cnt/len(y_test)))\n",
    "    print(\"No.of datapoints predicted : {}, Total datapoints : {}\".format(cnt, len(y_test)))\n",
    "\n",
    "    return      "
   ]
  },
  {
   "cell_type": "markdown",
   "metadata": {},
   "source": [
    "## Applying ML models on data :-\n",
    "<br>\n",
    "\n",
    "### i) Logistic Regression"
   ]
  },
  {
   "cell_type": "code",
   "execution_count": 37,
   "metadata": {},
   "outputs": [
    {
     "name": "stderr",
     "output_type": "stream",
     "text": [
      "One or more of the test scores are non-finite: [       nan 0.55807092 0.55807092 0.55807092        nan        nan\n",
      "        nan        nan        nan 0.55621978 0.55621978        nan\n",
      " 0.55807092        nan        nan        nan 0.55807092 0.55807092\n",
      " 0.55576037        nan 0.55884252        nan 0.55575966        nan\n",
      "        nan        nan        nan 0.55575895 0.55575895 0.55575895\n",
      " 0.55621978        nan        nan        nan 0.55807092 0.55807092\n",
      "        nan        nan 0.55575895 0.55807092        nan 0.55575895\n",
      "        nan 0.55575895        nan        nan 0.55560463        nan\n",
      "        nan        nan        nan        nan        nan 0.55575895\n",
      "        nan        nan        nan 0.55575895        nan        nan\n",
      " 0.55575895 0.55621978        nan 0.55575895 0.55575895 0.55545102\n",
      " 0.55807092        nan 0.55575895 0.55575895        nan        nan\n",
      " 0.55807092 0.55807092        nan        nan 0.55714926        nan\n",
      " 0.55591327 0.55575966 0.55807092        nan        nan        nan\n",
      "        nan 0.55637481 0.55575895        nan        nan        nan\n",
      "        nan 0.55575895 0.55807092 0.55575895        nan 0.55621978\n",
      " 0.55807092        nan 0.55622049        nan]\n"
     ]
    },
    {
     "name": "stdout",
     "output_type": "stream",
     "text": [
      "Best Score: 0.55884252147693\n",
      "Best Hyperparameters: {'solver': 'lbfgs', 'penalty': 'l2', 'C': 3036.6223939178935}\n"
     ]
    }
   ],
   "source": [
    "def loguniform(low=0, high=1, size=100):\n",
    "    return reciprocal(np.exp(low), np.exp(high)).rvs(size)\n",
    "\n",
    "# Create model\n",
    "lr = LogisticRegression(random_state=seed)\n",
    "\n",
    "# Define evaluation\n",
    "cv = RepeatedStratifiedKFold(n_splits=10, n_repeats=3, random_state=seed)\n",
    "\n",
    "# Define search space\n",
    "space = dict()\n",
    "space['solver'] = ['newton-cg', 'lbfgs','liblinear']    \n",
    "space['penalty'] = ['none', 'l1', 'l2', 'elasticnet']\n",
    "space['C'] = loguniform(1e-5, 100)\n",
    "\n",
    "# Define search\n",
    "lr_search = RandomizedSearchCV(lr, space, n_iter=100, scoring='accuracy', \n",
    "                               n_jobs=-1, cv=cv, random_state=seed)\n",
    "\n",
    "# Execute search\n",
    "lr_result = lr_search.fit(X_train, y_train)\n",
    "\n",
    "# Summarize result\n",
    "print('Best Score: {}'.format(lr_result.best_score_))\n",
    "print('Best Hyperparameters: {}'.format(lr_result.best_params_))\n",
    "\n",
    "#y_pred_probabs = lr.predict_proba(X_test)\n",
    "#get_highThresh_acc_lr(y_pred_probabs, y_test, 0.68)"
   ]
  },
  {
   "cell_type": "code",
   "execution_count": 38,
   "metadata": {},
   "outputs": [
    {
     "data": {
      "text/plain": [
       "{'C': 3036.6223939178935,\n",
       " 'class_weight': None,\n",
       " 'dual': False,\n",
       " 'fit_intercept': True,\n",
       " 'intercept_scaling': 1,\n",
       " 'l1_ratio': None,\n",
       " 'max_iter': 100,\n",
       " 'multi_class': 'auto',\n",
       " 'n_jobs': None,\n",
       " 'penalty': 'l2',\n",
       " 'random_state': 2021,\n",
       " 'solver': 'lbfgs',\n",
       " 'tol': 0.0001,\n",
       " 'verbose': 0,\n",
       " 'warm_start': False}"
      ]
     },
     "execution_count": 38,
     "metadata": {},
     "output_type": "execute_result"
    }
   ],
   "source": [
    "# Setting best hyperparameters \n",
    "lr.set_params(**lr_result.best_params_)\n",
    "lr.get_params(\"model\")"
   ]
  },
  {
   "cell_type": "code",
   "execution_count": 39,
   "metadata": {},
   "outputs": [
    {
     "name": "stdout",
     "output_type": "stream",
     "text": [
      "Test accuracy : 0.518450184501845\n"
     ]
    }
   ],
   "source": [
    "# Fitting the model after initializing with best hyperparameters\n",
    "lr.fit(X_train, y_train)\n",
    "\n",
    "# Applying model on test set\n",
    "y_pred = lr.predict(X_test)\n",
    "print(\"Test accuracy : {}\".format(accuracy_score(y_true=y_test,y_pred=y_pred)))"
   ]
  },
  {
   "cell_type": "code",
   "execution_count": 36,
   "metadata": {},
   "outputs": [
    {
     "data": {
      "text/plain": [
       "array([[-2.61130674e-03,  2.03136566e+00,  4.59746036e+00,\n",
       "         7.45858135e-04, -6.88412048e-04,  9.50372531e-02]])"
      ]
     },
     "execution_count": 36,
     "metadata": {},
     "output_type": "execute_result"
    }
   ],
   "source": [
    "lr.coef_"
   ]
  },
  {
   "cell_type": "code",
   "execution_count": 55,
   "metadata": {},
   "outputs": [
    {
     "data": {
      "text/html": [
       "\n",
       "    <style>\n",
       "    table.eli5-weights tr:hover {\n",
       "        filter: brightness(85%);\n",
       "    }\n",
       "</style>\n",
       "\n",
       "\n",
       "\n",
       "    \n",
       "\n",
       "    \n",
       "\n",
       "    \n",
       "\n",
       "    \n",
       "\n",
       "    \n",
       "\n",
       "    \n",
       "\n",
       "\n",
       "    \n",
       "\n",
       "    \n",
       "\n",
       "    \n",
       "\n",
       "    \n",
       "        \n",
       "\n",
       "    \n",
       "\n",
       "        \n",
       "            \n",
       "                \n",
       "                \n",
       "    \n",
       "        <p style=\"margin-bottom: 0.5em; margin-top: 0em\">\n",
       "            <b>\n",
       "    \n",
       "        y=1\n",
       "    \n",
       "</b>\n",
       "\n",
       "top features\n",
       "        </p>\n",
       "    \n",
       "    <table class=\"eli5-weights\"\n",
       "           style=\"border-collapse: collapse; border: none; margin-top: 0em; table-layout: auto; margin-bottom: 2em;\">\n",
       "        <thead>\n",
       "        <tr style=\"border: none;\">\n",
       "            \n",
       "                <th style=\"padding: 0 1em 0 0.5em; text-align: right; border: none;\" title=\"Feature weights. Note that weights do not account for feature value scales, so if feature values have different scales, features with highest weights might not be the most important.\">\n",
       "                    Weight<sup>?</sup>\n",
       "                </th>\n",
       "            \n",
       "            <th style=\"padding: 0 0.5em 0 0.5em; text-align: left; border: none;\">Feature</th>\n",
       "            \n",
       "        </tr>\n",
       "        </thead>\n",
       "        <tbody>\n",
       "        \n",
       "            <tr style=\"background-color: hsl(120, 100.00%, 80.00%); border: none;\">\n",
       "    <td style=\"padding: 0 1em 0 0.5em; text-align: right; border: none;\">\n",
       "        +1.941\n",
       "    </td>\n",
       "    <td style=\"padding: 0 0.5em 0 0.5em; text-align: left; border: none;\">\n",
       "        MonthDay_enc\n",
       "    </td>\n",
       "    \n",
       "</tr>\n",
       "        \n",
       "            <tr style=\"background-color: hsl(120, 100.00%, 84.91%); border: none;\">\n",
       "    <td style=\"padding: 0 1em 0 0.5em; text-align: right; border: none;\">\n",
       "        +1.299\n",
       "    </td>\n",
       "    <td style=\"padding: 0 0.5em 0 0.5em; text-align: left; border: none;\">\n",
       "        Month_enc\n",
       "    </td>\n",
       "    \n",
       "</tr>\n",
       "        \n",
       "            <tr style=\"background-color: hsl(120, 100.00%, 97.58%); border: none;\">\n",
       "    <td style=\"padding: 0 1em 0 0.5em; text-align: right; border: none;\">\n",
       "        +0.095\n",
       "    </td>\n",
       "    <td style=\"padding: 0 0.5em 0 0.5em; text-align: left; border: none;\">\n",
       "        Stock_gap\n",
       "    </td>\n",
       "    \n",
       "</tr>\n",
       "        \n",
       "            <tr style=\"background-color: hsl(120, 100.00%, 99.92%); border: none;\">\n",
       "    <td style=\"padding: 0 1em 0 0.5em; text-align: right; border: none;\">\n",
       "        +0.001\n",
       "    </td>\n",
       "    <td style=\"padding: 0 0.5em 0 0.5em; text-align: left; border: none;\">\n",
       "        Nikkei_gap\n",
       "    </td>\n",
       "    \n",
       "</tr>\n",
       "        \n",
       "        \n",
       "\n",
       "        \n",
       "        \n",
       "            <tr style=\"background-color: hsl(0, 100.00%, 99.92%); border: none;\">\n",
       "    <td style=\"padding: 0 1em 0 0.5em; text-align: right; border: none;\">\n",
       "        -0.001\n",
       "    </td>\n",
       "    <td style=\"padding: 0 0.5em 0 0.5em; text-align: left; border: none;\">\n",
       "        BankNiftySpot_gap\n",
       "    </td>\n",
       "    \n",
       "</tr>\n",
       "        \n",
       "            <tr style=\"background-color: hsl(0, 100.00%, 99.81%); border: none;\">\n",
       "    <td style=\"padding: 0 1em 0 0.5em; text-align: right; border: none;\">\n",
       "        -0.003\n",
       "    </td>\n",
       "    <td style=\"padding: 0 0.5em 0 0.5em; text-align: left; border: none;\">\n",
       "        NiftySpot_gap\n",
       "    </td>\n",
       "    \n",
       "</tr>\n",
       "        \n",
       "            <tr style=\"background-color: hsl(0, 100.00%, 82.54%); border: none;\">\n",
       "    <td style=\"padding: 0 1em 0 0.5em; text-align: right; border: none;\">\n",
       "        -1.599\n",
       "    </td>\n",
       "    <td style=\"padding: 0 0.5em 0 0.5em; text-align: left; border: none;\">\n",
       "        &lt;BIAS&gt;\n",
       "    </td>\n",
       "    \n",
       "</tr>\n",
       "        \n",
       "\n",
       "        </tbody>\n",
       "    </table>\n",
       "\n",
       "            \n",
       "        \n",
       "\n",
       "        \n",
       "\n",
       "\n",
       "\n",
       "    \n",
       "\n",
       "    \n",
       "\n",
       "    \n",
       "\n",
       "    \n",
       "\n",
       "\n",
       "    \n",
       "\n",
       "    \n",
       "\n",
       "    \n",
       "\n",
       "    \n",
       "\n",
       "    \n",
       "\n",
       "    \n",
       "\n",
       "\n",
       "    \n",
       "\n",
       "    \n",
       "\n",
       "    \n",
       "\n",
       "    \n",
       "\n",
       "    \n",
       "\n",
       "    \n",
       "\n",
       "\n",
       "\n"
      ],
      "text/plain": [
       "<IPython.core.display.HTML object>"
      ]
     },
     "execution_count": 55,
     "metadata": {},
     "output_type": "execute_result"
    }
   ],
   "source": [
    "eli5.show_weights(lr, feature_names = train[feature_columns].columns.tolist())"
   ]
  },
  {
   "cell_type": "markdown",
   "metadata": {},
   "source": [
    "**Month day encodings & month encoding features are most important. Thus, it is pretty clear that the model isnt making a clever prediction.**"
   ]
  },
  {
   "cell_type": "markdown",
   "metadata": {},
   "source": [
    "### ii) K-Nearest Neighbours :-"
   ]
  },
  {
   "cell_type": "code",
   "execution_count": 40,
   "metadata": {},
   "outputs": [
    {
     "name": "stdout",
     "output_type": "stream",
     "text": [
      "Accuracy :- 0.5239852398523985\n"
     ]
    }
   ],
   "source": [
    "# Create model\n",
    "neigh = KNeighborsClassifier(n_neighbors=5)\n",
    "# Fit the model to data\n",
    "neigh.fit(X_train, y_train)\n",
    "print(\"Accuracy :- {}\".format(neigh.score(X_test, y_test)))"
   ]
  },
  {
   "cell_type": "markdown",
   "metadata": {},
   "source": [
    "### iii) Random Forest :-"
   ]
  },
  {
   "cell_type": "code",
   "execution_count": 19,
   "metadata": {},
   "outputs": [
    {
     "ename": "NameError",
     "evalue": "name 'KFold' is not defined",
     "output_type": "error",
     "traceback": [
      "\u001b[1;31m---------------------------------------------------------------------------\u001b[0m",
      "\u001b[1;31mNameError\u001b[0m                                 Traceback (most recent call last)",
      "\u001b[1;32m<ipython-input-19-24f43940044a>\u001b[0m in \u001b[0;36m<module>\u001b[1;34m()\u001b[0m\n\u001b[0;32m      1\u001b[0m \u001b[1;31m# Prepare the cross-validation procedure\u001b[0m\u001b[1;33m\u001b[0m\u001b[1;33m\u001b[0m\u001b[0m\n\u001b[1;32m----> 2\u001b[1;33m \u001b[0mcv\u001b[0m \u001b[1;33m=\u001b[0m \u001b[0mKFold\u001b[0m\u001b[1;33m(\u001b[0m\u001b[0mn_splits\u001b[0m\u001b[1;33m=\u001b[0m\u001b[1;36m5\u001b[0m\u001b[1;33m,\u001b[0m \u001b[0mrandom_state\u001b[0m\u001b[1;33m=\u001b[0m\u001b[0mseed\u001b[0m\u001b[1;33m,\u001b[0m \u001b[0mshuffle\u001b[0m\u001b[1;33m=\u001b[0m\u001b[1;32mTrue\u001b[0m\u001b[1;33m)\u001b[0m\u001b[1;33m\u001b[0m\u001b[0m\n\u001b[0m\u001b[0;32m      3\u001b[0m \u001b[1;33m\u001b[0m\u001b[0m\n\u001b[0;32m      4\u001b[0m \u001b[1;31m# Create Random Forest model\u001b[0m\u001b[1;33m\u001b[0m\u001b[1;33m\u001b[0m\u001b[0m\n\u001b[0;32m      5\u001b[0m rfc = RandomForestClassifier(n_estimators=10,\n",
      "\u001b[1;31mNameError\u001b[0m: name 'KFold' is not defined"
     ]
    }
   ],
   "source": [
    "# Prepare the cross-validation procedure\n",
    "cv = KFold(n_splits=5, random_state=seed, shuffle=True)\n",
    "\n",
    "# Create Random Forest model\n",
    "rfc = RandomForestClassifier(n_estimators=10,\n",
    "                              random_state=seed)\n",
    "# Evaluate model\n",
    "scores = cross_val_score(rfc, X_train, y_train, scoring='accuracy', cv=cv, n_jobs=-1)\n",
    "\n",
    "# Report performance\n",
    "print('Accuracy: %.3f (%.3f)' % (np.mean(scores), np.std(scores)))\n",
    "\n",
    "#rfc.score(X_test, y_test)"
   ]
  },
  {
   "cell_type": "code",
   "execution_count": null,
   "metadata": {},
   "outputs": [],
   "source": []
  },
  {
   "cell_type": "code",
   "execution_count": null,
   "metadata": {},
   "outputs": [],
   "source": [
    "import shap\n",
    "# Need to load JS viz in notebook\n",
    "shap.initjs()\n",
    "\n",
    "# Create object that can calculate shap values\n",
    "rf_explainer = shap.TreeExplainer(rfc)\n",
    "\n",
    "# Calculate Shap values\n",
    "shap_values = explainer.shap_values(X_test)\n",
    "\n",
    "shap.force_plot(shap_values[1], X_test)"
   ]
  },
  {
   "cell_type": "markdown",
   "metadata": {},
   "source": [
    "### iv) SVMs :-"
   ]
  },
  {
   "cell_type": "code",
   "execution_count": 22,
   "metadata": {},
   "outputs": [
    {
     "data": {
      "text/plain": [
       "0.5350553505535055"
      ]
     },
     "execution_count": 22,
     "metadata": {},
     "output_type": "execute_result"
    }
   ],
   "source": [
    "nu_svm_params = {\"nu\":0.1,\n",
    "                 \"random_state\":2021}\n",
    "\n",
    "skl = StandardScaler()\n",
    "X_train = skl.fit_transform(X_train)\n",
    "\n",
    "nu_svm_clf =  NuSVC(**nu_svm_params)\n",
    "nu_svm_clf.fit(X_train, y_train)\n",
    "\n",
    "X_test = skl.transform(X_test)\n",
    "nu_svm_clf.score(X_test, y_test)"
   ]
  },
  {
   "cell_type": "code",
   "execution_count": 27,
   "metadata": {},
   "outputs": [
    {
     "data": {
      "text/plain": [
       "0.5350553505535055"
      ]
     },
     "execution_count": 27,
     "metadata": {},
     "output_type": "execute_result"
    }
   ],
   "source": [
    "rbf_svm = SVC(random_state=2021,\n",
    "             kernel=\"rbf\")\n",
    "rbf_svm.fit(X_train, y_train)\n",
    "\n",
    "X_test = skl.transform(X_test)\n",
    "rbf_svm.score(X_test, y_test)"
   ]
  },
  {
   "cell_type": "markdown",
   "metadata": {},
   "source": [
    "### iv) XGBoost :-"
   ]
  },
  {
   "cell_type": "code",
   "execution_count": 42,
   "metadata": {},
   "outputs": [
    {
     "name": "stdout",
     "output_type": "stream",
     "text": [
      "Accuracy with 0.5 threshold :- 0.5630144566645916\n",
      "Accuracy with 0.9 threshold : 0.6666666666666666\n",
      "Percentage of datapoints predicted : 0.033210332103321034\n",
      "No.of datapoints predicted : 18, Total datapoints : 542\n"
     ]
    }
   ],
   "source": [
    "dtrain = xgb.DMatrix(X_train, label=y_train)\n",
    "dtest = xgb.DMatrix(X_test, label=y_test)\n",
    "\n",
    "# Specify XGBoost parameters\n",
    "params = {\n",
    "    'max_depth': 6,  # the maximum depth of each tree\n",
    "    'eta': 0.2,  # the training step for each iteration\n",
    "    'silent': 1,  # logging mode - quiet\n",
    "    'objective': 'multi:softprob',  # error evaluation for multiclass training\n",
    "    'num_class': 2}  # the number of classes that exist in this datset\n",
    "\n",
    "# No.of training iterations\n",
    "num_iters = 50  \n",
    "\n",
    "# Create & Fit model\n",
    "xg_boost = xgb.train(params, dtrain, num_iters)\n",
    "\n",
    "# Predict classes for test set\n",
    "preds = xg_boost.predict(dtest)\n",
    "best_preds = np.asarray([np.argmax(line) for line in preds])\n",
    "\n",
    "# Print test accuracy\n",
    "print(\"Accuracy with 0.5 threshold :- {}\".format(precision_score(y_test, best_preds, average='macro')))\n",
    "get_highThresh_acc_lr(preds, y_test, thresh_prob=0.9)"
   ]
  },
  {
   "cell_type": "code",
   "execution_count": 53,
   "metadata": {},
   "outputs": [
    {
     "data": {
      "image/png": "[encoded data removed]",
      "text/plain": [
       "<Figure size 432x288 with 1 Axes>"
      ]
     },
     "metadata": {
      "needs_background": "light"
     },
     "output_type": "display_data"
    }
   ],
   "source": [
    "# plot feature importance\n",
    "plot_importance(xg_boost)\n",
    "plt.show()"
   ]
  },
  {
   "cell_type": "markdown",
   "metadata": {},
   "source": [
    "**Observation :-** From the above plot its clear that the **opening gaps for a day get the most importance**. This shows that a a day's movement is more dependent on that day's opening sentiment rather than historic monthly or date wise sentiments. Now this is a bit **clever**."
   ]
  },
  {
   "cell_type": "code",
   "execution_count": 41,
   "metadata": {},
   "outputs": [
    {
     "name": "stdout",
     "output_type": "stream",
     "text": [
      "Accuracy: 52.95%\n"
     ]
    }
   ],
   "source": [
    "#import XGBoost classifier and accuracy\n",
    "from xgboost.sklearn import XGBClassifier\n",
    "\n",
    "params = {'learning_rate':0.03, \n",
    "          'n_estimators':810,    # Number of iterations of boosting\n",
    "          'max_depth':6,     # Max depth of each tree\n",
    "          'verbosity':0,     # Silent, i.e, print no messages while training\n",
    "          'n_jobs':-1}       # Use all CPU cores\n",
    "\n",
    "#instantiate model and train\n",
    "xgb_clf = XGBClassifier(**params)\n",
    "xgb_clf.fit(X_train, y_train)\n",
    "\n",
    "# make predictions for test set\n",
    "y_pred = xgb_clf.predict(X_test)\n",
    "predictions = [round(value) for value in y_pred]\n",
    "\n",
    "accuracy = accuracy_score(y_test, predictions)\n",
    "print(\"Accuracy: %.2f%%\" % (accuracy * 100.0))"
   ]
  },
  {
   "cell_type": "code",
   "execution_count": 42,
   "metadata": {},
   "outputs": [
    {
     "data": {
      "image/png": "[encoded data removed]",
      "text/plain": [
       "<Figure size 432x288 with 1 Axes>"
      ]
     },
     "metadata": {
      "needs_background": "light"
     },
     "output_type": "display_data"
    }
   ],
   "source": [
    "# plot feature importance\n",
    "plot_importance(xgb_clf)\n",
    "plt.show()"
   ]
  },
  {
   "cell_type": "markdown",
   "metadata": {},
   "source": [
    "### v) Neural Network :-"
   ]
  },
  {
   "cell_type": "code",
   "execution_count": 61,
   "metadata": {},
   "outputs": [
    {
     "name": "stdout",
     "output_type": "stream",
     "text": [
      "_________________________________________________________________\n",
      "Layer (type)                 Output Shape              Param #   \n",
      "=================================================================\n",
      "dense_1 (Dense)              (None, 4)                 28        \n",
      "_________________________________________________________________\n",
      "dense_2 (Dense)              (None, 2)                 10        \n",
      "_________________________________________________________________\n",
      "dense_3 (Dense)              (None, 1)                 3         \n",
      "=================================================================\n",
      "Total params: 41\n",
      "Trainable params: 41\n",
      "Non-trainable params: 0\n",
      "_________________________________________________________________\n"
     ]
    }
   ],
   "source": [
    "fcnn = Sequential()\n",
    "fcnn.add(Dense(4, input_dim=6, activation=\"relu\"))\n",
    "fcnn.add(Dense(2, activation=\"relu\"))\n",
    "fcnn.add(Dense(1, activation=\"sigmoid\"))\n",
    "\n",
    "fcnn.summary()"
   ]
  },
  {
   "cell_type": "code",
   "execution_count": 62,
   "metadata": {},
   "outputs": [
    {
     "name": "stdout",
     "output_type": "stream",
     "text": [
      "Train on 1841 samples, validate on 326 samples\n",
      "Epoch 1/30\n",
      "1841/1841 [==============================] - ETA: 5:06 - loss: 0.7365 - acc: 0.562 - ETA: 36s - loss: 0.7684 - acc: 0.500 - ETA: 11s - loss: 0.7819 - acc: 0.47 - ETA: 5s - loss: 0.7714 - acc: 0.4703 - ETA: 2s - loss: 0.7533 - acc: 0.485 - ETA: 1s - loss: 0.7511 - acc: 0.474 - ETA: 0s - loss: 0.7524 - acc: 0.468 - ETA: 0s - loss: 0.7462 - acc: 0.470 - 3s 2ms/step - loss: 0.7448 - acc: 0.4699 - val_loss: 0.7371 - val_acc: 0.4325\n"
     ]
    },
    {
     "name": "stderr",
     "output_type": "stream",
     "text": [
      "Can save best model only with val_accuracy available, skipping.\n"
     ]
    },
    {
     "name": "stdout",
     "output_type": "stream",
     "text": [
      "Epoch 2/30\n",
      "1841/1841 [==============================] - ETA: 0s - loss: 0.7171 - acc: 0.375 - ETA: 0s - loss: 0.7187 - acc: 0.486 - ETA: 0s - loss: 0.7295 - acc: 0.475 - ETA: 0s - loss: 0.7276 - acc: 0.476 - ETA: 0s - loss: 0.7246 - acc: 0.475 - ETA: 0s - loss: 0.7204 - acc: 0.481 - ETA: 0s - loss: 0.7186 - acc: 0.480 - 0s 210us/step - loss: 0.7161 - acc: 0.4840 - val_loss: 0.7136 - val_acc: 0.4540\n",
      "Epoch 3/30\n",
      "1841/1841 [==============================] - ETA: 0s - loss: 0.7244 - acc: 0.312 - ETA: 0s - loss: 0.7070 - acc: 0.545 - ETA: 0s - loss: 0.7150 - acc: 0.510 - ETA: 0s - loss: 0.7105 - acc: 0.494 - ETA: 0s - loss: 0.7069 - acc: 0.492 - ETA: 0s - loss: 0.7073 - acc: 0.488 - ETA: 0s - loss: 0.7075 - acc: 0.485 - ETA: 0s - loss: 0.7062 - acc: 0.489 - 0s 216us/step - loss: 0.7059 - acc: 0.4916 - val_loss: 0.7023 - val_acc: 0.4908\n",
      "Epoch 4/30\n",
      "1841/1841 [==============================] - ETA: 0s - loss: 0.6941 - acc: 0.437 - ETA: 0s - loss: 0.6980 - acc: 0.525 - ETA: 0s - loss: 0.7096 - acc: 0.492 - ETA: 0s - loss: 0.7052 - acc: 0.486 - ETA: 0s - loss: 0.7034 - acc: 0.496 - ETA: 0s - loss: 0.7016 - acc: 0.502 - ETA: 0s - loss: 0.7013 - acc: 0.501 - ETA: 0s - loss: 0.7009 - acc: 0.502 - 0s 212us/step - loss: 0.7009 - acc: 0.5024 - val_loss: 0.6957 - val_acc: 0.5123\n",
      "Epoch 5/30\n",
      "1841/1841 [==============================] - ETA: 0s - loss: 0.7142 - acc: 0.312 - ETA: 0s - loss: 0.6992 - acc: 0.503 - ETA: 0s - loss: 0.6979 - acc: 0.505 - ETA: 0s - loss: 0.6987 - acc: 0.503 - ETA: 0s - loss: 0.6979 - acc: 0.499 - ETA: 0s - loss: 0.7004 - acc: 0.496 - ETA: 0s - loss: 0.7002 - acc: 0.494 - 0s 208us/step - loss: 0.6982 - acc: 0.5046 - val_loss: 0.6921 - val_acc: 0.5307\n",
      "Epoch 6/30\n",
      "1841/1841 [==============================] - ETA: 0s - loss: 0.7496 - acc: 0.625 - ETA: 0s - loss: 0.7068 - acc: 0.550 - ETA: 0s - loss: 0.7010 - acc: 0.535 - ETA: 0s - loss: 0.7014 - acc: 0.510 - ETA: 0s - loss: 0.6989 - acc: 0.516 - ETA: 0s - loss: 0.6983 - acc: 0.513 - ETA: 0s - loss: 0.6981 - acc: 0.508 - ETA: 0s - loss: 0.6972 - acc: 0.510 - 0s 217us/step - loss: 0.6966 - acc: 0.5133 - val_loss: 0.6903 - val_acc: 0.5399\n",
      "Epoch 7/30\n",
      "1841/1841 [==============================] - ETA: 0s - loss: 0.7129 - acc: 0.375 - ETA: 0s - loss: 0.7013 - acc: 0.495 - ETA: 0s - loss: 0.6950 - acc: 0.526 - ETA: 0s - loss: 0.6949 - acc: 0.517 - ETA: 0s - loss: 0.6949 - acc: 0.516 - ETA: 0s - loss: 0.6936 - acc: 0.521 - ETA: 0s - loss: 0.6952 - acc: 0.519 - ETA: 0s - loss: 0.6952 - acc: 0.517 - 0s 215us/step - loss: 0.6952 - acc: 0.5166 - val_loss: 0.6888 - val_acc: 0.5368\n",
      "Epoch 8/30\n",
      "1841/1841 [==============================] - ETA: 0s - loss: 0.7163 - acc: 0.437 - ETA: 0s - loss: 0.6962 - acc: 0.504 - ETA: 0s - loss: 0.6926 - acc: 0.533 - ETA: 0s - loss: 0.6930 - acc: 0.528 - ETA: 0s - loss: 0.6939 - acc: 0.522 - ETA: 0s - loss: 0.6932 - acc: 0.525 - ETA: 0s - loss: 0.6943 - acc: 0.521 - ETA: 0s - loss: 0.6938 - acc: 0.523 - 0s 217us/step - loss: 0.6941 - acc: 0.5215 - val_loss: 0.6880 - val_acc: 0.5368\n",
      "Epoch 9/30\n",
      "1841/1841 [==============================] - ETA: 0s - loss: 0.6833 - acc: 0.562 - ETA: 0s - loss: 0.6846 - acc: 0.566 - ETA: 0s - loss: 0.6898 - acc: 0.541 - ETA: 0s - loss: 0.6901 - acc: 0.531 - ETA: 0s - loss: 0.6890 - acc: 0.539 - ETA: 0s - loss: 0.6914 - acc: 0.526 - ETA: 0s - loss: 0.6928 - acc: 0.523 - 0s 204us/step - loss: 0.6932 - acc: 0.5220 - val_loss: 0.6868 - val_acc: 0.5583\n",
      "Epoch 10/30\n",
      "1841/1841 [==============================] - ETA: 0s - loss: 0.6799 - acc: 0.625 - ETA: 0s - loss: 0.6869 - acc: 0.555 - ETA: 0s - loss: 0.6894 - acc: 0.536 - ETA: 0s - loss: 0.6900 - acc: 0.540 - ETA: 0s - loss: 0.6900 - acc: 0.544 - ETA: 0s - loss: 0.6910 - acc: 0.538 - ETA: 0s - loss: 0.6912 - acc: 0.533 - ETA: 0s - loss: 0.6921 - acc: 0.530 - 0s 218us/step - loss: 0.6924 - acc: 0.5296 - val_loss: 0.6861 - val_acc: 0.5644\n",
      "Epoch 11/30\n",
      "1841/1841 [==============================] - ETA: 0s - loss: 0.6271 - acc: 0.937 - ETA: 0s - loss: 0.6825 - acc: 0.580 - ETA: 0s - loss: 0.6891 - acc: 0.541 - ETA: 0s - loss: 0.6917 - acc: 0.525 - ETA: 0s - loss: 0.6893 - acc: 0.544 - ETA: 0s - loss: 0.6899 - acc: 0.543 - ETA: 0s - loss: 0.6906 - acc: 0.535 - 0s 202us/step - loss: 0.6918 - acc: 0.5285 - val_loss: 0.6852 - val_acc: 0.5675\n",
      "Epoch 12/30\n",
      "1841/1841 [==============================] - ETA: 0s - loss: 0.6954 - acc: 0.562 - ETA: 0s - loss: 0.6783 - acc: 0.604 - ETA: 0s - loss: 0.6855 - acc: 0.562 - ETA: 0s - loss: 0.6865 - acc: 0.559 - ETA: 0s - loss: 0.6893 - acc: 0.541 - ETA: 0s - loss: 0.6896 - acc: 0.540 - ETA: 0s - loss: 0.6898 - acc: 0.537 - ETA: 0s - loss: 0.6908 - acc: 0.534 - ETA: 0s - loss: 0.6916 - acc: 0.530 - ETA: 0s - loss: 0.6914 - acc: 0.530 - 1s 283us/step - loss: 0.6913 - acc: 0.5312 - val_loss: 0.6848 - val_acc: 0.5675\n",
      "Epoch 13/30\n",
      "1841/1841 [==============================] - ETA: 0s - loss: 0.6934 - acc: 0.562 - ETA: 0s - loss: 0.6930 - acc: 0.519 - ETA: 0s - loss: 0.6959 - acc: 0.506 - ETA: 0s - loss: 0.6923 - acc: 0.525 - ETA: 0s - loss: 0.6925 - acc: 0.525 - ETA: 0s - loss: 0.6928 - acc: 0.523 - ETA: 0s - loss: 0.6900 - acc: 0.537 - ETA: 0s - loss: 0.6909 - acc: 0.532 - 0s 217us/step - loss: 0.6910 - acc: 0.5318 - val_loss: 0.6846 - val_acc: 0.5706\n",
      "Epoch 14/30\n",
      "1841/1841 [==============================] - ETA: 0s - loss: 0.7030 - acc: 0.500 - ETA: 0s - loss: 0.6987 - acc: 0.496 - ETA: 0s - loss: 0.6907 - acc: 0.536 - ETA: 0s - loss: 0.6913 - acc: 0.532 - ETA: 0s - loss: 0.6918 - acc: 0.528 - ETA: 0s - loss: 0.6913 - acc: 0.531 - ETA: 0s - loss: 0.6914 - acc: 0.530 - 0s 203us/step - loss: 0.6906 - acc: 0.5361 - val_loss: 0.6848 - val_acc: 0.5706\n",
      "Epoch 15/30\n",
      "1841/1841 [==============================] - ETA: 0s - loss: 0.7092 - acc: 0.375 - ETA: 0s - loss: 0.6881 - acc: 0.544 - ETA: 0s - loss: 0.6865 - acc: 0.553 - ETA: 0s - loss: 0.6900 - acc: 0.536 - ETA: 0s - loss: 0.6899 - acc: 0.540 - ETA: 0s - loss: 0.6897 - acc: 0.541 - ETA: 0s - loss: 0.6909 - acc: 0.534 - ETA: 0s - loss: 0.6902 - acc: 0.536 - 0s 220us/step - loss: 0.6902 - acc: 0.5367 - val_loss: 0.6843 - val_acc: 0.5767\n",
      "Epoch 16/30\n",
      "1841/1841 [==============================] - ETA: 0s - loss: 0.7069 - acc: 0.437 - ETA: 0s - loss: 0.6943 - acc: 0.527 - ETA: 0s - loss: 0.6907 - acc: 0.542 - ETA: 0s - loss: 0.6938 - acc: 0.519 - ETA: 0s - loss: 0.6926 - acc: 0.526 - ETA: 0s - loss: 0.6913 - acc: 0.528 - ETA: 0s - loss: 0.6911 - acc: 0.528 - 0s 205us/step - loss: 0.6899 - acc: 0.5372 - val_loss: 0.6842 - val_acc: 0.5767\n",
      "Epoch 17/30\n",
      "1841/1841 [==============================] - ETA: 0s - loss: 0.7233 - acc: 0.500 - ETA: 0s - loss: 0.6915 - acc: 0.515 - ETA: 0s - loss: 0.6891 - acc: 0.545 - ETA: 0s - loss: 0.6883 - acc: 0.554 - ETA: 0s - loss: 0.6881 - acc: 0.550 - ETA: 0s - loss: 0.6887 - acc: 0.545 - ETA: 0s - loss: 0.6885 - acc: 0.547 - ETA: 0s - loss: 0.6883 - acc: 0.548 - ETA: 0s - loss: 0.6886 - acc: 0.546 - ETA: 0s - loss: 0.6892 - acc: 0.543 - 1s 282us/step - loss: 0.6896 - acc: 0.5416 - val_loss: 0.6839 - val_acc: 0.5798\n",
      "Epoch 18/30\n",
      "1841/1841 [==============================] - ETA: 0s - loss: 0.6606 - acc: 0.687 - ETA: 0s - loss: 0.6861 - acc: 0.547 - ETA: 0s - loss: 0.6883 - acc: 0.546 - ETA: 0s - loss: 0.6893 - acc: 0.539 - ETA: 0s - loss: 0.6889 - acc: 0.544 - ETA: 0s - loss: 0.6903 - acc: 0.539 - ETA: 0s - loss: 0.6895 - acc: 0.542 - ETA: 0s - loss: 0.6891 - acc: 0.543 - 0s 220us/step - loss: 0.6894 - acc: 0.5421 - val_loss: 0.6838 - val_acc: 0.5798\n",
      "Epoch 19/30\n",
      "1841/1841 [==============================] - ETA: 0s - loss: 0.6743 - acc: 0.625 - ETA: 0s - loss: 0.6938 - acc: 0.515 - ETA: 0s - loss: 0.6942 - acc: 0.509 - ETA: 0s - loss: 0.6888 - acc: 0.539 - ETA: 0s - loss: 0.6895 - acc: 0.541 - ETA: 0s - loss: 0.6878 - acc: 0.553 - ETA: 0s - loss: 0.6891 - acc: 0.547 - 0s 200us/step - loss: 0.6892 - acc: 0.5470 - val_loss: 0.6839 - val_acc: 0.5706\n",
      "Epoch 20/30\n",
      "1841/1841 [==============================] - ETA: 0s - loss: 0.7232 - acc: 0.375 - ETA: 0s - loss: 0.6892 - acc: 0.513 - ETA: 0s - loss: 0.6883 - acc: 0.540 - ETA: 0s - loss: 0.6899 - acc: 0.531 - ETA: 0s - loss: 0.6890 - acc: 0.539 - ETA: 0s - loss: 0.6875 - acc: 0.549 - ETA: 0s - loss: 0.6877 - acc: 0.547 - ETA: 0s - loss: 0.6885 - acc: 0.544 - 0s 231us/step - loss: 0.6887 - acc: 0.5454 - val_loss: 0.6840 - val_acc: 0.5767\n"
     ]
    },
    {
     "name": "stdout",
     "output_type": "stream",
     "text": [
      "Epoch 21/30\n",
      "1841/1841 [==============================] - ETA: 0s - loss: 0.6992 - acc: 0.437 - ETA: 0s - loss: 0.6798 - acc: 0.595 - ETA: 0s - loss: 0.6884 - acc: 0.553 - ETA: 0s - loss: 0.6893 - acc: 0.552 - ETA: 0s - loss: 0.6892 - acc: 0.546 - ETA: 0s - loss: 0.6884 - acc: 0.551 - ETA: 0s - loss: 0.6891 - acc: 0.545 - 0s 197us/step - loss: 0.6885 - acc: 0.5475 - val_loss: 0.6837 - val_acc: 0.5859\n",
      "Epoch 22/30\n",
      "1841/1841 [==============================] - ETA: 0s - loss: 0.6720 - acc: 0.625 - ETA: 0s - loss: 0.6861 - acc: 0.562 - ETA: 0s - loss: 0.6900 - acc: 0.537 - ETA: 0s - loss: 0.6898 - acc: 0.544 - ETA: 0s - loss: 0.6879 - acc: 0.551 - ETA: 0s - loss: 0.6885 - acc: 0.547 - ETA: 0s - loss: 0.6889 - acc: 0.544 - 0s 197us/step - loss: 0.6882 - acc: 0.5464 - val_loss: 0.6834 - val_acc: 0.5828\n",
      "Epoch 23/30\n",
      "1841/1841 [==============================] - ETA: 0s - loss: 0.6410 - acc: 0.875 - ETA: 0s - loss: 0.6888 - acc: 0.546 - ETA: 0s - loss: 0.6854 - acc: 0.560 - ETA: 0s - loss: 0.6872 - acc: 0.549 - ETA: 0s - loss: 0.6869 - acc: 0.549 - ETA: 0s - loss: 0.6879 - acc: 0.549 - ETA: 0s - loss: 0.6876 - acc: 0.550 - ETA: 0s - loss: 0.6880 - acc: 0.547 - 0s 219us/step - loss: 0.6877 - acc: 0.5464 - val_loss: 0.6832 - val_acc: 0.5736\n",
      "Epoch 24/30\n",
      "1841/1841 [==============================] - ETA: 0s - loss: 0.6570 - acc: 0.687 - ETA: 0s - loss: 0.6822 - acc: 0.598 - ETA: 0s - loss: 0.6843 - acc: 0.567 - ETA: 0s - loss: 0.6886 - acc: 0.541 - ETA: 0s - loss: 0.6882 - acc: 0.542 - ETA: 0s - loss: 0.6882 - acc: 0.538 - ETA: 0s - loss: 0.6878 - acc: 0.547 - 0s 185us/step - loss: 0.6875 - acc: 0.5486 - val_loss: 0.6830 - val_acc: 0.5675\n",
      "Epoch 25/30\n",
      "1841/1841 [==============================] - ETA: 0s - loss: 0.6742 - acc: 0.687 - ETA: 0s - loss: 0.6831 - acc: 0.572 - ETA: 0s - loss: 0.6880 - acc: 0.550 - ETA: 0s - loss: 0.6864 - acc: 0.561 - ETA: 0s - loss: 0.6877 - acc: 0.553 - ETA: 0s - loss: 0.6888 - acc: 0.550 - ETA: 0s - loss: 0.6875 - acc: 0.553 - 0s 192us/step - loss: 0.6872 - acc: 0.5551 - val_loss: 0.6824 - val_acc: 0.5767\n",
      "Epoch 26/30\n",
      "1841/1841 [==============================] - ETA: 0s - loss: 0.6866 - acc: 0.437 - ETA: 0s - loss: 0.6818 - acc: 0.559 - ETA: 0s - loss: 0.6888 - acc: 0.533 - ETA: 0s - loss: 0.6861 - acc: 0.550 - ETA: 0s - loss: 0.6833 - acc: 0.561 - ETA: 0s - loss: 0.6858 - acc: 0.552 - ETA: 0s - loss: 0.6869 - acc: 0.555 - ETA: 0s - loss: 0.6869 - acc: 0.555 - 0s 230us/step - loss: 0.6869 - acc: 0.5562 - val_loss: 0.6822 - val_acc: 0.5859\n",
      "Epoch 27/30\n",
      "1841/1841 [==============================] - ETA: 1s - loss: 0.7367 - acc: 0.312 - ETA: 0s - loss: 0.6960 - acc: 0.515 - ETA: 0s - loss: 0.6862 - acc: 0.557 - ETA: 0s - loss: 0.6832 - acc: 0.577 - ETA: 0s - loss: 0.6872 - acc: 0.554 - ETA: 0s - loss: 0.6878 - acc: 0.553 - ETA: 0s - loss: 0.6870 - acc: 0.560 - ETA: 0s - loss: 0.6873 - acc: 0.555 - ETA: 0s - loss: 0.6852 - acc: 0.567 - 1s 274us/step - loss: 0.6863 - acc: 0.5627 - val_loss: 0.6817 - val_acc: 0.5798\n",
      "Epoch 28/30\n",
      "1841/1841 [==============================] - ETA: 0s - loss: 0.6945 - acc: 0.500 - ETA: 0s - loss: 0.6834 - acc: 0.547 - ETA: 0s - loss: 0.6821 - acc: 0.575 - ETA: 0s - loss: 0.6829 - acc: 0.577 - ETA: 0s - loss: 0.6846 - acc: 0.570 - ETA: 0s - loss: 0.6833 - acc: 0.573 - ETA: 0s - loss: 0.6838 - acc: 0.571 - ETA: 0s - loss: 0.6847 - acc: 0.570 - 0s 235us/step - loss: 0.6859 - acc: 0.5622 - val_loss: 0.6817 - val_acc: 0.5828\n",
      "Epoch 29/30\n",
      "1841/1841 [==============================] - ETA: 0s - loss: 0.6804 - acc: 0.625 - ETA: 0s - loss: 0.6783 - acc: 0.579 - ETA: 0s - loss: 0.6842 - acc: 0.564 - ETA: 0s - loss: 0.6830 - acc: 0.572 - ETA: 0s - loss: 0.6837 - acc: 0.568 - ETA: 0s - loss: 0.6849 - acc: 0.563 - ETA: 0s - loss: 0.6846 - acc: 0.568 - 0s 194us/step - loss: 0.6857 - acc: 0.5649 - val_loss: 0.6820 - val_acc: 0.5828\n",
      "Epoch 30/30\n",
      "1841/1841 [==============================] - ETA: 0s - loss: 0.7079 - acc: 0.437 - ETA: 0s - loss: 0.6930 - acc: 0.513 - ETA: 0s - loss: 0.6885 - acc: 0.535 - ETA: 0s - loss: 0.6847 - acc: 0.557 - ETA: 0s - loss: 0.6863 - acc: 0.559 - ETA: 0s - loss: 0.6855 - acc: 0.562 - ETA: 0s - loss: 0.6853 - acc: 0.564 - 0s 193us/step - loss: 0.6855 - acc: 0.5660 - val_loss: 0.6822 - val_acc: 0.5767\n"
     ]
    },
    {
     "data": {
      "text/plain": [
       "<keras.callbacks.History at 0x1631c489c18>"
      ]
     },
     "execution_count": 62,
     "metadata": {},
     "output_type": "execute_result"
    }
   ],
   "source": [
    "# Compiling the model\n",
    "fcnn.compile(loss=\"binary_crossentropy\", optimizer=\"adam\", metrics=[\"accuracy\"])\n",
    "\n",
    "# Defining callbacks\n",
    "filepath=\"SBIN_move_predictor_weights.hdf5\"\n",
    "checkpoint = ModelCheckpoint(filepath, monitor='val_accuracy', verbose=1, \n",
    "                             save_best_only=True, mode='max')\n",
    "callbacks_list = [checkpoint]\n",
    "\n",
    "# Scaling the data for better model fit\n",
    "scaler = StandardScaler()\n",
    "X_train = scaler.fit_transform(X_train)\n",
    "\n",
    "# Fitting the model\n",
    "fcnn.fit(X_train, y_train, epochs=30, \n",
    "         batch_size=16, validation_split=0.15,\n",
    "         callbacks=callbacks_list)"
   ]
  },
  {
   "cell_type": "code",
   "execution_count": 63,
   "metadata": {},
   "outputs": [
    {
     "name": "stdout",
     "output_type": "stream",
     "text": [
      "Test set accuracy : 51.845018450184504\n"
     ]
    }
   ],
   "source": [
    "def get_test_acc(y_pred, y_test):\n",
    "    \n",
    "    correct = 0\n",
    "    for i in range(len(y_pred)):\n",
    "        if y_pred[i] == y_test[i]: correct += 1\n",
    "        else: pass\n",
    "        \n",
    "    return 100*correct/len(y_pred)\n",
    "\n",
    "\n",
    "# Scaling test data\n",
    "X_test = scaler.transform(X_test)\n",
    "\n",
    "# Applying model on test data\n",
    "y_pred = fcnn.predict_classes(X_test)\n",
    "y_pred = np.squeeze(y_pred)\n",
    "\n",
    "print(\"Test set accuracy : {}\".format(get_test_acc(y_pred, y_test)))"
   ]
  },
  {
   "cell_type": "markdown",
   "metadata": {},
   "source": [
    "### Using ensembles :-"
   ]
  },
  {
   "cell_type": "code",
   "execution_count": 66,
   "metadata": {},
   "outputs": [
    {
     "data": {
      "text/plain": [
       "0.540590405904059"
      ]
     },
     "execution_count": 66,
     "metadata": {},
     "output_type": "execute_result"
    }
   ],
   "source": [
    "from sklearn.ensemble import VotingClassifier\n",
    "\n",
    "# Creating Voting classifier\n",
    "vote_clf = VotingClassifier(estimators=[('lr', lr),\n",
    "                                     ('knn', neigh),\n",
    "                                     ('xgb', xgb_clf)],\n",
    "                         voting='hard')\n",
    "\n",
    "# Fitting voting classifer model\n",
    "vote_clf.fit(X_train,y_train)\n",
    "\n",
    "# Applying on test set\n",
    "vote_clf.score(X_test,y_test)"
   ]
  },
  {
   "cell_type": "code",
   "execution_count": 45,
   "metadata": {},
   "outputs": [
    {
     "data": {
      "text/plain": [
       "StackingClassifier(classifiers=[LogisticRegression(C=3036.6223939178935,\n",
       "                                                   random_state=2021),\n",
       "                                KNeighborsClassifier(),\n",
       "                                XGBClassifier(learning_rate=0.03, max_depth=6,\n",
       "                                              n_estimators=810, n_jobs=-1,\n",
       "                                              verbosity=0)],\n",
       "                   fit_base_estimators=False,\n",
       "                   meta_classifier=LogisticRegression(random_state=2021),\n",
       "                   use_clones=False)"
      ]
     },
     "execution_count": 45,
     "metadata": {},
     "output_type": "execute_result"
    }
   ],
   "source": [
    "from mlxtend.classifier import StackingClassifier\n",
    "\n",
    "meta_lr = LogisticRegression(random_state=2021)\n",
    "\n",
    "sclf = StackingClassifier(classifiers=[lr, neigh, xgb_clf], \n",
    "                          meta_classifier=meta_lr,\n",
    "                          fit_base_estimators=False)\n",
    "\n",
    "sclf.fit(X_train, y_train)"
   ]
  },
  {
   "cell_type": "code",
   "execution_count": 48,
   "metadata": {},
   "outputs": [
    {
     "data": {
      "text/plain": [
       "0.5295202952029521"
      ]
     },
     "execution_count": 48,
     "metadata": {},
     "output_type": "execute_result"
    }
   ],
   "source": [
    "np.mean(y_test == sclf.predict(X_test))"
   ]
  },
  {
   "cell_type": "code",
   "execution_count": null,
   "metadata": {},
   "outputs": [],
   "source": []
  }
 ],
 "metadata": {
  "kernelspec": {
   "display_name": "Python 3",
   "language": "python",
   "name": "python3"
  },
  "language_info": {
   "codemirror_mode": {
    "name": "ipython",
    "version": 3
   },
   "file_extension": ".py",
   "mimetype": "text/x-python",
   "name": "python",
   "nbconvert_exporter": "python",
   "pygments_lexer": "ipython3",
   "version": "3.6.5"
  }
 },
 "nbformat": 4,
 "nbformat_minor": 2
}
